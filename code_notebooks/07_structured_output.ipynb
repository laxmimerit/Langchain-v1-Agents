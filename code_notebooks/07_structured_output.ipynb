{
 "cells": [
  {
   "cell_type": "markdown",
   "metadata": {},
   "source": [
    "# Structured Output with Pydantic V2 - Minimal Implementation\n",
    "\n",
    "Simple example of getting structured data from agents using Pydantic V2.\n",
    "\n",
    "## Key Concept\n",
    "Instead of free-form text → Get validated, structured data objects"
   ]
  },
  {
   "cell_type": "markdown",
   "metadata": {},
   "source": [
    "## Prerequisites\n",
    "\n",
    "```bash\n",
    "pip install --pre pydantic langchain langchain-ollama\n",
    "ollama pull qwen3\n",
    "```"
   ]
  },
  {
   "cell_type": "code",
   "execution_count": null,
   "metadata": {},
   "outputs": [],
   "source": [
    "from pydantic import BaseModel, Field\n",
    "from langchain_ollama import ChatOllama\n",
    "from langchain.agents import create_agent\n",
    "import tools"
   ]
  },
  {
   "cell_type": "markdown",
   "metadata": {},
   "source": [
    "## Define Data Structure"
   ]
  },
  {
   "cell_type": "code",
   "execution_count": null,
   "metadata": {},
   "outputs": [],
   "source": [
    "# Simple contact information model\n",
    "class ContactInfo(BaseModel):\n",
    "    name: str = Field(description=\"Full name\")\n",
    "    email: str = Field(description=\"Email address\") \n",
    "    phone: str = Field(description=\"Phone number\")\n",
    "    company: str = Field(default=\"Unknown\", description=\"Company name\")\n",
    "\n",
    "print(\"✓ ContactInfo model defined\")\n",
    "print(f\"Fields: {list(ContactInfo.model_fields.keys())}\")"
   ]
  },
  {
   "cell_type": "markdown",
   "metadata": {},
   "source": [
    "## Create Agent"
   ]
  },
  {
   "cell_type": "code",
   "execution_count": null,
   "metadata": {},
   "outputs": [],
   "source": [
    "model = ChatOllama(model=\"qwen3\")\n",
    "agent = create_agent(model, tools=[tools.extract_contact])\n",
    "print(\"✓ Agent created\")"
   ]
  },
  {
   "cell_type": "markdown",
   "metadata": {},
   "source": [
    "## Test Structured Output"
   ]
  },
  {
   "cell_type": "code",
   "execution_count": null,
   "metadata": {},
   "outputs": [],
   "source": [
    "# Test with sample text\n",
    "text = \"John Doe, john@example.com, (555) 123-4567, works at TechCorp\"\n",
    "\n",
    "result = agent.invoke({\"messages\": f\"Extract contact info: {text}\"})\n",
    "print(f\"Agent response: {result['messages'][-1].content}\")\n",
    "\n",
    "# Create structured data (simulated)\n",
    "contact = ContactInfo(\n",
    "    name=\"John Doe\",\n",
    "    email=\"john@example.com\", \n",
    "    phone=\"(555) 123-4567\",\n",
    "    company=\"TechCorp\"\n",
    ")\n",
    "\n",
    "print(f\"\\nStructured data: {contact}\")\n",
    "print(f\"As JSON: {contact.model_dump_json()}\")\n",
    "print(f\"As dict: {contact.model_dump()}\")\n",
    "\n",
    "print(\"✅ Structured output working!\")"
   ]
  }
 ],
 "metadata": {
  "kernelspec": {
   "display_name": "langchain-v1-agents",
   "language": "python",
   "name": "python3"
  },
  "language_info": {
   "codemirror_mode": {
    "name": "ipython",
    "version": 3
   },
   "file_extension": ".py",
   "mimetype": "text/x-python",
   "name": "python",
   "nbconvert_exporter": "python",
   "pygments_lexer": "ipython3",
   "version": "3.12.9"
  }
 },
 "nbformat": 4,
 "nbformat_minor": 4
}
