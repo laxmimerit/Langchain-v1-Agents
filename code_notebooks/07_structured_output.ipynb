{
 "cells": [
  {
   "cell_type": "markdown",
   "metadata": {},
   "source": [
    "# Structured Output with Pydantic V2\n",
    "\n",
    "Simple example of getting structured data from agents using Pydantic V2.\n",
    "\n",
    "## Key Concept\n",
    "Instead of free-form text → Get validated, structured data objects"
   ]
  },
  {
   "cell_type": "code",
   "execution_count": 8,
   "metadata": {},
   "outputs": [],
   "source": [
    "from pydantic import BaseModel, Field\n",
    "from langchain_ollama import ChatOllama\n",
    "from langchain.agents import create_agent\n",
    "# import tools"
   ]
  },
  {
   "cell_type": "markdown",
   "metadata": {},
   "source": [
    "## Define Data Structure"
   ]
  },
  {
   "cell_type": "code",
   "execution_count": 9,
   "metadata": {},
   "outputs": [],
   "source": [
    "class ContactInfo(BaseModel):\n",
    "    name: str\n",
    "    email: str\n",
    "    phone: str\n",
    "\n",
    "\n",
    "class ListofContactInfo(BaseModel):\n",
    "    contacts: list[ContactInfo] = Field(..., description=\"List of contact information\")"
   ]
  },
  {
   "cell_type": "markdown",
   "metadata": {},
   "source": [
    "## Test Simple Structured Output"
   ]
  },
  {
   "cell_type": "code",
   "execution_count": 10,
   "metadata": {},
   "outputs": [
    {
     "data": {
      "text/plain": [
       "{'messages': [HumanMessage(content='Extract contact info from: John Doe, john@example.com, (555) 123-4567, Jon Do, john@example.com1, (555) 123', additional_kwargs={}, response_metadata={}, id='ad877bed-4da7-4d2b-904d-8009902a2662'),\n",
       "  AIMessage(content='<think>\\nOkay, let\\'s see. The user wants me to extract contact info from the given text. The input is: John Doe, john@example.com, (555) 123-4567, Jon Do, john@example.com1, (555) 123.\\n\\nFirst, I need to parse this data. The entries are separated by commas, but there might be some inconsistencies. Let me list them out:\\n\\n1. John Doe\\n2. john@example.com\\n3. (555) 123-4567\\n4. Jon Do\\n5. john@example.com1\\n6. (555) 123\\n\\nWait, the fourth entry is \"Jon Do\" which looks like a name, but the third entry is a phone number. The fifth entry is an email with \"com1\" which might be a typo. The sixth is a phone number but incomplete, missing the last few digits.\\n\\nSo, the user provided two names, two emails, and two phone numbers. But some entries might be duplicates or errors. The first name is John Doe, then Jon Do, which could be a typo or a different person. The emails: john@example.com is valid, but john@example.com1 might be incorrect because emails can\\'t have \"com1\" after the domain. The phone numbers: (555) 123-4567 is valid, but (555) 123 is missing the last four digits.\\n\\nBut the user\\'s instruction is to extract contact info, so maybe they want all the entries, even if some are incomplete. However, the function requires name, email, and phone. Let me check the function parameters again. The ContactInfo function requires name, email, and phone. So each contact should have all three.\\n\\nLooking at the data, the first three entries are name, email, phone. Then the fourth is another name, fifth email, sixth phone. But the emails and phone numbers are inconsistent. The fifth email is invalid, and the sixth phone is incomplete.\\n\\nBut maybe the user expects to pair them as they are. Let me see:\\n\\nFirst name: John Doe, email: john@example.com, phone: (555) 123-4567. Then the next name is Jon Do, email is john@example.com1 (which might be a typo, maybe they meant john@example.com?), and phone is (555) 123 (missing digits). But the user might not care about validity, just extraction.\\n\\nAlternatively, maybe the entries are in the order name, email, phone, repeated. So the first three are one contact, then the next three are another. But the sixth entry is a phone number with only 7 digits, which is invalid. However, the function might still accept it, or maybe the user wants to include it as is.\\n\\nSo, the possible contacts are:\\n\\nContact 1:\\nName: John Doe\\nEmail: john@example.com\\nPhone: (555) 123-4567\\n\\nContact 2:\\nName: Jon Do\\nEmail: john@example.com1\\nPhone: (555) 123\\n\\nBut the email for contact 2 is invalid. However, the user might not care about validation, just extraction. So I should present both contacts as per the input, even if some data is incomplete or incorrect.\\n\\nAlternatively, maybe the user intended the first three as one contact and the next three as another, but the sixth phone number is incomplete. So the function call would need to include all entries, even if some are invalid. Therefore, the answer would have two contact entries, each with name, email, and phone, even if some are invalid.\\n</think>\\n\\n', additional_kwargs={}, response_metadata={'model': 'qwen3', 'created_at': '2025-10-02T15:26:42.0495629Z', 'done': True, 'done_reason': 'stop', 'total_duration': 7602154200, 'load_duration': 1729132100, 'prompt_eval_count': 196, 'prompt_eval_duration': 312357200, 'eval_count': 875, 'eval_duration': 5560046700, 'model_name': 'qwen3'}, id='run--a701d486-4bde-4c0d-9442-e8fa286d1645-0', tool_calls=[{'type': 'tool_call', 'id': '2c16de82-d573-434a-abb2-f79ebdc3b332', 'name': 'ContactInfo', 'args': {'email': 'john@example.com', 'name': 'John Doe', 'phone': '(555) 123-4567'}}, {'type': 'tool_call', 'id': '0f7dc553-66aa-40c1-bc8e-8a476297d465', 'name': 'ContactInfo', 'args': {'email': 'john@example.com1', 'name': 'Jon Do', 'phone': '(555) 123'}}], usage_metadata={'input_tokens': 196, 'output_tokens': 875, 'total_tokens': 1071}),\n",
       "  ToolMessage(content='Error: Model incorrectly returned multiple structured responses (ContactInfo, ContactInfo) when only one is expected.\\n Please fix your mistakes.', name='ContactInfo', id='ea0d6aa4-7a70-4a7e-8a77-61b9be7de300', tool_call_id='2c16de82-d573-434a-abb2-f79ebdc3b332'),\n",
       "  ToolMessage(content='Error: Model incorrectly returned multiple structured responses (ContactInfo, ContactInfo) when only one is expected.\\n Please fix your mistakes.', name='ContactInfo', id='77c92dfe-e0e3-44f6-8fad-8f038ebda1f1', tool_call_id='0f7dc553-66aa-40c1-bc8e-8a476297d465'),\n",
       "  AIMessage(content=\"<think>\\nOkay, let me try to figure out what's going on here. The user initially asked to extract contact info from a list of entries. The assistant tried to parse the data and returned two ContactInfo entries, but the system responded with an error saying that multiple responses were returned when only one is expected.\\n\\nHmm, the user's original input had six entries: two names, two emails, two phone numbers. The assistant probably split them into two contacts, but the system expects a single contact info entry. Maybe the user wants all the information in one contact, even if some fields are duplicates or have errors.\\n\\nWait, looking back, the user's instruction was to extract contact info, not necessarily to create multiple contacts. So perhaps the correct approach is to combine all the entries into a single ContactInfo object, even if some fields are duplicated or invalid. For example, the name could be John Doe and Jon Do, but that's conflicting. Alternatively, maybe the first name is John Doe, the email is john@example.com, and the phone is (555) 123-4567, then the next entries are duplicates or errors. But the system expects only one ContactInfo response.\\n\\nSo the mistake was returning two separate ContactInfo objects. The correct fix is to return a single ContactInfo object, possibly combining the valid fields. However, the user's data has inconsistencies. Maybe the intended contact is John Doe with the valid email and phone, and the rest are errors. So the assistant should return one ContactInfo with the valid entries, ignoring the duplicates or invalid ones. That way, only one tool call is made, which aligns with the system's requirement.\\n</think>\\n\\n\", additional_kwargs={}, response_metadata={'model': 'qwen3', 'created_at': '2025-10-02T15:26:44.746226Z', 'done': True, 'done_reason': 'stop', 'total_duration': 2688480600, 'load_duration': 117497800, 'prompt_eval_count': 1054, 'prompt_eval_duration': 24408400, 'eval_count': 392, 'eval_duration': 2508815200, 'model_name': 'qwen3'}, id='run--b8542d32-f6dd-411e-89fa-96ee8a405354-0', tool_calls=[{'type': 'tool_call', 'id': 'b413c8c6-9fc5-479f-b5f9-a3487408da02', 'name': 'ContactInfo', 'args': {'email': 'john@example.com', 'name': 'John Doe', 'phone': '(555) 123-4567'}}], usage_metadata={'input_tokens': 1054, 'output_tokens': 392, 'total_tokens': 1446}),\n",
       "  ToolMessage(content=\"Returning structured response: {'name': 'John Doe', 'email': 'john@example.com', 'phone': '(555) 123-4567'}\", name='ContactInfo', id='ebfd7066-3806-47bf-ab0f-968c7e810289', tool_call_id='b413c8c6-9fc5-479f-b5f9-a3487408da02')],\n",
       " 'structured_response': ContactInfo(name='John Doe', email='john@example.com', phone='(555) 123-4567')}"
      ]
     },
     "execution_count": 10,
     "metadata": {},
     "output_type": "execute_result"
    }
   ],
   "source": [
    "model = ChatOllama(model=\"qwen3\")\n",
    "\n",
    "agent = create_agent(\n",
    "    model,\n",
    "    tools=[], # if case if you don't want to use any tools, just pass an empty list\n",
    "    response_format=ContactInfo\n",
    ")\n",
    "\n",
    "result = agent.invoke({\n",
    "    \"messages\":\"Extract contact info from: John Doe, john@example.com, (555) 123-4567, Jon Do, john@example.com1, (555) 123\"\n",
    "})\n",
    "\n",
    "result"
   ]
  },
  {
   "cell_type": "markdown",
   "metadata": {},
   "source": [
    "## Test Complex Structured Output"
   ]
  },
  {
   "cell_type": "code",
   "execution_count": 11,
   "metadata": {},
   "outputs": [
    {
     "data": {
      "text/plain": [
       "{'messages': [HumanMessage(content='Extract contact info from: John Doe, john@example.com, (555) 123-4567, Jon Do, john@example.com1, (555) 123', additional_kwargs={}, response_metadata={}, id='3b45cf0f-1a98-4d15-9c04-9994db6efa8d'),\n",
       "  AIMessage(content='<think>\\nOkay, let\\'s see. The user wants me to extract contact info from the given text. The input is: John Doe, john@example.com, (555) 123-4567, Jon Do, john@example.com1, (555) 123.\\n\\nFirst, I need to parse this data. It looks like the information is separated by commas. Let me split it into individual parts. So, the first part is \"John Doe\" which is likely the name. Then the email is \"john@example.com\". Next is the phone number \"(555) 123-4567\". Then there\\'s \"Jon Do\" which might be another name, possibly a typo or a different entry. The next part is \"john@example.com1\" which seems like an email but has a number at the end, maybe an error. The last part is \"(555) 123\" which is a phone number but missing the last four digits.\\n\\nNow, I need to check if these entries are valid. The first entry has a name, email, and phone. The next entries might be duplicates or errors. \"Jon Do\" could be a different person, but the email \"john@example.com1\" isn\\'t standard. The phone number \"(555) 123\" is incomplete. \\n\\nI should consider that maybe the user intended to list multiple contacts. Let me check the parameters of the function provided. The function requires an array of contacts, each with name, email, and phone. So each contact must have all three fields. \\n\\nLooking at the input, the first three entries form a valid contact: John Doe, john@example.com, (555) 123-4567. Then there\\'s \"Jon Do\" which is a name, but no email or phone. Then \"john@example.com1\" is an email but no name or phone. The last part is a phone number but no name or email. \\n\\nSo maybe the user made a mistake in formatting. Perhaps the entries are supposed to be grouped. Let me see if there\\'s a way to pair them correctly. For example, maybe \"Jon Do\" is the name, \"john@example.com1\" is the email, and \"(555) 123\" is the phone. But the phone is incomplete. Alternatively, maybe the last phone number is a typo and should be \"(555) 123-4567\" again. \\n\\nAlternatively, the input might have some errors, and I need to extract the valid ones. The first contact is valid. The second name \"Jon Do\" might be a typo for \"John Doe\" again. The email \"john@example.com1\" could be invalid, and the phone is incomplete. \\n\\nSince the function requires each contact to have name, email, and phone, I need to make sure each entry in the array has all three. So, maybe the correct contacts are:\\n\\n1. Name: John Doe, Email: john@example.com, Phone: (555) 123-4567\\n2. Name: Jon Do, Email: john@example.com1, Phone: (555) 123 (but this phone is incomplete)\\n\\nBut the phone number is missing digits. Maybe the user intended to have the phone as \"(555) 123\" but that\\'s not a valid number. Alternatively, maybe the last part is a typo and should be \"(555) 123-4567\" again. \\n\\nAlternatively, maybe the input is split into two contacts. The first three entries form the first contact, and the next three entries form the second contact. But the second contact\\'s email is invalid, and the phone is incomplete. \\n\\nGiven that, perhaps the correct approach is to extract the first valid contact and note the errors. However, the user might expect that all entries are part of the contacts. So, maybe the second contact is Jon Do with email john@example.com1 and phone (555) 123, even though the phone is incomplete. \\n\\nAlternatively, maybe the user made a mistake in the input, and the correct phone number is (555) 123-4567 again. But without more information, I should proceed with the data as given. \\n\\nSo, the final contacts would be:\\n\\n1. Name: John Doe, Email: john@example.com, Phone: (555) 123-4567\\n2. Name: Jon Do, Email: john@example.com1, Phone: (555) 123\\n\\nBut the second phone is incomplete. However, the function requires all three fields, so I have to include them even if they\\'re incomplete. Alternatively, maybe the user intended the second phone number to be (555) 123-4567 again, but that\\'s just a guess. \\n\\nIn the absence of more information, I\\'ll proceed with the data as given, even if some entries are incomplete or invalid.\\n</think>\\n\\n', additional_kwargs={}, response_metadata={'model': 'qwen3', 'created_at': '2025-10-02T15:29:06.7831248Z', 'done': True, 'done_reason': 'stop', 'total_duration': 7528574200, 'load_duration': 66598900, 'prompt_eval_count': 215, 'prompt_eval_duration': 186237300, 'eval_count': 1151, 'eval_duration': 7272420500, 'model_name': 'qwen3'}, id='run--13266dbb-8696-42c0-8dad-55a3e7bdef90-0', tool_calls=[{'type': 'tool_call', 'id': '258ee712-73e6-4221-9327-c68200e0cf62', 'name': 'ListofContactInfo', 'args': {'contacts': [{'email': 'john@example.com', 'name': 'John Doe', 'phone': '(555) 123-4567'}, {'email': 'john@example.com1', 'name': 'Jon Do', 'phone': '(555) 123'}]}}], usage_metadata={'input_tokens': 215, 'output_tokens': 1151, 'total_tokens': 1366}),\n",
       "  ToolMessage(content=\"Returning structured response: {'contacts': [{'name': 'John Doe', 'email': 'john@example.com', 'phone': '(555) 123-4567'}, {'name': 'Jon Do', 'email': 'john@example.com1', 'phone': '(555) 123'}]}\", name='ListofContactInfo', id='5afd013a-8ad7-4b29-a6ea-8aba62fbc6df', tool_call_id='258ee712-73e6-4221-9327-c68200e0cf62')],\n",
       " 'structured_response': ListofContactInfo(contacts=[ContactInfo(name='John Doe', email='john@example.com', phone='(555) 123-4567'), ContactInfo(name='Jon Do', email='john@example.com1', phone='(555) 123')])}"
      ]
     },
     "execution_count": 11,
     "metadata": {},
     "output_type": "execute_result"
    }
   ],
   "source": [
    "model = ChatOllama(model=\"qwen3\")\n",
    "\n",
    "agent = create_agent(\n",
    "    model,\n",
    "    tools=[], # if case if you don't want to use any tools, just pass an empty list\n",
    "    response_format=ListofContactInfo\n",
    ")\n",
    "\n",
    "result = agent.invoke({\n",
    "    \"messages\":\"Extract contact info from: John Doe, john@example.com, (555) 123-4567, Jon Do, john@example.com1, (555) 123\"\n",
    "})\n",
    "result"
   ]
  },
  {
   "cell_type": "code",
   "execution_count": 17,
   "metadata": {},
   "outputs": [
    {
     "name": "stdout",
     "output_type": "stream",
     "text": [
      "name='John Doe' email='john@example.com' phone='(555) 123-4567'\n",
      "name='Jon Do' email='john@example.com1' phone='(555) 123'\n"
     ]
    }
   ],
   "source": [
    "print(result['structured_response'].contacts[0])\n",
    "print(result['structured_response'].contacts[1])"
   ]
  }
 ],
 "metadata": {
  "kernelspec": {
   "display_name": "langchain-v1-agents",
   "language": "python",
   "name": "python3"
  },
  "language_info": {
   "codemirror_mode": {
    "name": "ipython",
    "version": 3
   },
   "file_extension": ".py",
   "mimetype": "text/x-python",
   "name": "python",
   "nbconvert_exporter": "python",
   "pygments_lexer": "ipython3",
   "version": "3.12.9"
  }
 },
 "nbformat": 4,
 "nbformat_minor": 4
}
