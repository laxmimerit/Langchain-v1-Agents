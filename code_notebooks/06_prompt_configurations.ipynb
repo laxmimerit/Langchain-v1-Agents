{
 "cells": [
  {
   "cell_type": "markdown",
   "metadata": {},
   "source": [
    "# Three Methods of Prompt Configuration\n",
    "\n",
    "This notebook demonstrates different approaches to configuring agent prompts.\n",
    "\n",
    "## Key Concepts\n",
    "- **Method 1**: String Prompt (simplest)\n",
    "- **Method 2**: SystemMessage (structured)\n",
    "\n",
    "## When to Use Each Method\n",
    "- **String**: Simple, static agents\n",
    "- **SystemMessage**: Production chat agents"
   ]
  },
  {
   "cell_type": "code",
   "execution_count": 1,
   "metadata": {},
   "outputs": [],
   "source": [
    "# Import required modules\n",
    "from langchain_ollama import ChatOllama\n",
    "from langchain.agents import create_agent\n",
    "from langchain_core.messages import SystemMessage\n",
    "from typing import TypedDict\n",
    "import tools"
   ]
  },
  {
   "cell_type": "markdown",
   "metadata": {},
   "source": [
    "## Method 1: Simple String Prompt\n",
    "\n",
    "The simplest approach - direct string instruction to the agent."
   ]
  },
  {
   "cell_type": "code",
   "execution_count": 2,
   "metadata": {},
   "outputs": [
    {
     "name": "stdout",
     "output_type": "stream",
     "text": [
      "=== Method 1: Simple String Prompt ===\n",
      "✓ Agent 1 created with string prompt\n",
      "  Characteristics:\n",
      "  - Direct string instruction\n",
      "  - Simple and readable\n",
      "  - Good for basic use cases\n",
      "  - Easy to modify\n"
     ]
    }
   ],
   "source": [
    "print(\"=== Method 1: Simple String Prompt ===\")\n",
    "\n",
    "# Create model instance\n",
    "model = ChatOllama(model=\"qwen3\")\n",
    "\n",
    "# Method 1: String prompt (simplest)\n",
    "agent1 = create_agent(\n",
    "    model,\n",
    "    [tools.helper_tool],\n",
    "    prompt=\"You are a helpful assistant. Be concise and accurate in your responses.\"\n",
    ")\n",
    "\n",
    "print(\"✓ Agent 1 created with string prompt\")\n",
    "print(\"  Characteristics:\")\n",
    "print(\"  - Direct string instruction\")\n",
    "print(\"  - Simple and readable\")\n",
    "print(\"  - Good for basic use cases\")\n",
    "print(\"  - Easy to modify\")"
   ]
  },
  {
   "cell_type": "markdown",
   "metadata": {},
   "source": [
    "## Method 2: SystemMessage Prompt\n",
    "\n",
    "Using LangChain's SystemMessage class for more structured prompt handling."
   ]
  },
  {
   "cell_type": "code",
   "execution_count": 3,
   "metadata": {},
   "outputs": [
    {
     "name": "stdout",
     "output_type": "stream",
     "text": [
      "=== Method 2: SystemMessage Prompt ===\n",
      "✓ Agent 2 created with SystemMessage prompt\n",
      "  Characteristics:\n",
      "  - Structured message object\n",
      "  - Better integration with chat models\n",
      "  - More explicit about message type\n",
      "  - Professional for production use\n"
     ]
    }
   ],
   "source": [
    "print(\"=== Method 2: SystemMessage Prompt ===\")\n",
    "\n",
    "# Method 2: SystemMessage prompt (structured)\n",
    "agent2 = create_agent(\n",
    "    model,\n",
    "    [tools.helper_tool],\n",
    "    prompt=SystemMessage(content=\"You are a research assistant. Always cite your sources and provide detailed explanations.\")\n",
    ")\n",
    "\n",
    "print(\"✓ Agent 2 created with SystemMessage prompt\")\n",
    "print(\"  Characteristics:\")\n",
    "print(\"  - Structured message object\")\n",
    "print(\"  - Better integration with chat models\")\n",
    "print(\"  - More explicit about message type\")\n",
    "print(\"  - Professional for production use\")"
   ]
  },
  {
   "cell_type": "markdown",
   "metadata": {},
   "source": [
    "## Testing All Two Types of Prompt\n",
    "\n",
    "Let's test all agents with the same question to see their different behaviors:"
   ]
  },
  {
   "cell_type": "code",
   "execution_count": 4,
   "metadata": {},
   "outputs": [
    {
     "name": "stdout",
     "output_type": "stream",
     "text": [
      "Testing all agents with: 'Help me understand artificial intelligence'\n",
      "======================================================================\n",
      "\n",
      "=== Agent 1 Response (String Prompt) ===\n",
      "Expected: Concise and accurate response\n",
      "Response: <think>\n",
      "Okay, the user is asking for help understanding artificial intelligence. They've already received a general explanation, but they're responding with a tool call, which might indicate they want a more structured or detailed breakdown. Let me check the tools available. The helper_tool is designed for various assistance requests, so I should use that to provide a comprehensive explanation. I'll need to cover the definition, key concepts, applications, and implications of AI. I'll structure this in a clear and concise manner, avoiding jargon. Finally, I'll ask if they need more details on any specific area. Let me make sure the response is helpful and easy to follow.\n",
      "</think>\n",
      "\n",
      "**Artificial Intelligence (AI)** is a branch of computer science focused on creating systems that can perform tasks requiring human intelligence, such as learning, problem-solving, and decision-making. Here's a breakdown:\n",
      "\n",
      "### **Key Concepts**\n",
      "1. **Machine Learning**: AI systems learn from data, improving over time without explicit programming (e.g., recommendation algorithms).\n",
      "2. **Natural Language Processing (NLP)**: Enables machines to understand and generate human language (e.g., chatbots, translation tools).\n",
      "3. **Computer Vision**: Allows systems to interpret and analyze visual data (e.g., facial recognition, self-driving cars).\n",
      "\n",
      "### **Applications**\n",
      "- **Daily Life**: Voice assistants (Siri, Alexa), personalized recommendations (Netflix, Spotify).\n",
      "- **Healthcare**: Diagnostic tools, drug discovery.\n",
      "- **Finance**: Fraud detection, algorithmic trading.\n",
      "- **Transportation**: Autonomous vehicles.\n",
      "\n",
      "### **Implications**\n",
      "- **Benefits**: Efficiency, automation, improved decision-making.\n",
      "- **Challenges**: Ethical concerns (bias, privacy), job displacement, reliance on data.\n",
      "\n",
      "Would you like to explore any specific aspect of AI in more detail?\n",
      "\n",
      "=== Agent 2 Response (SystemMessage Prompt) ===\n",
      "Expected: Detailed explanation with research focus\n",
      "Response: <think>\n",
      "Okay, the user wants to understand artificial intelligence. Let me start by breaking down what AI is. I should define it clearly, maybe mention that it's a branch of computer science. Then, I can talk about its main goals, like enabling machines to perform tasks that usually require human intelligence. Examples like problem-solving, learning, and decision-making would help.\n",
      "\n",
      "Wait, I should also cover the different types of AI. There's narrow AI, which is what we use today for specific tasks, and general AI, which is more theoretical. Maybe mention some applications they might know, like virtual assistants or recommendation systems. Oh, and include some key concepts like machine learning and neural networks. But I need to explain these in simple terms without getting too technical.\n",
      "\n",
      "I should also touch on the history a bit, like when AI started and some milestones. But keep it concise. The user might be looking for a basic overview, so I shouldn't dive too deep. Let me structure this in a way that's easy to follow: definition, types, key concepts, applications, and maybe a note on ethical considerations. Make sure to offer further help in case they have more specific questions. Let me check if I need to use any functions here. The helper tool is available, but since the user is asking for an explanation, I can provide the information directly without a tool call. Alright, time to put this all together clearly.\n",
      "</think>\n",
      "\n",
      "Artificial Intelligence (AI) is a branch of computer science focused on creating systems that can perform tasks typically requiring human intelligence, such as problem-solving, learning, and decision-making. Here's a structured breakdown:\n",
      "\n",
      "### **Key Concepts**\n",
      "1. **Definition**: AI involves machines (like computers or robots) mimicking human cognitive functions, including reasoning, perception, and language understanding.\n",
      "2. **Types of AI**:\n",
      "   - **Narrow AI**: Designed for specific tasks (e.g., voice assistants, recommendation systems).\n",
      "   - **General AI**: Theoretical, aiming for human-like adaptability and consciousness (not yet achieved).\n",
      "3. **Subfields**:\n",
      "   - **Machine Learning**: Algorithms that learn patterns from data (e.g., predicting trends).\n",
      "   - **Natural Language Processing (NLP)**: Enables machines to understand and generate human language (e.g., chatbots).\n",
      "   - **Computer Vision**: Allows systems to interpret visual data (e.g., facial recognition).\n",
      "\n",
      "### **Applications**\n",
      "- **Healthcare**: Diagnostic tools, personalized treatment plans.\n",
      "- **Finance**: Fraud detection, algorithmic trading.\n",
      "- **Transportation**: Autonomous vehicles, traffic optimization.\n",
      "- **Entertainment**: Content recommendations, gaming AI.\n",
      "\n",
      "### **History & Milestones**\n",
      "- **1950s**: Alan Turing's \"Test of Intelligence\" and early symbolic AI.\n",
      "- **1980s–1990s**: Rise of machine learning and expert systems.\n",
      "- **2010s**: Explosion of big data and deep learning (e.g., neural networks).\n",
      "\n",
      "### **Ethical Considerations**\n",
      "- Privacy concerns (e.g., data collection).\n",
      "- Bias in algorithms (e.g., discriminatory outcomes).\n",
      "- Job displacement debates.\n",
      "\n",
      "Would you like to explore a specific aspect of AI, such as its history, technical details, or ethical implications?\n"
     ]
    }
   ],
   "source": [
    "# Test question for all agents\n",
    "test_question = \"Help me understand artificial intelligence\"\n",
    "\n",
    "print(f\"Testing all agents with: '{test_question}'\")\n",
    "print(\"=\" * 70)\n",
    "\n",
    "# Test Agent 1 (String prompt)\n",
    "print(\"\\n=== Agent 1 Response (String Prompt) ===\")\n",
    "print(\"Expected: Concise and accurate response\")\n",
    "\n",
    "result1 = agent1.invoke({\"messages\": test_question})\n",
    "print(f\"Response: {result1['messages'][-1].content}\")\n",
    "\n",
    "# Test Agent 2 (SystemMessage prompt)\n",
    "print(\"\\n=== Agent 2 Response (SystemMessage Prompt) ===\")\n",
    "print(\"Expected: Detailed explanation with research focus\")\n",
    "\n",
    "result2 = agent2.invoke({\"messages\": test_question})\n",
    "print(f\"Response: {result2['messages'][-1].content}\")"
   ]
  },
  {
   "cell_type": "code",
   "execution_count": null,
   "metadata": {},
   "outputs": [],
   "source": []
  }
 ],
 "metadata": {
  "kernelspec": {
   "display_name": "langchain-v1-agents",
   "language": "python",
   "name": "python3"
  },
  "language_info": {
   "codemirror_mode": {
    "name": "ipython",
    "version": 3
   },
   "file_extension": ".py",
   "mimetype": "text/x-python",
   "name": "python",
   "nbconvert_exporter": "python",
   "pygments_lexer": "ipython3",
   "version": "3.12.9"
  }
 },
 "nbformat": 4,
 "nbformat_minor": 4
}
