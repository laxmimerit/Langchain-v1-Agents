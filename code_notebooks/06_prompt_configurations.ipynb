{
 "cells": [
  {
   "cell_type": "markdown",
   "metadata": {},
   "source": [
    "# Three Methods of Prompt Configuration\n",
    "\n",
    "This notebook demonstrates different approaches to configuring agent prompts, from simple strings to dynamic, context-aware prompts.\n",
    "\n",
    "## Key Concepts\n",
    "- **Method 1**: String Prompt (simplest)\n",
    "- **Method 2**: SystemMessage (structured)\n",
    "- **Method 3**: Callable/Dynamic Prompt (advanced)\n",
    "\n",
    "## When to Use Each Method\n",
    "- **String**: Simple, static agents\n",
    "- **SystemMessage**: Production chat agents\n",
    "- **Callable**: Adaptive, personalized agents"
   ]
  },
  {
   "cell_type": "code",
   "execution_count": 1,
   "metadata": {},
   "outputs": [],
   "source": [
    "# Import required modules\n",
    "from langchain_ollama import ChatOllama\n",
    "from langchain.agents import create_agent\n",
    "from langchain_core.messages import SystemMessage\n",
    "import tools"
   ]
  },
  {
   "cell_type": "markdown",
   "metadata": {},
   "source": [
    "## Method 1: Simple String Prompt\n",
    "\n",
    "The simplest approach - direct string instruction to the agent."
   ]
  },
  {
   "cell_type": "code",
   "execution_count": 2,
   "metadata": {},
   "outputs": [
    {
     "name": "stdout",
     "output_type": "stream",
     "text": [
      "=== Method 1: Simple String Prompt ===\n",
      "✓ Agent 1 created with string prompt\n",
      "  Characteristics:\n",
      "  - Direct string instruction\n",
      "  - Simple and readable\n",
      "  - Good for basic use cases\n",
      "  - Easy to modify\n"
     ]
    }
   ],
   "source": [
    "print(\"=== Method 1: Simple String Prompt ===\")\n",
    "\n",
    "# Create model instance\n",
    "model = ChatOllama(model=\"qwen3\")\n",
    "\n",
    "# Method 1: String prompt (simplest)\n",
    "agent1 = create_agent(\n",
    "    model,\n",
    "    [tools.helper_tool],\n",
    "    prompt=\"You are a helpful assistant. Be concise and accurate in your responses.\"\n",
    ")\n",
    "\n",
    "print(\"✓ Agent 1 created with string prompt\")\n",
    "print(\"  Characteristics:\")\n",
    "print(\"  - Direct string instruction\")\n",
    "print(\"  - Simple and readable\")\n",
    "print(\"  - Good for basic use cases\")\n",
    "print(\"  - Easy to modify\")"
   ]
  },
  {
   "cell_type": "markdown",
   "metadata": {},
   "source": [
    "## Method 2: SystemMessage Prompt\n",
    "\n",
    "Using LangChain's SystemMessage class for more structured prompt handling."
   ]
  },
  {
   "cell_type": "code",
   "execution_count": 3,
   "metadata": {},
   "outputs": [
    {
     "name": "stdout",
     "output_type": "stream",
     "text": [
      "=== Method 2: SystemMessage Prompt ===\n",
      "✓ Agent 2 created with SystemMessage prompt\n",
      "  Characteristics:\n",
      "  - Structured message object\n",
      "  - Better integration with chat models\n",
      "  - More explicit about message type\n",
      "  - Professional for production use\n"
     ]
    }
   ],
   "source": [
    "print(\"=== Method 2: SystemMessage Prompt ===\")\n",
    "\n",
    "# Method 2: SystemMessage prompt (structured)\n",
    "agent2 = create_agent(\n",
    "    model,\n",
    "    [tools.helper_tool],\n",
    "    prompt=SystemMessage(content=\"You are a research assistant. Always cite your sources and provide detailed explanations.\")\n",
    ")\n",
    "\n",
    "print(\"✓ Agent 2 created with SystemMessage prompt\")\n",
    "print(\"  Characteristics:\")\n",
    "print(\"  - Structured message object\")\n",
    "print(\"  - Better integration with chat models\")\n",
    "print(\"  - More explicit about message type\")\n",
    "print(\"  - Professional for production use\")"
   ]
  },
  {
   "cell_type": "markdown",
   "metadata": {},
   "source": [
    "## Method 3: Dynamic Callable Prompt\n",
    "\n",
    "A function that generates prompts based on state - the most flexible approach."
   ]
  },
  {
   "cell_type": "code",
   "execution_count": 4,
   "metadata": {},
   "outputs": [
    {
     "name": "stdout",
     "output_type": "stream",
     "text": [
      "=== Method 3: Dynamic Callable Prompt ===\n",
      "✓ Agent 3 created with dynamic callable prompt\n",
      "  Characteristics:\n",
      "  - Adapts to user context\n",
      "  - Personalized responses\n",
      "  - Most flexible approach\n",
      "  - Perfect for adaptive systems\n"
     ]
    }
   ],
   "source": [
    "print(\"=== Method 3: Dynamic Callable Prompt ===\")\n",
    "\n",
    "# Method 3: Callable/Dynamic prompt (most flexible)\n",
    "def dynamic_prompt(state):\n",
    "    \"\"\"Generate prompt based on user type and context.\"\"\"\n",
    "    user_type = state.get(\"user_type\", \"standard\")\n",
    "    \n",
    "    if user_type == \"expert\":\n",
    "        system_msg = SystemMessage(content=\"Provide detailed technical responses with code examples and advanced concepts.\")\n",
    "    elif user_type == \"beginner\":\n",
    "        system_msg = SystemMessage(content=\"Provide simple, clear explanations suitable for beginners. Use analogies and avoid jargon.\")\n",
    "    else:  # standard\n",
    "        system_msg = SystemMessage(content=\"Provide balanced explanations that are informative but accessible.\")\n",
    "    \n",
    "    return [system_msg] + state[\"messages\"]\n",
    "\n",
    "agent3 = create_agent(model, [tools.helper_tool], prompt=dynamic_prompt)\n",
    "\n",
    "print(\"✓ Agent 3 created with dynamic callable prompt\")\n",
    "print(\"  Characteristics:\")\n",
    "print(\"  - Adapts to user context\")\n",
    "print(\"  - Personalized responses\")\n",
    "print(\"  - Most flexible approach\")\n",
    "print(\"  - Perfect for adaptive systems\")"
   ]
  },
  {
   "cell_type": "markdown",
   "metadata": {},
   "source": [
    "## Testing All Three Agents\n",
    "\n",
    "Let's test all agents with the same question to see their different behaviors:"
   ]
  },
  {
   "cell_type": "code",
   "execution_count": 5,
   "metadata": {},
   "outputs": [
    {
     "name": "stdout",
     "output_type": "stream",
     "text": [
      "Testing all agents with: 'Help me understand artificial intelligence'\n",
      "======================================================================\n",
      "\n",
      "=== Agent 1 Response (String Prompt) ===\n",
      "Expected: Concise and accurate response\n",
      "Response: <think>\n",
      "Okay, the user wants to understand artificial intelligence. Let me start by defining what AI is in simple terms. I should mention that it's a broad field involving machines performing tasks that usually require human intelligence, like learning, problem-solving, and decision-making. Maybe break it down into categories such as machine learning, natural language processing, and robotics. I should also explain common applications like virtual assistants, recommendation systems, and autonomous vehicles. It's important to highlight both the benefits, like efficiency and convenience, and the challenges, such as ethical concerns and job displacement. Keeping the explanation clear and avoiding jargon will help the user grasp the concept without confusion. Let me structure this in a way that's easy to follow, maybe starting with a definition, then key areas, applications, and implications. I should check if there's anything else they might need, like examples or further reading, but since they just asked for an understanding, this should cover the basics.\n",
      "</think>\n",
      "\n",
      "Artificial Intelligence (AI) is a broad field of computer science focused on creating systems that can perform tasks typically requiring human intelligence, such as learning, problem-solving, decision-making, and language understanding. Here's a concise breakdown:\n",
      "\n",
      "### **Key Areas of AI**  \n",
      "1. **Machine Learning**: Algorithms that improve through experience (e.g., recommendation systems).  \n",
      "2. **Natural Language Processing (NLP)**: Enables machines to understand and generate human language (e.g., chatbots).  \n",
      "3. **Computer Vision**: Allows systems to interpret and analyze visual data (e.g., facial recognition).  \n",
      "4. **Robotics**: Combines AI with physical machines to perform complex tasks.  \n",
      "\n",
      "### **Common Applications**  \n",
      "- Virtual assistants (e.g., Siri, Alexa).  \n",
      "- Autonomous vehicles (e.g., self-driving cars).  \n",
      "- Medical diagnostics and drug discovery.  \n",
      "- Fraud detection in finance.  \n",
      "\n",
      "### **Benefits & Challenges**  \n",
      "- **Benefits**: Efficiency, automation, and solving complex problems.  \n",
      "- **Challenges**: Ethical concerns (e.g., bias, privacy), job displacement, and reliance on data quality.  \n",
      "\n",
      "Would you like examples of specific AI technologies or further clarification on any part?\n",
      "\n",
      "=== Agent 2 Response (SystemMessage Prompt) ===\n",
      "Expected: Detailed explanation with research focus\n",
      "Response: <think>\n",
      "Okay, the user asked for help understanding artificial intelligence. I need to provide a clear and structured explanation. Let me start by defining AI as a branch of computer science. Then, break it down into key components like machine learning and deep learning. Mention applications in various fields such as healthcare and finance. Also, include ethical considerations and challenges. Make sure the explanation is easy to follow with examples. Let me organize this step by step to ensure clarity.\n",
      "</think>\n",
      "\n",
      "Here's a structured overview of artificial intelligence (AI):\n",
      "\n",
      "**1. Definition**  \n",
      "AI refers to systems designed to perform tasks typically requiring human intelligence, such as reasoning, problem-solving, perception, and learning. It encompasses machines, software, or robots that mimic cognitive functions.\n",
      "\n",
      "**2. Key Components**  \n",
      "- **Machine Learning (ML):** Algorithms that learn patterns from data (e.g., recommendation systems).  \n",
      "- **Deep Learning:** A subset of ML using neural networks to analyze complex data (e.g., image recognition).  \n",
      "- **Natural Language Processing (NLP):** Enables machines to understand and generate human language (e.g., chatbots).  \n",
      "- **Computer Vision:** Allows systems to interpret visual data (e.g., facial recognition).  \n",
      "\n",
      "**3. Applications**  \n",
      "- **Healthcare:** Diagnostic tools, drug discovery.  \n",
      "- **Finance:** Fraud detection, algorithmic trading.  \n",
      "- **Transportation:** Autonomous vehicles.  \n",
      "- **Entertainment:** Personalized content recommendations.  \n",
      "\n",
      "**4. Challenges & Ethics**  \n",
      "- **Bias:** AI systems may inherit biases from training data.  \n",
      "- **Transparency:** \"Black box\" algorithms lack explainability.  \n",
      "- **Job Disruption:** Automation may impact employment.  \n",
      "- **Safety:** Ensuring ethical use in critical systems (e.g., healthcare).  \n",
      "\n",
      "Would you like to dive deeper into any specific aspect?\n"
     ]
    }
   ],
   "source": [
    "# Test question for all agents\n",
    "test_question = \"Help me understand artificial intelligence\"\n",
    "\n",
    "print(f\"Testing all agents with: '{test_question}'\")\n",
    "print(\"=\" * 70)\n",
    "\n",
    "# Test Agent 1 (String prompt)\n",
    "print(\"\\n=== Agent 1 Response (String Prompt) ===\")\n",
    "print(\"Expected: Concise and accurate response\")\n",
    "\n",
    "result1 = agent1.invoke({\"messages\": test_question})\n",
    "print(f\"Response: {result1['messages'][-1].content}\")\n",
    "\n",
    "\n",
    "# Test Agent 2 (SystemMessage prompt)\n",
    "print(\"\\n=== Agent 2 Response (SystemMessage Prompt) ===\")\n",
    "print(\"Expected: Detailed explanation with research focus\")\n",
    "\n",
    "result2 = agent2.invoke({\"messages\": test_question})\n",
    "print(f\"Response: {result2['messages'][-1].content}\")\n"
   ]
  },
  {
   "cell_type": "markdown",
   "metadata": {},
   "source": [
    "## Testing Dynamic Prompt with Different User Types\n",
    "\n",
    "The dynamic prompt agent can adapt based on user context:"
   ]
  },
  {
   "cell_type": "code",
   "execution_count": 6,
   "metadata": {},
   "outputs": [
    {
     "name": "stdout",
     "output_type": "stream",
     "text": [
      "=== Agent 3 Responses (Dynamic Prompt) ===\n",
      "\n",
      "--- Expert Mode ---\n",
      "Expected: Technical response with advanced concepts\n",
      "Response: <think>\n",
      "Okay, the user wants to understand artificial intelligence. Let me start by breaking down what AI is. I should define it in simple terms, maybe compare it to things they're familiar with. I need to mention that AI involves machines performing tasks that usually require human intelligence, like learning and problem-solving.\n",
      "\n",
      "Wait, should I include different types of AI? Maybe briefly touch on narrow AI versus general AI. But keep it concise. Also, examples would help. Things like virtual assistants, recommendation systems, self-driving cars. Those are common and relatable.\n",
      "\n",
      "I should explain how AI works without getting too technical. Maybe mention data, algorithms, and machine learning. But avoid jargon. Oh, and the user might be interested in applications, so listing some fields like healthcare, finance, entertainment could be useful.\n",
      "\n",
      "Wait, the user might have underlying questions about ethics or job impact. Should I address that? The query is about understanding, so maybe stick to basics unless they ask for more. Also, check if they need further details on specific aspects. Ending with an offer to help with more questions seems good.\n",
      "</think>\n",
      "\n",
      "Artificial Intelligence (AI) refers to systems designed to perform tasks that typically require human intelligence, such as learning, problem-solving, and decision-making. Here's a simplified breakdown:\n",
      "\n",
      "### **Key Concepts**\n",
      "1. **Machine Learning**: AI systems often use algorithms that improve over time by analyzing data (e.g., recommending videos on streaming platforms).\n",
      "2. **Narrow vs. General AI**: Most AI today is \"narrow\" (focused on specific tasks like voice assistants) versus \"general\" AI (hypothetical systems matching human versatility).\n",
      "3. **Applications**: AI powers virtual assistants (Siri, Alexa), self-driving cars, healthcare diagnostics, and personalized recommendations.\n",
      "\n",
      "### **How It Works**\n",
      "- **Data Input**: Systems process vast datasets to identify patterns.\n",
      "- **Algorithms**: Mathematical models (e.g., neural networks) enable predictions or decisions.\n",
      "- **Feedback Loops**: Performance is refined through continuous learning from new data.\n",
      "\n",
      "### **Ethical Considerations**\n",
      "- Privacy concerns (e.g., data usage).\n",
      "- Bias in decision-making (e.g., hiring algorithms).\n",
      "- Job displacement debates in automation.\n",
      "\n",
      "Would you like to explore a specific aspect of AI, like its history, technical details, or societal impact?\n",
      "\n",
      "--- Beginner Mode ---\n",
      "Expected: Simple explanation with analogies\n",
      "Response: <think>\n",
      "Okay, the user wants to understand artificial intelligence. Let me start by breaking down what AI is. I should explain it in simple terms, maybe compare it to things they know. I need to cover the basics like definition, types of AI, and common applications. Also, mention key concepts like machine learning and neural networks without getting too technical. Make sure to highlight both the benefits and potential concerns, like ethics and job impact. Keep the tone friendly and approachable, avoiding jargon. Let me structure this so it's easy to follow, maybe start with a definition, then move to examples, and wrap up with current uses and future prospects. Check if there's anything else they might want to know and offer further help.\n",
      "</think>\n",
      "\n",
      "Artificial Intelligence (AI) refers to systems designed to perform tasks that typically require human intelligence, such as learning, problem-solving, decision-making, and language understanding. Here's a balanced overview:\n",
      "\n",
      "### **Key Concepts**\n",
      "1. **Machine Learning**: AI systems often use algorithms to analyze data, identify patterns, and make decisions with minimal human intervention (e.g., recommendation systems).\n",
      "2. **Natural Language Processing (NLP)**: Enables machines to understand and generate human language (e.g., chatbots, translation tools).\n",
      "3. **Neural Networks**: Inspired by the human brain, these systems process complex data through layers of interconnected nodes (used in image recognition and autonomous vehicles).\n",
      "\n",
      "### **Applications**\n",
      "- **Positive Impacts**: Streamlines tasks (e.g., healthcare diagnostics, fraud detection), enhances productivity, and enables innovations like self-driving cars.\n",
      "- **Ethical Concerns**: Risks include job displacement, privacy issues (e.g., data misuse), and biases in algorithms (e.g., unfair hiring tools).\n",
      "\n",
      "### **Current Trends**\n",
      "- AI is increasingly integrated into daily life (e.g., virtual assistants, personalized content).\n",
      "- Researchers focus on improving transparency, fairness, and safety (e.g., \"explainable AI\").\n",
      "\n",
      "Would you like to explore a specific aspect of AI, such as its history, technical details, or societal implications?\n",
      "\n",
      "--- Standard Mode ---\n",
      "Expected: Balanced explanation\n",
      "Response: <think>\n",
      "Okay, the user asked for help understanding artificial intelligence. I need to provide a clear and balanced explanation. Let me start by defining AI in simple terms. Maybe compare it to everyday examples they might know, like voice assistants or recommendation systems.\n",
      "\n",
      "Next, I should outline the main types of AI: narrow AI, general AI, and superintelligent AI. Explain each briefly, emphasizing that most current applications are narrow AI. Then, discuss how AI works, maybe mentioning machine learning and data training without getting too technical.\n",
      "\n",
      "Applications are important too. Examples like healthcare, finance, transportation can make it relatable. But I should also address ethical concerns such as bias, privacy, and job impact. It's crucial to present both benefits and challenges to keep it balanced.\n",
      "\n",
      "Wait, the user might not have a technical background, so I should avoid jargon. Keep sentences straightforward. Also, check if they need more details on any specific area. Maybe end with an offer to dive deeper into a particular topic. Let me structure this step by step to ensure clarity and accessibility.\n",
      "</think>\n",
      "\n",
      "Here's a balanced overview of artificial intelligence (AI):\n",
      "\n",
      "**What is AI?**  \n",
      "AI refers to systems designed to perform tasks that typically require human intelligence, such as learning, problem-solving, and decision-making. It's not a single technology but a broad field encompassing tools like machine learning, natural language processing, and robotics.\n",
      "\n",
      "**Key Types of AI:**  \n",
      "1. **Narrow AI (Weak AI):** Designed for specific tasks (e.g., voice assistants, recommendation systems). This is the most common form today.  \n",
      "2. **General AI (AGI):** Theoretical, capable of performing any intellectual task a human can. No fully realized example exists yet.  \n",
      "3. **Superintelligent AI:** Hypothetical systems far surpassing human intelligence. Discussions around this are speculative and ethical.\n",
      "\n",
      "**How AI Works:**  \n",
      "AI systems learn from data using algorithms. For example, a machine learning model might analyze thousands of images to recognize patterns (like identifying cats). Training data is critical, and biases in data can lead to flawed outcomes.\n",
      "\n",
      "**Real-World Applications:**  \n",
      "- **Healthcare:** Diagnostic tools, drug discovery.  \n",
      "- **Finance:** Fraud detection, algorithmic trading.  \n",
      "- **Transportation:** Autonomous vehicles.  \n",
      "- **Entertainment:** Content recommendations, game AI.  \n",
      "\n",
      "**Ethical Considerations:**  \n",
      "- **Bias:** AI can inherit biases from training data (e.g., facial recognition struggles with diverse skin tones).  \n",
      "- **Privacy:** Data collection raises concerns about surveillance and misuse.  \n",
      "- **Job Impact:** Automation may displace roles but also create new ones.  \n",
      "- **Autonomy:** Questions about decision-making in critical areas (e.g., healthcare, criminal justice).  \n",
      "\n",
      "**The Future of AI:**  \n",
      "Advancements are rapid, but challenges remain. Researchers focus on improving transparency, fairness, and safety. Collaboration between technologists, policymakers, and ethicists is essential to guide AI's development responsibly.\n",
      "\n",
      "Would you like to explore a specific aspect (e.g., how AI works in practice, ethical debates, or future trends)?\n",
      "\n",
      "💡 Notice how each agent responds differently based on its prompt configuration\n"
     ]
    }
   ],
   "source": [
    "print(\"=== Agent 3 Responses (Dynamic Prompt) ===\")\n",
    "\n",
    "# Test with expert mode\n",
    "print(\"\\n--- Expert Mode ---\")\n",
    "print(\"Expected: Technical response with advanced concepts\")\n",
    "\n",
    "result3_expert = agent3.invoke({\"messages\": test_question,\"user_type\": \"expert\"})\n",
    "print(f\"Response: {result3_expert['messages'][-1].content}\")\n",
    "\n",
    "# Test with beginner mode\n",
    "print(\"\\n--- Beginner Mode ---\")\n",
    "print(\"Expected: Simple explanation with analogies\")\n",
    "\n",
    "result3_beginner = agent3.invoke({\"messages\": test_question,\"user_type\": \"beginner\"})\n",
    "print(f\"Response: {result3_beginner['messages'][-1].content}\")\n",
    "\n",
    "# Test with standard mode (default)\n",
    "print(\"\\n--- Standard Mode ---\")\n",
    "print(\"Expected: Balanced explanation\")\n",
    "\n",
    "result3_standard = agent3.invoke({\"messages\": test_question,\"user_type\": \"standard\"})\n",
    "print(f\"Response: {result3_standard['messages'][-1].content}\")\n",
    "\n",
    "print(\"\\n💡 Notice how each agent responds differently based on its prompt configuration\")"
   ]
  },
  {
   "cell_type": "code",
   "execution_count": null,
   "metadata": {},
   "outputs": [],
   "source": []
  }
 ],
 "metadata": {
  "kernelspec": {
   "display_name": "langchain-v1-agents",
   "language": "python",
   "name": "python3"
  },
  "language_info": {
   "codemirror_mode": {
    "name": "ipython",
    "version": 3
   },
   "file_extension": ".py",
   "mimetype": "text/x-python",
   "name": "python",
   "nbconvert_exporter": "python",
   "pygments_lexer": "ipython3",
   "version": "3.12.9"
  }
 },
 "nbformat": 4,
 "nbformat_minor": 4
}
