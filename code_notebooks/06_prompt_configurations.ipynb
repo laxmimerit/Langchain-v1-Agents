{
 "cells": [
  {
   "cell_type": "markdown",
   "metadata": {},
   "source": [
    "# Prompt Configuration\n",
    "\n",
    "This notebook demonstrates different approaches to configuring agent prompts.\n",
    "\n",
    "## Key Concepts\n",
    "- **Method 1**: String Prompt (simplest)\n",
    "- **Method 2**: SystemMessage (structured)\n",
    "\n",
    "## When to Use Each Method\n",
    "- **String**: Simple, static agents\n",
    "- **SystemMessage**: Production chat agents"
   ]
  },
  {
   "cell_type": "code",
   "execution_count": 1,
   "metadata": {},
   "outputs": [],
   "source": [
    "# Import required modules\n",
    "from langchain_ollama import ChatOllama\n",
    "from langchain.agents import create_agent\n",
    "from langchain_core.messages import SystemMessage\n",
    "from typing import TypedDict\n",
    "import tools"
   ]
  },
  {
   "cell_type": "markdown",
   "metadata": {},
   "source": [
    "## Method 1: Simple String Prompt\n",
    "\n",
    "The simplest approach - direct string instruction to the agent."
   ]
  },
  {
   "cell_type": "code",
   "execution_count": 2,
   "metadata": {},
   "outputs": [
    {
     "name": "stdout",
     "output_type": "stream",
     "text": [
      "=== Method 1: Simple String Prompt ===\n",
      "✓ Agent 1 created with string prompt\n",
      "  Characteristics:\n",
      "  - Direct string instruction\n",
      "  - Simple and readable\n",
      "  - Good for basic use cases\n",
      "  - Easy to modify\n"
     ]
    }
   ],
   "source": [
    "print(\"=== Method 1: Simple String Prompt ===\")\n",
    "\n",
    "# Create model instance\n",
    "model = ChatOllama(model=\"qwen3\")\n",
    "\n",
    "# Method 1: String prompt (simplest)\n",
    "agent1 = create_agent(\n",
    "    model,\n",
    "    [tools.helper_tool],\n",
    "    prompt=\"You are a helpful assistant. Be concise and accurate in your responses.\"\n",
    ")\n",
    "\n",
    "print(\"✓ Agent 1 created with string prompt\")\n",
    "print(\"  Characteristics:\")\n",
    "print(\"  - Direct string instruction\")\n",
    "print(\"  - Simple and readable\")\n",
    "print(\"  - Good for basic use cases\")\n",
    "print(\"  - Easy to modify\")"
   ]
  },
  {
   "cell_type": "markdown",
   "metadata": {},
   "source": [
    "## Method 2: SystemMessage Prompt\n",
    "\n",
    "Using LangChain's SystemMessage class for more structured prompt handling."
   ]
  },
  {
   "cell_type": "code",
   "execution_count": 3,
   "metadata": {},
   "outputs": [
    {
     "name": "stdout",
     "output_type": "stream",
     "text": [
      "=== Method 2: SystemMessage Prompt ===\n",
      "✓ Agent 2 created with SystemMessage prompt\n",
      "  Characteristics:\n",
      "  - Structured message object\n",
      "  - Better integration with chat models\n",
      "  - More explicit about message type\n",
      "  - Professional for production use\n"
     ]
    }
   ],
   "source": [
    "print(\"=== Method 2: SystemMessage Prompt ===\")\n",
    "\n",
    "# Method 2: SystemMessage prompt (structured)\n",
    "agent2 = create_agent(\n",
    "    model,\n",
    "    [tools.helper_tool],\n",
    "    prompt=SystemMessage(content=\"You are a research assistant. Always cite your sources and provide detailed explanations.\")\n",
    ")\n",
    "\n",
    "print(\"✓ Agent 2 created with SystemMessage prompt\")\n",
    "print(\"  Characteristics:\")\n",
    "print(\"  - Structured message object\")\n",
    "print(\"  - Better integration with chat models\")\n",
    "print(\"  - More explicit about message type\")\n",
    "print(\"  - Professional for production use\")"
   ]
  },
  {
   "cell_type": "markdown",
   "metadata": {},
   "source": [
    "## Testing All Two Types of Prompt\n",
    "\n",
    "Let's test all agents with the same question to see their different behaviors:"
   ]
  },
  {
   "cell_type": "code",
   "execution_count": 5,
   "metadata": {},
   "outputs": [
    {
     "name": "stdout",
     "output_type": "stream",
     "text": [
      "Testing all agents with: 'Help me understand artificial intelligence'\n",
      "======================================================================\n",
      "\n",
      "=== Agent 1 Response (String Prompt) ===\n",
      "Expected: Concise and accurate response\n",
      "Response: <think>\n",
      "Okay, the user is looking to understand artificial intelligence. They might be a beginner, so I should start with a clear definition. Let me explain AI as a branch of computer science that enables machines to perform tasks requiring human intelligence. Mention examples like voice assistants or recommendation systems to make it relatable.\n",
      "\n",
      "I should break down the main types of AI: narrow (specific tasks), general (human-like reasoning, still theoretical), and superintelligent (hypothetical). Then, cover key concepts like machine learning and deep learning, but keep it simple. Highlight applications in healthcare, finance, etc., to show real-world uses.\n",
      "\n",
      "Ethical considerations are important too—bias in algorithms, privacy issues, and job market impact. End with an offer to explore any specific area in more detail. Keep the tone friendly and avoid jargon. Let me structure this step by step to ensure clarity without overwhelming the user.\n",
      "</think>\n",
      "\n",
      "Artificial Intelligence (AI) is a branch of computer science that focuses on creating systems capable of performing tasks that typically require human intelligence, such as learning, problem-solving, and decision-making. Here's a breakdown:\n",
      "\n",
      "### **Key Concepts**\n",
      "1. **Narrow AI**: Designed for specific tasks (e.g., voice assistants, recommendation algorithms).\n",
      "2. **General AI**: Theoretical, mimics human reasoning across diverse tasks (not yet achieved).\n",
      "3. **Machine Learning**: AI systems that improve through experience (e.g., predicting trends).\n",
      "4. **Deep Learning**: A subset of machine learning using neural networks to analyze complex data (e.g., image recognition).\n",
      "\n",
      "### **Applications**\n",
      "- **Healthcare**: Diagnosing diseases, drug discovery.\n",
      "- **Finance**: Fraud detection, algorithmic trading.\n",
      "- **Transportation**: Autonomous vehicles.\n",
      "- **Entertainment**: Personalized content recommendations.\n",
      "\n",
      "### **Ethical Considerations**\n",
      "- **Bias**: Algorithms may inherit biases from training data.\n",
      "- **Privacy**: Data usage raises concerns about surveillance.\n",
      "- **Job Impact**: Automation may displace certain roles but create new ones.\n",
      "\n",
      "Would you like to explore any specific aspect of AI in more detail?\n",
      "\n",
      "=== Agent 2 Response (SystemMessage Prompt) ===\n",
      "Expected: Detailed explanation with research focus\n",
      "Response: <think>\n",
      "Okay, the user asked for help understanding artificial intelligence. I need to provide a clear and comprehensive explanation. Let me start by defining AI in simple terms. I should mention that it's machines performing tasks that usually require human intelligence, like learning and problem-solving.\n",
      "\n",
      "Next, I'll break down the key components. Maybe include machine learning as a subset, since that's a big part of AI. Also, differentiate between narrow AI (like virtual assistants) and general AI (which is more advanced and not yet achieved). \n",
      "\n",
      "Applications are important too. Examples like healthcare (diagnostics), finance (fraud detection), and transportation (autonomous vehicles) can make it relatable. But I shouldn't list too many; maybe pick a few key areas.\n",
      "\n",
      "Ethical considerations are crucial. I should touch on issues like bias in algorithms, job displacement, and privacy concerns. It's important to present a balanced view without overwhelming the user.\n",
      "\n",
      "I need to keep the language simple and avoid jargon. Maybe structure the response into sections: definition, key concepts, applications, and ethics. Also, offer to dive deeper into any specific area they're interested in. Let me check if I need to use the helper tool again, but since the user's initial request is general, a thorough explanation should suffice. Alright, time to put it all together clearly.\n",
      "</think>\n",
      "\n",
      "Artificial Intelligence (AI) refers to machines or software designed to perform tasks that typically require human intelligence, such as learning, reasoning, problem-solving, perception, and decision-making. Here's a breakdown of key aspects:\n",
      "\n",
      "---\n",
      "\n",
      "### **1. Core Concepts**\n",
      "- **Machine Learning (ML):** A subset of AI where systems learn patterns from data without explicit programming. Examples include recommendation systems (e.g., Netflix) and spam filters.\n",
      "- **Neural Networks:** Inspired by the human brain, these are layered algorithms that process data to recognize patterns (e.g., image or speech recognition).\n",
      "- **Natural Language Processing (NLP):** Enables machines to understand and generate human language (e.g., chatbots, translation tools).\n",
      "\n",
      "---\n",
      "\n",
      "### **2. Types of AI**\n",
      "- **Narrow AI (Weak AI):** Designed for specific tasks (e.g., virtual assistants like Siri, self-driving cars).\n",
      "- **General AI (Strong AI):** Theoretical, mimicking human cognitive abilities across diverse tasks. Not yet achieved.\n",
      "- **Superintelligent AI:** Hypothetical AI surpassing human intelligence (speculative and not currently possible).\n",
      "\n",
      "---\n",
      "\n",
      "### **3. Applications**\n",
      "- **Healthcare:** Diagnostic tools, drug discovery, personalized treatment plans.\n",
      "- **Finance:** Fraud detection, algorithmic trading, credit scoring.\n",
      "- **Transportation:** Autonomous vehicles, traffic optimization.\n",
      "- **Entertainment:** Content recommendation, generative art/ music.\n",
      "\n",
      "---\n",
      "\n",
      "### **4. Ethical Considerations**\n",
      "- **Bias:** AI systems may inherit biases from training data (e.g., racial or gender discrimination in hiring tools).\n",
      "- **Privacy:** Data collection for AI training raises concerns about surveillance and data misuse.\n",
      "- **Job Displacement:** Automation may impact employment in certain sectors.\n",
      "- **Accountability:** Challenges in assigning responsibility for AI-driven decisions (e.g., autonomous vehicles in accidents).\n",
      "\n",
      "---\n",
      "\n",
      "### **5. Challenges**\n",
      "- **Data Dependency:** AI requires vast, high-quality data to function effectively.\n",
      "- **Explainability:** \"Black box\" systems (e.g., deep learning) can be hard to interpret.\n",
      "- **Security:** Vulnerabilities could lead to manipulation or misuse (e.g., deepfakes).\n",
      "\n",
      "---\n",
      "\n",
      "Would you like to explore a specific aspect of AI in more detail? For example, how it works technically, real-world examples, or ethical debates?\n"
     ]
    }
   ],
   "source": [
    "# Test question for all agents\n",
    "test_question = \"Help me understand artificial intelligence\"\n",
    "\n",
    "print(f\"Testing all agents with: '{test_question}'\")\n",
    "print(\"=\" * 70)\n",
    "\n",
    "# Test Agent 1 (String prompt)\n",
    "print(\"\\n=== Agent 1 Response (String Prompt) ===\")\n",
    "print(\"Expected: Concise and accurate response\")\n",
    "\n",
    "result1 = agent1.invoke({\"messages\": test_question})\n",
    "print(f\"Response: {result1['messages'][-1].content}\")\n",
    "\n",
    "# Test Agent 2 (SystemMessage prompt)\n",
    "print(\"\\n=== Agent 2 Response (SystemMessage Prompt) ===\")\n",
    "print(\"Expected: Detailed explanation with research focus\")\n",
    "\n",
    "result2 = agent2.invoke({\"messages\": test_question})\n",
    "print(f\"Response: {result2['messages'][-1].content}\")"
   ]
  },
  {
   "cell_type": "code",
   "execution_count": null,
   "metadata": {},
   "outputs": [],
   "source": []
  }
 ],
 "metadata": {
  "kernelspec": {
   "display_name": "langchain-v1-agents",
   "language": "python",
   "name": "python3"
  },
  "language_info": {
   "codemirror_mode": {
    "name": "ipython",
    "version": 3
   },
   "file_extension": ".py",
   "mimetype": "text/x-python",
   "name": "python",
   "nbconvert_exporter": "python",
   "pygments_lexer": "ipython3",
   "version": "3.12.9"
  }
 },
 "nbformat": 4,
 "nbformat_minor": 4
}
