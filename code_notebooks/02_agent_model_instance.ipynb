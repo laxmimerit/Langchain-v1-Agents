{
 "cells": [
  {
   "cell_type": "markdown",
   "metadata": {},
   "source": [
    "# Agent with Explicit Model Instance\n",
    "\n",
    "This notebook demonstrates how to create a LangChain agent with full control over model configuration by creating an explicit ChatOllama instance.\n",
    "\n",
    "## Key Concepts\n",
    "- **Explicit Model Creation**: Create ChatOllama instance with custom parameters\n",
    "- **Parameter Control**: Configure temperature, token limits, timeouts\n",
    "- **Production Ready**: Better for production environments\n",
    "\n",
    "## Model Parameters Explained\n",
    "- **temperature**: Controls randomness (0.0 = deterministic, 1.0 = very creative)\n",
    "- **num_predict**: Maximum tokens to generate (similar to max_tokens in OpenAI)\n",
    "- etc."
   ]
  },
  {
   "cell_type": "code",
   "execution_count": 7,
   "metadata": {},
   "outputs": [],
   "source": [
    "# Import required modules\n",
    "from langchain_ollama import ChatOllama\n",
    "from langchain.agents import create_agent\n",
    "import tools"
   ]
  },
  {
   "cell_type": "code",
   "execution_count": null,
   "metadata": {},
   "outputs": [],
   "source": [
    "# result = \"3*4+2-10/20\"\n",
    "# expression = \"pow(2, 3) + sqrt(16) - log(100)\""
   ]
  },
  {
   "cell_type": "code",
   "execution_count": 8,
   "metadata": {},
   "outputs": [
    {
     "data": {
      "text/plain": [
       "'3*4+2-10/20 = 13.5'"
      ]
     },
     "execution_count": 8,
     "metadata": {},
     "output_type": "execute_result"
    }
   ],
   "source": [
    "tools.calculate.invoke(\"3*4+2-10/20\")"
   ]
  },
  {
   "cell_type": "markdown",
   "metadata": {},
   "source": [
    "## Creating Model Instance with Custom Parameters\n",
    "\n",
    "Here we create a ChatOllama instance with specific configuration for mathematical calculations:"
   ]
  },
  {
   "cell_type": "code",
   "execution_count": 9,
   "metadata": {},
   "outputs": [],
   "source": [
    "# Create model instance with custom parameters\n",
    "model = ChatOllama(\n",
    "    model=\"qwen3\",\n",
    "    base_url=\"http://localhost:11434\",\n",
    "    temperature=0,      # Low temperature for consistent math results\n",
    ")"
   ]
  },
  {
   "cell_type": "markdown",
   "metadata": {},
   "source": [
    "## Creating the Agent\n",
    "\n",
    "Now we create the agent using our custom model instance:"
   ]
  },
  {
   "cell_type": "code",
   "execution_count": 10,
   "metadata": {},
   "outputs": [
    {
     "name": "stdout",
     "output_type": "stream",
     "text": [
      "Agent created with explicit model instance!\n",
      "Full control over temperature, token limits, and other parameters\n"
     ]
    }
   ],
   "source": [
    "# Create agent with explicit model instance\n",
    "agent = create_agent(model, tools=[tools.calculate])\n",
    "\n",
    "print(\"Agent created with explicit model instance!\")\n",
    "print(\"Full control over temperature, token limits, and other parameters\")"
   ]
  },
  {
   "cell_type": "code",
   "execution_count": 11,
   "metadata": {},
   "outputs": [
    {
     "data": {
      "image/png": "[encoded data removed]",
      "text/plain": [
       "<langgraph.graph.state.CompiledStateGraph object at 0x000002167FD56C60>"
      ]
     },
     "execution_count": 11,
     "metadata": {},
     "output_type": "execute_result"
    }
   ],
   "source": [
    "agent"
   ]
  },
  {
   "cell_type": "markdown",
   "metadata": {},
   "source": [
    "## Testing the Agent\n",
    "\n",
    "Let's test the agent with a mathematical calculation:"
   ]
  },
  {
   "cell_type": "code",
   "execution_count": 12,
   "metadata": {},
   "outputs": [
    {
     "name": "stdout",
     "output_type": "stream",
     "text": [
      "Response: <think>\n",
      "Okay, let me check the user's question again. They asked, \"What's 15 * 27 + 100?\" So first, I need to calculate 15 multiplied by 27. Let me do that step by step. 15 times 20 is 300, and 15 times 7 is 105. Adding those together gives 300 + 105 = 405. Then, adding 100 to that result: 405 + 100 = 505. Wait, but maybe I should verify using another method. Let's break down 27 into 25 + 2. 15*25 is 375, and 15*2 is 30. Adding those gives 375 + 30 = 405. Then adding 100 still gives 505. Both methods lead to the same answer. I'll use the calculate function to confirm the result once more. The expression \"15 * 27 + 100\" should evaluate to 505. Alright, that's consistent. The final answer is 505.\n",
      "</think>\n",
      "\n",
      "The result of the calculation is 505.\n"
     ]
    }
   ],
   "source": [
    "# Test the agent with a mathematical calculation\n",
    "result = agent.invoke({\n",
    "    \"messages\": \"What's 15 * 27 + 100?\"\n",
    "})\n",
    "\n",
    "print(f\"Response: {result['messages'][-1].content}\")"
   ]
  },
  {
   "cell_type": "code",
   "execution_count": 13,
   "metadata": {},
   "outputs": [
    {
     "data": {
      "text/plain": [
       "{'messages': [HumanMessage(content=\"What's 15 * 27 + 100?\", additional_kwargs={}, response_metadata={}, id='5c84ec63-fe6b-4ab3-ad38-7ba2e5832cec'),\n",
       "  AIMessage(content='<think>\\nOkay, let\\'s see. The user is asking \"What\\'s 15 * 27 + 100?\" I need to calculate that. First, I should handle the multiplication part. 15 multiplied by 27. Let me do that step by step. 15 times 20 is 300, and 15 times 7 is 105. Adding those together gives 300 + 105 = 405. Then, add 100 to that result. So 405 + 100 equals 505. Wait, but maybe I should double-check using another method. Alternatively, 27 can be broken into 25 + 2. 15*25 is 375, and 15*2 is 30. Adding those gives 375 + 30 = 405. Then adding 100 still gives 505. Yeah, that seems right. I should use the calculate function to ensure accuracy, though. Let me input the expression \"15 * 27 + 100\" into the function and return the result.\\n</think>\\n\\n', additional_kwargs={}, response_metadata={'model': 'qwen3', 'created_at': '2025-09-30T06:33:35.9737799Z', 'done': True, 'done_reason': 'stop', 'total_duration': 2055065900, 'load_duration': 64709400, 'prompt_eval_count': 206, 'prompt_eval_duration': 195604400, 'eval_count': 288, 'eval_duration': 1793688200, 'model_name': 'qwen3'}, id='run--b6fcc5c5-fa40-4774-bc3e-eeb735c130f4-0', tool_calls=[{'type': 'tool_call', 'id': 'f20eb268-d93f-4429-8e26-c60055d1080b', 'name': 'calculate', 'args': {'expression': '15 * 27 + 100'}}], usage_metadata={'input_tokens': 206, 'output_tokens': 288, 'total_tokens': 494}),\n",
       "  ToolMessage(content='15 * 27 + 100 = 505', name='calculate', id='f95a9a3b-d663-44c8-be26-b69845bdc497', tool_call_id='f20eb268-d93f-4429-8e26-c60055d1080b'),\n",
       "  AIMessage(content='<think>\\nOkay, let me check the user\\'s question again. They asked, \"What\\'s 15 * 27 + 100?\" So first, I need to calculate 15 multiplied by 27. Let me do that step by step. 15 times 20 is 300, and 15 times 7 is 105. Adding those together gives 300 + 105 = 405. Then, adding 100 to that result: 405 + 100 = 505. Wait, but maybe I should verify using another method. Let\\'s break down 27 into 25 + 2. 15*25 is 375, and 15*2 is 30. Adding those gives 375 + 30 = 405. Then adding 100 still gives 505. Both methods lead to the same answer. I\\'ll use the calculate function to confirm the result once more. The expression \"15 * 27 + 100\" should evaluate to 505. Alright, that\\'s consistent. The final answer is 505.\\n</think>\\n\\nThe result of the calculation is 505.', additional_kwargs={}, response_metadata={'model': 'qwen3', 'created_at': '2025-09-30T06:33:37.7089285Z', 'done': True, 'done_reason': 'stop', 'total_duration': 1727565600, 'load_duration': 32659500, 'prompt_eval_count': 495, 'prompt_eval_duration': 19424600, 'eval_count': 279, 'eval_duration': 1660120200, 'model_name': 'qwen3'}, id='run--9a3947ed-93ca-4eec-8622-32dc3314cf9c-0', usage_metadata={'input_tokens': 495, 'output_tokens': 279, 'total_tokens': 774})]}"
      ]
     },
     "execution_count": 13,
     "metadata": {},
     "output_type": "execute_result"
    }
   ],
   "source": [
    "result"
   ]
  },
  {
   "cell_type": "code",
   "execution_count": 15,
   "metadata": {},
   "outputs": [
    {
     "name": "stdout",
     "output_type": "stream",
     "text": [
      "==================================\u001b[1m Ai Message \u001b[0m==================================\n",
      "\n",
      "<think>\n",
      "Okay, let me check the user's question again. They asked, \"What's 15 * 27 + 100?\" So first, I need to calculate 15 multiplied by 27. Let me do that step by step. 15 times 20 is 300, and 15 times 7 is 105. Adding those together gives 300 + 105 = 405. Then, adding 100 to that result: 405 + 100 = 505. Wait, but maybe I should verify using another method. Let's break down 27 into 25 + 2. 15*25 is 375, and 15*2 is 30. Adding those gives 375 + 30 = 405. Then adding 100 still gives 505. Both methods lead to the same answer. I'll use the calculate function to confirm the result once more. The expression \"15 * 27 + 100\" should evaluate to 505. Alright, that's consistent. The final answer is 505.\n",
      "</think>\n",
      "\n",
      "The result of the calculation is 505.\n"
     ]
    }
   ],
   "source": [
    "result['messages'][-1].pretty_print()"
   ]
  },
  {
   "cell_type": "markdown",
   "metadata": {},
   "source": [
    "## Experimenting with Different Settings\n",
    "\n"
   ]
  },
  {
   "cell_type": "code",
   "execution_count": 16,
   "metadata": {},
   "outputs": [
    {
     "name": "stdout",
     "output_type": "stream",
     "text": [
      "=== Configuration 1: Conservative/Deterministic ===\n",
      "Conservative output: <think>\n",
      "Okay, the user is asking what 2 + 2 equals and wants me to show my reasoning. Let me start by recalling basic arithmetic. Addition is one of the fundamental operations. When you add 2 and 2, you're combining two groups of one item each. Wait, no, actually, each number represents a quantity. So 2 is two units, adding another two units would total four. Let me verify that. If I have two apples and add two more, I have four apples. That seems right. But maybe I should check using a different method. Let's count: 1, 2 (that's the first 2), then 3, 4 (adding the second 2). Yep, that's four. Alternatively, using a number line: starting at 2 and moving 2 steps forward lands me at 4. All these methods confirm the result is 4. I should also mention that this is a basic arithmetic fact, so there's no need for complex calculations here. The answer should be straightforward.\n",
      "</think>\n",
      "\n",
      "2 + 2 equals 4. \n",
      "\n",
      "**Reasoning:**  \n",
      "1. Start with the number 2.  \n",
      "2. Add another 2 to it:  \n",
      "   - 2 (first number) + 2 (second number) = 4.  \n",
      "3. This is a basic arithmetic operation where combining two groups of 2 items results in a total of 4 items.  \n",
      "\n",
      "No complex tools are needed for this simple calculation.\n",
      "\n"
     ]
    }
   ],
   "source": [
    "\n",
    "question = \"Explain what 2 + 2 equals and show your reasoning\"\n",
    "\n",
    "# Configuration 1: Conservative/Deterministic - for consistent, reliable outputs\n",
    "print(\"=== Configuration 1: Conservative/Deterministic ===\")\n",
    "llm1 = ChatOllama(\n",
    "    model=\"qwen3\",\n",
    "    temperature=0,           # Low randomness for consistency\n",
    "    top_p=1,                # Focus on most probable tokens\n",
    "    repeat_penalty=1.1,       # Slight repetition penalty\n",
    "    num_predict=500,          # Reasonable output length\n",
    "    num_ctx=4096,            # Standard context window\n",
    "    seed=42                   # Reproducible results\n",
    ")\n",
    "agent = create_agent(llm1, tools=[tools.calculate])\n",
    "result = agent.invoke({\"messages\": question})\n",
    "print(f\"Conservative output: {result['messages'][-1].content}\")\n",
    "print()"
   ]
  },
  {
   "cell_type": "code",
   "execution_count": 23,
   "metadata": {},
   "outputs": [
    {
     "name": "stdout",
     "output_type": "stream",
     "text": [
      "=== Configuration 2: Balanced/Production ===\n",
      "<think>\n",
      "Okay, the user is asking what 2 + 2 equals and wants me to show my reasoning. Let me start by breaking down the problem. The expression is 2 + 2. Addition is the basic arithmetic operation here. I know that when you add two numbers, you combine their values. So 2 is the same as two units, and adding another two units would total four. Wait, but maybe I should verify that. Let me think again. If I have two apples and add two more, I have four apples. That's straightforward. But maybe the user wants a more detailed explanation. Alternatively, could there be a trick here? The question seems simple, but maybe they're testing if I understand basic arithmetic. I should also check if there's any context where 2 + 2 might not equal 4, like in different number bases or modulo arithmetic. However, the question doesn't mention anything like that, so the default is base 10. So, the answer is 4. I should present the reasoning step by step to make it clear.\n",
      "</think>\n",
      "\n",
      "The expression 2 + 2 equals 4. Here's the reasoning:\n",
      "\n",
      "1. **Basic Addition**: The \"+\" operator represents the mathematical operation of addition, which combines two quantities.\n",
      "2. **Values**: The numbers 2 and 2 each represent two units (e.g., objects, quantities).\n",
      "3. **Combining Quantities**: When you add 2 (two units) and another 2 (two units), you combine them into a total of 4 units.\n",
      "4. **Result**: The sum of 2 and 2 is therefore 4.\n",
      "\n",
      "This is a fundamental property of arithmetic in base 10.\n",
      "\n"
     ]
    }
   ],
   "source": [
    "print(\"=== Configuration 2: Balanced/Production ===\")\n",
    "llm = ChatOllama(\n",
    "    model=\"qwen3\",\n",
    "    temperature=2,          # Moderate creativity\n",
    "    top_k=2000,                # Standard token selection\n",
    "    repeat_penalty=1.15,     # Moderate repetition control\n",
    "    repeat_last_n=64,        # Check last 64 tokens for repetition\n",
    "    num_predict=1000,         # Short responses allowed | check output \n",
    "    num_ctx=8192,           # Larger context for complex tasks\n",
    "    keep_alive=\"5m\",         # Keep model loaded for performance\n",
    "    num_thread=4             # Optimize for multi-core processing\n",
    ")\n",
    "\n",
    "agent = create_agent(llm, tools=[tools.calculate])\n",
    "result = agent.invoke({\"messages\": question})\n",
    "print(result['messages'][-1].content)\n",
    "print()\n"
   ]
  },
  {
   "cell_type": "code",
   "execution_count": 29,
   "metadata": {},
   "outputs": [
    {
     "name": "stdout",
     "output_type": "stream",
     "text": [
      "=== Configuration 2: Balanced/Production ===\n",
      "question: Explain what 2 + 2 equals and show your reasoning\n",
      "The calculation $2 + 2 = 4$ is correct! 🥳 If you have any more math problems or need further explanations, feel free to ask. 😊\n",
      "\n"
     ]
    }
   ],
   "source": [
    "print(\"=== Configuration 2: Balanced/Production ===\")\n",
    "llm = ChatOllama(\n",
    "    model=\"qwen3\",\n",
    "    temperature=2,          # Moderate creativity\n",
    "    top_k=2000,                # Standard token selection\n",
    "    repeat_penalty=1.15,     # Moderate repetition control\n",
    "    repeat_last_n=64,        # Check last 64 tokens for repetition\n",
    "    num_predict=1000,         # Short responses allowed | check output \n",
    "    num_ctx=8192,           # Larger context for complex tasks\n",
    "    keep_alive=\"5m\",         # Keep model loaded for performance\n",
    "    num_thread=4,             # Optimize for multi-core processing\n",
    "    reasoning=True\n",
    ")\n",
    "\n",
    "agent = create_agent(llm, tools=[tools.calculate])\n",
    "result = agent.invoke({\"messages\": question})\n",
    "print('question:', question)\n",
    "print(result['messages'][-1].content)\n",
    "print()"
   ]
  }
 ],
 "metadata": {
  "kernelspec": {
   "display_name": "langchain-v1-agents",
   "language": "python",
   "name": "python3"
  },
  "language_info": {
   "codemirror_mode": {
    "name": "ipython",
    "version": 3
   },
   "file_extension": ".py",
   "mimetype": "text/x-python",
   "name": "python",
   "nbconvert_exporter": "python",
   "pygments_lexer": "ipython3",
   "version": "3.12.9"
  }
 },
 "nbformat": 4,
 "nbformat_minor": 4
}
