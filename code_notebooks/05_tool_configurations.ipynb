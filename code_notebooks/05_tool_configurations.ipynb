{
 "cells": [
  {
   "cell_type": "markdown",
   "metadata": {},
   "source": [
    "# Different Tool Configuration Methods\n",
    "\n",
    "This notebook demonstrates different approaches to configuring tools for LangChain agents, from simple lists to advanced error handling.\n",
    "\n",
    "## Key Concepts\n",
    "- **Method 1**: Simple list of tools (quick setup)\n",
    "- **Method 2**: ToolNode with custom configuration (production-ready)\n",
    "- **Error Handling**: Making agents robust to tool failures\n",
    "\n",
    "## Why Tool Configuration Matters\n",
    "- **Without error handling**: Errors crash the agent\n",
    "- **With error handling**: Errors become feedback for the model\n",
    "- **Model adaptation**: Agent can retry or adjust approach based on error messages"
   ]
  },
  {
   "cell_type": "code",
   "execution_count": 1,
   "metadata": {},
   "outputs": [],
   "source": [
    "# Import required modules\n",
    "from langchain_ollama import ChatOllama\n",
    "from langchain.agents import create_agent, ToolNode\n",
    "import tools"
   ]
  },
  {
   "cell_type": "markdown",
   "metadata": {},
   "source": [
    "## Method 1: Simple List of Tools\n",
    "\n",
    "The simplest approach - just pass tools as a list. LangChain handles everything automatically."
   ]
  },
  {
   "cell_type": "code",
   "execution_count": 2,
   "metadata": {},
   "outputs": [
    {
     "name": "stdout",
     "output_type": "stream",
     "text": [
      "=== Method 1: Simple List of Tools ===\n",
      "✓ Agent 1 created with simple tool list\n",
      "  - LangChain automatically creates ToolNode\n",
      "  - Default error handling behavior\n",
      "  - Good for prototyping and simple use cases\n"
     ]
    }
   ],
   "source": [
    "print(\"=== Method 1: Simple List of Tools ===\")\n",
    "\n",
    "# Create model instance\n",
    "model = ChatOllama(model=\"qwen3\")\n",
    "\n",
    "# Method 1: Pass list of tools (simple approach)\n",
    "simple_tools = [tools.web_search, tools.calculate]\n",
    "agent1 = create_agent(\n",
    "    model, \n",
    "    tools=simple_tools\n",
    ")\n",
    "\n",
    "print(\"✓ Agent 1 created with simple tool list\")\n",
    "print(\"  - LangChain automatically creates ToolNode\")\n",
    "print(\"  - Default error handling behavior\")\n",
    "print(\"  - Good for prototyping and simple use cases\")"
   ]
  },
  {
   "cell_type": "code",
   "execution_count": 3,
   "metadata": {},
   "outputs": [
    {
     "data": {
      "text/plain": [
       "'Error: Invalid mathematical expression'"
      ]
     },
     "execution_count": 3,
     "metadata": {},
     "output_type": "execute_result"
    }
   ],
   "source": [
    "simple_tools[1].invoke({\"expression\": \"What is 123 * 456?\"})"
   ]
  },
  {
   "cell_type": "markdown",
   "metadata": {},
   "source": [
    "## Method 2: Advanced ToolNode Configuration\n",
    "\n",
    "Create a ToolNode explicitly with custom settings for better control over tool execution."
   ]
  },
  {
   "cell_type": "code",
   "execution_count": 4,
   "metadata": {},
   "outputs": [
    {
     "name": "stdout",
     "output_type": "stream",
     "text": [
      "=== Method 2: Advanced ToolNode Configuration ===\n",
      "✓ Agent 2 created with advanced ToolNode\n",
      "  - Custom error handling messages\n",
      "  - Better control over tool execution\n",
      "  - Production-ready error recovery\n"
     ]
    }
   ],
   "source": [
    "print(\"=== Method 2: Advanced ToolNode Configuration ===\")\n",
    "\n",
    "# Method 2: Use ToolNode with error handling (advanced approach)\n",
    "tool_node = ToolNode(\n",
    "    tools=[tools.web_search, tools.calculate],\n",
    "    handle_tool_errors=\"Please check your input and try again. Error details will help you correct the issue.\"\n",
    ")\n",
    "\n",
    "agent2 = create_agent(model, tools=tool_node)\n",
    "\n",
    "print(\"✓ Agent 2 created with advanced ToolNode\")\n",
    "print(\"  - Custom error handling messages\")\n",
    "print(\"  - Better control over tool execution\")\n",
    "print(\"  - Production-ready error recovery\")"
   ]
  },
  {
   "cell_type": "code",
   "execution_count": 5,
   "metadata": {},
   "outputs": [
    {
     "name": "stdout",
     "output_type": "stream",
     "text": [
      "{'messages': [ToolMessage(content='Please check your input and try again. Error details will help you correct the issue.', name='calculate', tool_call_id='call_456', status='error')]}\n"
     ]
    }
   ],
   "source": [
    "# Unlike tools.calculate.invoke() which directly calls the tool, \n",
    "# ToolNode.invoke() requires a state dictionary with messages containing tool_calls. \n",
    "# This is because ToolNode is designed to work within a LangGraph agent workflow where messages follow this structure.\n",
    "from langchain_core.messages import AIMessage\n",
    "\n",
    "state_with_invalid_args = {\n",
    "    \"messages\": [\n",
    "        AIMessage(\n",
    "            content=\"\",\n",
    "            tool_calls=[\n",
    "                {\n",
    "                    \"name\": \"calculate\",\n",
    "                    \"args\": {\"input\": \"What is 123 * 456?\"},\n",
    "                    \"id\": \"call_456\",\n",
    "                    \"type\": \"tool_call\"\n",
    "                }\n",
    "            ]\n",
    "        )\n",
    "    ]\n",
    "}\n",
    "\n",
    "result = tool_node.invoke(state_with_invalid_args)\n",
    "print(result)"
   ]
  },
  {
   "cell_type": "markdown",
   "metadata": {},
   "source": [
    "## Comparing Both Approaches\n",
    "\n",
    "Let's test both agents with the same query to see how they behave:"
   ]
  },
  {
   "cell_type": "code",
   "execution_count": 6,
   "metadata": {},
   "outputs": [
    {
     "name": "stdout",
     "output_type": "stream",
     "text": [
      "Testing both agents with: 'Search for Python tutorials and calculate 10 times 5'\n",
      "============================================================\n",
      "\n",
      "=== Agent 1 Results (Simple Tool List) ===\n",
      "✓ Response: <think>\n",
      "Okay, let me see. The user asked to search for Python tutorials and calculate 10 times 5. I called both functions as instructed. The web search returned five results, which I formatted with titles, descriptions, and URLs. Then, the calculation was straightforward, 10 multiplied by 5 equals 50. I need to present both results clearly. The user might be a beginner looking for tutorials and also needs a quick math answer. I should make sure the search results are easy to read and the calculation is clearly stated. No errors in the responses, so just format them properly and combine the answers.\n",
      "</think>\n",
      "\n",
      "Here are the results:\n",
      "\n",
      "**Python Tutorials Search:**\n",
      "1. [Free Python Libraries Course](https://www.simplilearn.com/learn-python-libraries-free-course-skillup) - Discover essential data science libraries\n",
      "2. [YouTube Python Basics](https://www.reddit.com/r/Python/comments/1nvjy1e/14yearold_here_teaching_python_basics_on_youtube/) - Beginner-friendly tutorials by a 14-year-old\n",
      "3. [Python-bloggers](https://python-bloggers.com/) - Data science news and tutorials\n",
      "4. [Python Standard Library](https://www.w3schools.com/python/python_ref_modules.asp) - Official modules documentation\n",
      "5. [Python 3.14 Preview](https://realpython.com/python314-error-messages/) - New error message improvements\n",
      "\n",
      "**Calculation:**\n",
      "10 × 5 = 50\n",
      "\n",
      "=== Agent 2 Results (Advanced ToolNode) ===\n",
      "✓ Response: <think>\n",
      "Okay, let me see. The user asked for two things: Python tutorials and to calculate 10 times 5. First, I need to handle the web search for Python tutorials. The tools provided include a web_search function that takes a query and number of results. Since the user didn't specify a number, I'll default to 5.\n",
      "\n",
      "Then, the calculation part. The calculate function can handle math expressions. The user's query is straightforward, 10 multiplied by 5. I should use the calculate function with the expression \"10 * 5\". \n",
      "\n",
      "Wait, I should make sure that the functions are called correctly. For the web search, the parameters are query and num_results. The query is \"Python tutorials\", and num_results is 5. For the calculate function, the parameter is expression, which is \"10 * 5\". \n",
      "\n",
      "I need to format the tool calls properly. Each function call should be in a separate tool_call tag. Let me check the syntax again. The first tool call for web_search with the query and num_results, then the calculate function with the expression. \n",
      "\n",
      "Once both functions are called, the results will be combined. The search results will list the tutorials, and the calculation will show 50. I should present the information clearly, maybe separate the results into sections for tutorials and the calculation. \n",
      "\n",
      "Also, the user might be a beginner looking to learn Python, so the tutorials should be relevant. The calculation is simple, but ensuring the function returns the correct result is important. No errors expected here. \n",
      "\n",
      "Alright, putting it all together. First, the tool calls, then the formatted response with the search results and the calculation answer.\n",
      "</think>\n",
      "\n",
      "Here are the results:\n",
      "\n",
      "**Python Tutorials:**\n",
      "1. [Free Python Course with Certificate](https://www.simplilearn.com/learn-python-basics-free-course-skillup) - 15 hours ago\n",
      "2. [Free Python Course with Certificate Online](https://www.simplilearn.com/free-python-programming-course-skillup) - 7 hours ago\n",
      "3. [Python-bloggers](https://python-bloggers.com/) - 8 hours ago\n",
      "4. [The Python Trick I Wish I Knew 3 Years Ago](https://levelup.gitconnected.com/the-python-trick-i-wish-i-knew-3-years-ago-it-wouldve-saved-me-100-hours-a793d851e0a2?source=rss----5517fd7b58a6---4) - 20 hours ago\n",
      "5. [Planet Python](https://planetpython.org/) - 10 hours ago\n",
      "\n",
      "**Calculation:**\n",
      "10 * 5 = 50\n",
      "\n",
      "💡 Both agents work the same for valid inputs, but Agent 2 handles errors better\n"
     ]
    }
   ],
   "source": [
    "# Test query that uses multiple tools\n",
    "test_query = \"Search for Python tutorials and calculate 10 times 5\"\n",
    "\n",
    "print(f\"Testing both agents with: '{test_query}'\")\n",
    "print(\"=\" * 60)\n",
    "\n",
    "# Test Agent 1 (Simple)\n",
    "print(\"\\n=== Agent 1 Results (Simple Tool List) ===\")\n",
    "try:\n",
    "    result1 = agent1.invoke({\"messages\": test_query})\n",
    "    print(f\"✓ Response: {result1['messages'][-1].content}\")\n",
    "except Exception as e:\n",
    "    print(f\"✗ Error: {e}\")\n",
    "\n",
    "# Test Agent 2 (Advanced)\n",
    "print(\"\\n=== Agent 2 Results (Advanced ToolNode) ===\")\n",
    "try:\n",
    "    result2 = agent2.invoke({\"messages\": test_query})\n",
    "    print(f\"✓ Response: {result2['messages'][-1].content}\")\n",
    "except Exception as e:\n",
    "    print(f\"✗ Error: {e}\")\n",
    "\n",
    "print(\"\\n💡 Both agents work the same for valid inputs, but Agent 2 handles errors better\")"
   ]
  },
  {
   "cell_type": "code",
   "execution_count": 7,
   "metadata": {},
   "outputs": [
    {
     "name": "stdout",
     "output_type": "stream",
     "text": [
      "Test 1 - Valid Query: 'Search for Python tutorials and calculate 10 times 5'\n",
      "============================================================\n",
      "\n",
      "=== Simple Agent ===\n",
      "✓ <think>\n",
      "Okay, let me process the user's request. They wanted two things: a search for Python tutorials and the calculation of 10 times 5.\n",
      "\n",
      "First, I called the web_search function with \"Python tutorials\" to get relevant resources. The results included several free courses and tutorials, which I formatted in the response. Then, I used the calculate function with the expression \"10 * 5\" to perform the multiplication. The result was 50, which I presented clearly.\n",
      "\n",
      "I made sure to separate the two parts of the answer, first listing the search results and then showing the calculation. The user might be a beginner looking to learn Python, so providing both the tutorials and the math answer covers their possible needs. I checked that the links from the search results are valid and relevant, and the calculation is straightforward. Everything seems to be in order.\n",
      "</think>\n",
      "\n",
      "Here are the results:\n",
      "\n",
      "**Python Tutorials:**\n",
      "1. [Free Python Course with Certificate](https://www.simplilearn.com/learn-python-basics-free-course-skillup)\n",
      "2. [Python-bloggers](https://python-bloggers.com/)\n",
      "3. [Free Python Course with Certificate Online](https://www.simplilearn.com/free-python-programming-course-skillup)\n",
      "4. [Planet Python](https://planetpython.org/)\n",
      "5. [The Python Trick I Wish I Knew 3 Years Ago](https://levelup.gitconnected.com/the-python-trick-i-wish-i-knew-3-years-ago-it-wouldve-saved-me-100-hours-a793d851e0a2?source=rss----5517fd7b58a6---4)\n",
      "\n",
      "**Calculation:**  \n",
      "10 × 5 = **50**\n",
      "\n",
      "=== Advanced Agent ===\n",
      "✓ <think>\n",
      "Okay, let me see. The user asked for two things: a search for Python tutorials and to calculate 10 times 5. I called both functions as instructed.\n",
      "\n",
      "First, the web search. The results came back with five tutorials. I should present those in a clear list. Each entry has a title, description, and URL. I'll format them with numbers, bold the titles, and include the links. That way, the user can easily scan through the options.\n",
      "\n",
      "Next, the calculation. The response from the calculate function is straightforward: 10 * 5 = 50. I'll make sure to mention that the result is 50 and perhaps add a friendly note to let them know I'm here if they need more help. \n",
      "\n",
      "Wait, the user might be a beginner looking for tutorials, so maybe I should highlight the most relevant ones. But the search results are already ordered by relevance. I'll just list them as they are. Also, the calculation is simple, so no need for extra explanation. Just confirm the result and offer further assistance. Alright, that should cover it.\n",
      "</think>\n",
      "\n",
      "Here are the results:\n",
      "\n",
      "**Python Tutorials:**\n",
      "1. [Free Python Course with Certificate](https://www.simplilearn.com/learn-python-basics-free-course-skillup)  \n",
      "   Learn Python basics with a certification course.  \n",
      "2. [Python-bloggers](https://python-bloggers.com/)  \n",
      "   Data science news and tutorials from Python communities.  \n",
      "3. [Free Python Programming Course](https://www.simplilearn.com/free-python-programming-course-skillup)  \n",
      "   Explore Python concepts like variables and functions.  \n",
      "4. [Planet Python](https://planetpython.org/)  \n",
      "   A curated list of Python-related content and tutorials.  \n",
      "5. [The Python Trick I Wish I Knew](https://levelup.gitconnected.com/the-python-trick-i-wish-i-knew-3-years-ago-it-wouldve-saved-me-100-hours-a793d851e0a2?source=rss----5517fd7b58a6---4)  \n",
      "   Tips for improving Python coding efficiency.  \n",
      "\n",
      "**Calculation:**  \n",
      "10 × 5 = **50**  \n",
      "\n",
      "Let me know if you need further assistance! 😊\n",
      "\n",
      "\n",
      "Test 2 - Error Query: 'Calculate 10 divided by 0'\n",
      "============================================================\n",
      "\n",
      "=== Simple Agent (crashes) ===\n",
      "✓ <think>\n",
      "Okay, the user tried to calculate 10 divided by 0. I need to explain why that's not possible.\n",
      "\n",
      "First, I remember that division by zero is undefined in mathematics. The calculate function correctly returned an error. Now, I should clarify this for the user in simple terms.\n",
      "\n",
      "Maybe start by stating that dividing by zero isn't allowed. Then explain why: when you divide by zero, it's like asking how many times zero fits into a number, which doesn't make sense. Also, mention that this is a fundamental rule in math to avoid contradictions. Keep it conversational and avoid technical jargon. Make sure the user understands it's not just a calculator error but a mathematical principle.\n",
      "</think>\n",
      "\n",
      "Dividing by zero is undefined in mathematics. This is because zero cannot divide any number, including 10. The operation \"10 ÷ 0\" has no meaningful mathematical result and is considered invalid in all mathematical contexts.\n",
      "\n",
      "=== Advanced Agent (handles gracefully) ===\n",
      "✓ <think>\n",
      "Okay, the user tried to calculate 10 divided by 0. I called the calculate function with the expression \"10 / 0\". The response came back as an error: \"Division by zero\". \n",
      "\n",
      "Now I need to explain this to the user. They might not know why dividing by zero is invalid. I should state that division by zero is undefined in mathematics and that the calculator function correctly identified this as an error. I should also mention that they should avoid dividing by zero in their calculations.\n",
      "\n",
      "Let me make sure the response is clear and helpful. Maybe add an example of a valid division to contrast. Wait, but the user's query was specifically about 10/0. Keep it focused on that. \n",
      "\n",
      "So the response should include the error message, explain why it's invalid, and perhaps suggest a valid example. Let me check the function's parameters again to confirm. The function's description says it returns a string with the result or error. So the error message is already provided, but I can elaborate for the user.\n",
      "\n",
      "Yes, that's right. The user might be testing if I handle such cases, so explaining the reason is important. Alright, time to put it all together in a friendly manner.\n",
      "</think>\n",
      "\n",
      "The calculation \"10 divided by 0\" results in an error because division by zero is undefined in mathematics. The calculator function correctly identified this as an invalid operation. \n",
      "\n",
      "✅ **Valid example**:  \n",
      "`10 / 2 = 5` (no error)  \n",
      "\n",
      "Avoid dividing by zero in any mathematical operations!\n"
     ]
    }
   ],
   "source": [
    "def test_agent(agent, name, query):\n",
    "    \"\"\"Test an agent with a query and display results.\"\"\"\n",
    "    print(f\"\\n=== {name} ===\")\n",
    "    try:\n",
    "        result = agent.invoke({\"messages\": query})\n",
    "        print(f\"✓ {result['messages'][-1].content}\")\n",
    "    except Exception as e:\n",
    "        print(f\"✗ Error: {e}\")\n",
    "\n",
    "# Test 1: Valid query\n",
    "valid_query = \"Search for Python tutorials and calculate 10 times 5\"\n",
    "print(f\"Test 1 - Valid Query: '{valid_query}'\")\n",
    "print(\"=\" * 60)\n",
    "test_agent(agent1, \"Simple Agent\", valid_query)\n",
    "test_agent(agent2, \"Advanced Agent\", valid_query)\n",
    "\n",
    "# Test 2: Query that causes tool error\n",
    "error_query = \"Calculate 10 divided by 0\"\n",
    "print(f\"\\n\\nTest 2 - Error Query: '{error_query}'\")\n",
    "print(\"=\" * 60)\n",
    "test_agent(agent1, \"Simple Agent (crashes)\", error_query)\n",
    "test_agent(agent2, \"Advanced Agent (handles gracefully)\", error_query)\n",
    "\n"
   ]
  }
 ],
 "metadata": {
  "kernelspec": {
   "display_name": "langchain-v1-agents",
   "language": "python",
   "name": "python3"
  },
  "language_info": {
   "codemirror_mode": {
    "name": "ipython",
    "version": 3
   },
   "file_extension": ".py",
   "mimetype": "text/x-python",
   "name": "python",
   "nbconvert_exporter": "python",
   "pygments_lexer": "ipython3",
   "version": "3.12.9"
  }
 },
 "nbformat": 4,
 "nbformat_minor": 4
}
