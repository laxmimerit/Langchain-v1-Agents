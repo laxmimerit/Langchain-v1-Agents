{
 "cells": [
  {
   "cell_type": "markdown",
   "metadata": {},
   "source": [
    "# Custom State for Memory Management\n",
    "\n",
    "This notebook demonstrates how to create custom agent state schemas to track additional information beyond just conversation messages.\n",
    "\n",
    "## Key Concepts\n",
    "- **Default AgentState**: Only tracks messages[]\n",
    "- **Custom AgentState**: Messages + user preferences + session data + task history\n",
    "- **State Persistence**: Within and between conversations\n",
    "- **Memory Management**: Context-aware responses based on history\n",
    "\n",
    "## Benefits of Custom State\n",
    "- **Persistent User Preferences**: Remember settings across conversations\n",
    "- **Context-Aware Responses**: Better personalization\n",
    "- **Session Management**: Handle complex workflows\n",
    "- **Task Tracking**: Remember what user has done before"
   ]
  },
  {
   "cell_type": "code",
   "execution_count": 1,
   "metadata": {},
   "outputs": [],
   "source": [
    "# Import required modules\n",
    "from typing_extensions import Annotated\n",
    "from langchain_ollama import ChatOllama\n",
    "from langchain.agents import create_agent, AgentState\n",
    "from langgraph.graph.message import add_messages\n",
    "import tools"
   ]
  },
  {
   "cell_type": "markdown",
   "metadata": {},
   "source": [
    "## Understanding Default AgentState\n",
    "\n",
    "First, let's understand what the default AgentState provides:"
   ]
  },
  {
   "cell_type": "code",
   "execution_count": 2,
   "metadata": {},
   "outputs": [
    {
     "name": "stdout",
     "output_type": "stream",
     "text": [
      "=== Custom State for Memory Management ===\n",
      "✓ CustomAgentState defined with custom tracking:\n",
      "  - messages: Conversation history (required)\n",
      "  - user_preferences: User settings and preferences\n",
      "  - session_data: Temporary session information\n"
     ]
    }
   ],
   "source": [
    "print(\"=== Custom State for Memory Management ===\")\n",
    "\n",
    "# Define custom state schema\n",
    "class CustomAgentState(AgentState):\n",
    "    \"\"\"Extended agent state with comprehensive memory management.\"\"\"\n",
    "    \n",
    "    # Required: conversation history (from base AgentState)\n",
    "    messages: Annotated[list, add_messages]\n",
    "    \n",
    "    # Custom: user preferences and session data\n",
    "    user_preferences: dict = {}\n",
    "    session_data: dict = {}\n",
    "\n",
    "print(\"✓ CustomAgentState defined with custom tracking:\")\n",
    "print(\"  - messages: Conversation history (required)\")\n",
    "print(\"  - user_preferences: User settings and preferences\")\n",
    "print(\"  - session_data: Temporary session information\")"
   ]
  },
  {
   "cell_type": "code",
   "execution_count": 3,
   "metadata": {},
   "outputs": [
    {
     "name": "stdout",
     "output_type": "stream",
     "text": [
      "=== Creating Agent with Custom State ===\n",
      "✓ Agent created with custom state schema\n",
      "  The agent can now track user preferences and session data\n",
      "  State persists throughout the conversation\n"
     ]
    }
   ],
   "source": [
    "print(\"=== Creating Agent with Custom State ===\")\n",
    "\n",
    "model = ChatOllama(model=\"qwen3\")\n",
    "\n",
    "# Create agent with custom state schema\n",
    "agent = create_agent(\n",
    "    model,\n",
    "    tools=[tools.save_user_preference, tools.get_user_preference],\n",
    "    state_schema=CustomAgentState  # This enables custom state tracking\n",
    ")\n",
    "\n",
    "print(\"✓ Agent created with custom state schema\")\n",
    "print(\"  The agent can now track user preferences and session data\")\n",
    "print(\"  State persists throughout the conversation\")"
   ]
  },
  {
   "cell_type": "markdown",
   "metadata": {},
   "source": [
    "## Creating Agent with Custom State\n",
    "\n",
    "Now let's create an agent that uses our custom state schema:"
   ]
  },
  {
   "cell_type": "code",
   "execution_count": 4,
   "metadata": {},
   "outputs": [
    {
     "name": "stdout",
     "output_type": "stream",
     "text": [
      "=== Testing Custom State Features - Saving Preferences ===\n",
      "User input: Please save these user preferences for me:\n",
      "- explanation_preference: technical explanations and detailed examples\n",
      "- code_style: verbose with comments\n",
      "- output_format: structured with examples\n",
      "\n",
      "Agent response: <think>\n",
      "</think>\n",
      "\n",
      "All user preferences have been successfully saved:\n",
      "\n",
      "- **explanation_preference**: Technical explanations and detailed examples\n",
      "- **code_style**: Verbose with comments\n",
      "- **output_format**: Structured with examples\n",
      "\n",
      "Let me know if you need to retrieve or adjust these preferences later!\n",
      "\n",
      "============================================================\n"
     ]
    }
   ],
   "source": [
    "print(\"=== Testing Custom State Features - Saving Preferences ===\")\n",
    "\n",
    "# Test 1: Save multiple preferences\n",
    "user_message = \"\"\"Please save these user preferences for me:\n",
    "- explanation_preference: technical explanations and detailed examples\n",
    "- code_style: verbose with comments\n",
    "- output_format: structured with examples\"\"\"\n",
    "\n",
    "print(f\"User input: {user_message}\\n\")\n",
    "\n",
    "result = agent.invoke({\n",
    "    \"messages\": user_message,\n",
    "    \"session_data\": {\n",
    "        \"session_id\": \"demo123\",\n",
    "        \"start_time\": \"2024-01-01T10:00:00\"\n",
    "    }\n",
    "})\n",
    "\n",
    "print(f\"Agent response: {result['messages'][-1].content}\\n\")\n",
    "print(\"=\" * 60)"
   ]
  },
  {
   "cell_type": "code",
   "execution_count": 5,
   "metadata": {},
   "outputs": [
    {
     "name": "stdout",
     "output_type": "stream",
     "text": [
      "=== Testing Custom State Features - Reading Preferences ===\n",
      "User input: What preferences do I have saved? Please check explanation_preference, code_style, and output_format.\n",
      "\n",
      "Agent response: <think>\n",
      "Okay, let me process this. The user asked to check their saved preferences: explanation_preference, code_style, and output_format. I called the get_user_preference function for each of these keys. The responses came back with the values they set earlier. Now I need to present this information clearly.\n",
      "\n",
      "First, I'll list each preference with its corresponding value. Make sure to format it in a way that's easy to read, maybe using bullet points or a structured list. Also, since the user might be verifying their settings, I should confirm that these are the current values. Maybe add a note at the end offering further assistance if needed. Let me double-check that all three preferences are included and correctly displayed. Alright, time to put it all together.\n",
      "</think>\n",
      "\n",
      "Here are your currently saved preferences:\n",
      "\n",
      "- **explanation_preference**: Technical explanations and detailed examples  \n",
      "- **code_style**: Verbose with comments  \n",
      "- **output_format**: Structured with examples  \n",
      "\n",
      "Let me know if you'd like to adjust any of these settings!\n",
      "\n",
      "============================================================\n",
      "\n",
      "✓ Preferences are now persisted to file and can be retrieved across sessions\n"
     ]
    }
   ],
   "source": [
    "print(\"=== Testing Custom State Features - Reading Preferences ===\")\n",
    "\n",
    "# Test 2: Retrieve saved preferences\n",
    "user_message = \"What preferences do I have saved? Please check explanation_preference, code_style, and output_format.\"\n",
    "\n",
    "print(f\"User input: {user_message}\\n\")\n",
    "\n",
    "result = agent.invoke({\n",
    "    \"messages\": result[\"messages\"] + [{\"role\": \"user\", \"content\": user_message}],\n",
    "    \"session_data\": result.get(\"session_data\", {})\n",
    "})\n",
    "\n",
    "print(f\"Agent response: {result['messages'][-1].content}\\n\")\n",
    "print(\"=\" * 60)\n",
    "print(\"\\n✓ Preferences are now persisted to file and can be retrieved across sessions\")"
   ]
  }
 ],
 "metadata": {
  "kernelspec": {
   "display_name": "langchain-v1-agents",
   "language": "python",
   "name": "python3"
  },
  "language_info": {
   "codemirror_mode": {
    "name": "ipython",
    "version": 3
   },
   "file_extension": ".py",
   "mimetype": "text/x-python",
   "name": "python",
   "nbconvert_exporter": "python",
   "pygments_lexer": "ipython3",
   "version": "3.12.9"
  }
 },
 "nbformat": 4,
 "nbformat_minor": 4
}
