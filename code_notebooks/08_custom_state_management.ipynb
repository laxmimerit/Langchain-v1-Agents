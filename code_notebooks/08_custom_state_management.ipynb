{
 "cells": [
  {
   "cell_type": "markdown",
   "metadata": {},
   "source": [
    "# Custom State for Memory Management\n",
    "\n",
    "This notebook demonstrates how to create custom agent state schemas to track additional information beyond just conversation messages.\n",
    "\n",
    "## Key Concepts\n",
    "- **Default AgentState**: Only tracks messages[]\n",
    "- **Custom AgentState**: Messages + user preferences + session data + task history\n",
    "- **State Persistence**: Within and between conversations\n",
    "- **Memory Management**: Context-aware responses based on history\n",
    "\n",
    "## Benefits of Custom State\n",
    "- **Persistent User Preferences**: Remember settings across conversations\n",
    "- **Context-Aware Responses**: Better personalization\n",
    "- **Session Management**: Handle complex workflows\n",
    "- **Task Tracking**: Remember what user has done before"
   ]
  },
  {
   "cell_type": "code",
   "execution_count": null,
   "metadata": {},
   "outputs": [],
   "source": [
    "# AgentState-> state: {'messages': [your message 1, m2, m3 and so on]}"
   ]
  },
  {
   "cell_type": "code",
   "execution_count": 1,
   "metadata": {},
   "outputs": [],
   "source": [
    "# Import required modules\n",
    "from typing_extensions import Annotated\n",
    "from langchain_ollama import ChatOllama\n",
    "from langchain.agents import create_agent, AgentState\n",
    "from langgraph.graph.message import add_messages\n",
    "import tools"
   ]
  },
  {
   "cell_type": "markdown",
   "metadata": {},
   "source": [
    "## Understanding Default AgentState\n",
    "\n",
    "First, let's understand what the default AgentState provides:"
   ]
  },
  {
   "cell_type": "code",
   "execution_count": 2,
   "metadata": {},
   "outputs": [
    {
     "name": "stdout",
     "output_type": "stream",
     "text": [
      "=== Custom State for Memory Management ===\n",
      "✓ CustomAgentState defined with custom tracking:\n",
      "  - messages: Conversation history (required)\n",
      "  - user_preferences: User settings and preferences\n",
      "  - session_data: Temporary session information\n"
     ]
    }
   ],
   "source": [
    "print(\"=== Custom State for Memory Management ===\")\n",
    "\n",
    "# Define custom state schema\n",
    "class CustomAgentState(AgentState):\n",
    "    \"\"\"Extended agent state with comprehensive memory management.\"\"\"\n",
    "    \n",
    "    # Required: conversation history (from base AgentState)\n",
    "    messages: Annotated[list, add_messages]\n",
    "    \n",
    "    # Custom: user preferences and session data\n",
    "    user_preferences: dict = {}\n",
    "    session_data: dict = {}\n",
    "\n",
    "print(\"✓ CustomAgentState defined with custom tracking:\")\n",
    "print(\"  - messages: Conversation history (required)\")\n",
    "print(\"  - user_preferences: User settings and preferences\")\n",
    "print(\"  - session_data: Temporary session information\")"
   ]
  },
  {
   "cell_type": "code",
   "execution_count": 3,
   "metadata": {},
   "outputs": [
    {
     "name": "stdout",
     "output_type": "stream",
     "text": [
      "=== Creating Agent with Custom State ===\n",
      "✓ Agent created with custom state schema\n",
      "  The agent can now track user preferences and session data\n",
      "  State persists throughout the conversation\n"
     ]
    }
   ],
   "source": [
    "print(\"=== Creating Agent with Custom State ===\")\n",
    "\n",
    "model = ChatOllama(model=\"qwen3\")\n",
    "\n",
    "# Create agent with custom state schema\n",
    "agent = create_agent(\n",
    "    model,\n",
    "    tools=[tools.save_user_preference, tools.get_user_preference],\n",
    "    state_schema=CustomAgentState  # This enables custom state tracking\n",
    ")\n",
    "\n",
    "print(\"✓ Agent created with custom state schema\")\n",
    "print(\"  The agent can now track user preferences and session data\")\n",
    "print(\"  State persists throughout the conversation\")"
   ]
  },
  {
   "cell_type": "markdown",
   "metadata": {},
   "source": [
    "## Creating Agent with Custom State\n",
    "\n",
    "Now let's create an agent that uses our custom state schema:"
   ]
  },
  {
   "cell_type": "code",
   "execution_count": 4,
   "metadata": {},
   "outputs": [
    {
     "name": "stdout",
     "output_type": "stream",
     "text": [
      "=== Testing Custom State Features - Saving Preferences ===\n",
      "User input: Please save these user preferences for me:\n",
      "- explanation_preference: technical explanations and detailed examples\n",
      "- code_style: verbose with comments\n",
      "- output_format: structured with examples\n",
      "\n",
      "Agent response: <think>\n",
      "</think>\n",
      "\n",
      "Your preferences have been successfully saved:\n",
      "- Explanation preference set to: technical explanations and detailed examples\n",
      "- Code style set to: verbose with comments\n",
      "- Output format set to: structured with examples\n",
      "\n",
      "Would you like me to demonstrate how these preferences would affect a sample explanation or code example?\n",
      "\n",
      "============================================================\n"
     ]
    }
   ],
   "source": [
    "print(\"=== Testing Custom State Features - Saving Preferences ===\")\n",
    "\n",
    "# Test 1: Save multiple preferences\n",
    "user_message = \"\"\"Please save these user preferences for me:\n",
    "- explanation_preference: technical explanations and detailed examples\n",
    "- code_style: verbose with comments\n",
    "- output_format: structured with examples\"\"\"\n",
    "\n",
    "print(f\"User input: {user_message}\\n\")\n",
    "\n",
    "result = agent.invoke({\n",
    "    \"messages\": user_message,\n",
    "    \"session_data\": {\n",
    "        \"session_id\": \"demo123\",\n",
    "        \"start_time\": \"2024-01-01T10:00:00\"\n",
    "    }\n",
    "})\n",
    "\n",
    "print(f\"Agent response: {result['messages'][-1].content}\\n\")\n",
    "print(\"=\" * 60)"
   ]
  },
  {
   "cell_type": "code",
   "execution_count": 5,
   "metadata": {},
   "outputs": [
    {
     "data": {
      "text/plain": [
       "{'messages': [HumanMessage(content='Please save these user preferences for me:\\n- explanation_preference: technical explanations and detailed examples\\n- code_style: verbose with comments\\n- output_format: structured with examples', additional_kwargs={}, response_metadata={}, id='a3dec03a-3c8a-4f38-a0c7-646a259d8341'),\n",
       "  AIMessage(content=\"<think>\\nOkay, the user wants me to save their preferences. Let me check the tools available. There's the save_user_preference function. It requires key and value parameters. The user provided three preferences: explanation_preference, code_style, and output_format. Each of these should be saved individually. I need to make sure each key-value pair is passed correctly. Let me structure each as a separate function call. First, explanation_preference with technical explanations. Then code_style as verbose with comments. Lastly, output_format as structured with examples. I'll format each in the tool_call JSON.\\n</think>\\n\\n\", additional_kwargs={}, response_metadata={'model': 'qwen3', 'created_at': '2025-10-02T17:18:43.3361112Z', 'done': True, 'done_reason': 'stop', 'total_duration': 3512938000, 'load_duration': 1915039400, 'prompt_eval_count': 293, 'prompt_eval_duration': 246591700, 'eval_count': 212, 'eval_duration': 1350164400, 'model_name': 'qwen3'}, id='run--198b2c84-b048-4332-999b-fe3cad82dba1-0', tool_calls=[{'type': 'tool_call', 'id': '14598562-5a56-4b3a-ae8c-13c1bcaf0342', 'name': 'save_user_preference', 'args': {'key': 'explanation_preference', 'value': 'technical explanations and detailed examples'}}, {'type': 'tool_call', 'id': '6996e56a-107d-438b-b9fa-160bcc76e1c0', 'name': 'save_user_preference', 'args': {'key': 'code_style', 'value': 'verbose with comments'}}, {'type': 'tool_call', 'id': 'fe661c2a-2531-4d6a-8587-9bb359bc4066', 'name': 'save_user_preference', 'args': {'key': 'output_format', 'value': 'structured with examples'}}], usage_metadata={'input_tokens': 293, 'output_tokens': 212, 'total_tokens': 505}),\n",
       "  ToolMessage(content='Saved preference: explanation_preference = technical explanations and detailed examples', name='save_user_preference', id='600f05d5-2586-4376-a996-b73561fee263', tool_call_id='14598562-5a56-4b3a-ae8c-13c1bcaf0342'),\n",
       "  ToolMessage(content='Saved preference: code_style = verbose with comments', name='save_user_preference', id='c26c8484-38ec-4337-8391-41bdafc9a44d', tool_call_id='6996e56a-107d-438b-b9fa-160bcc76e1c0'),\n",
       "  ToolMessage(content='Saved preference: output_format = structured with examples', name='save_user_preference', id='d60d5183-cdcd-4968-ab30-716a8dea470e', tool_call_id='fe661c2a-2531-4d6a-8587-9bb359bc4066'),\n",
       "  AIMessage(content='<think>\\n</think>\\n\\nYour preferences have been successfully saved:\\n- Explanation preference set to: technical explanations and detailed examples\\n- Code style set to: verbose with comments\\n- Output format set to: structured with examples\\n\\nWould you like me to demonstrate how these preferences would affect a sample explanation or code example?', additional_kwargs={}, response_metadata={'model': 'qwen3', 'created_at': '2025-10-02T17:18:43.8799818Z', 'done': True, 'done_reason': 'stop', 'total_duration': 531092700, 'load_duration': 47263400, 'prompt_eval_count': 473, 'prompt_eval_duration': 38178000, 'eval_count': 62, 'eval_duration': 430887500, 'model_name': 'qwen3'}, id='run--5f6cca4a-45ac-4321-acd0-340e9400fb0f-0', usage_metadata={'input_tokens': 473, 'output_tokens': 62, 'total_tokens': 535})],\n",
       " 'session_data': {'session_id': 'demo123',\n",
       "  'start_time': '2024-01-01T10:00:00'}}"
      ]
     },
     "execution_count": 5,
     "metadata": {},
     "output_type": "execute_result"
    }
   ],
   "source": [
    "result"
   ]
  },
  {
   "cell_type": "code",
   "execution_count": 6,
   "metadata": {},
   "outputs": [
    {
     "name": "stdout",
     "output_type": "stream",
     "text": [
      "=== Testing Custom State Features - Reading Preferences ===\n",
      "User input: What preferences do I have saved? Please check explanation_preference, code_style, and output_format.\n",
      "\n",
      "Agent response: <think>\n",
      "Okay, let me process this. The user asked to check their saved preferences for explanation_preference, code_style, and output_format. I called the get_user_preference function for each key. The responses came back with the values they set earlier. Now I need to present these in a clear way. Let me structure the answer so each preference is listed with its value. Make sure to mention that the preferences are successfully retrieved. Also, maybe offer further assistance in case they need changes or want to see an example. Keep the response friendly and straightforward.\n",
      "</think>\n",
      "\n",
      "Your saved preferences are:\n",
      "\n",
      "- **Explanation preference**: technical explanations and detailed examples  \n",
      "- **Code style**: verbose with comments  \n",
      "- **Output format**: structured with examples  \n",
      "\n",
      "Let me know if you'd like to adjust these or see an example based on your settings! 😊\n",
      "\n",
      "============================================================\n",
      "\n",
      "✓ Preferences are now persisted to file and can be retrieved across sessions\n"
     ]
    }
   ],
   "source": [
    "print(\"=== Testing Custom State Features - Reading Preferences ===\")\n",
    "\n",
    "# Test 2: Retrieve saved preferences\n",
    "user_message = \"What preferences do I have saved? Please check explanation_preference, code_style, and output_format.\"\n",
    "\n",
    "print(f\"User input: {user_message}\\n\")\n",
    "\n",
    "result = agent.invoke({\n",
    "    \"messages\": result[\"messages\"] + [{\"role\": \"user\", \"content\": user_message}],\n",
    "    \"session_data\": result.get(\"session_data\", {})\n",
    "})\n",
    "\n",
    "print(f\"Agent response: {result['messages'][-1].content}\\n\")\n",
    "print(\"=\" * 60)\n",
    "print(\"\\n✓ Preferences are now persisted to file and can be retrieved across sessions\")"
   ]
  }
 ],
 "metadata": {
  "kernelspec": {
   "display_name": "langchain-v1-agents",
   "language": "python",
   "name": "python3"
  },
  "language_info": {
   "codemirror_mode": {
    "name": "ipython",
    "version": 3
   },
   "file_extension": ".py",
   "mimetype": "text/x-python",
   "name": "python",
   "nbconvert_exporter": "python",
   "pygments_lexer": "ipython3",
   "version": "3.12.9"
  }
 },
 "nbformat": 4,
 "nbformat_minor": 4
}
