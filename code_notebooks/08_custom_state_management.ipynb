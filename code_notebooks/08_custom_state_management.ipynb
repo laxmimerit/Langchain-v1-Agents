{
 "cells": [
  {
   "cell_type": "markdown",
   "metadata": {},
   "source": [
    "# Custom State for Memory Management\n",
    "\n",
    "This notebook demonstrates how to create custom agent state schemas to track additional information beyond just conversation messages.\n",
    "\n",
    "## Key Concepts\n",
    "- **Default AgentState**: Only tracks messages[]\n",
    "- **Custom AgentState**: Messages + user preferences + session data + task history\n",
    "- **State Persistence**: Within and between conversations\n",
    "- **Memory Management**: Context-aware responses based on history\n",
    "\n",
    "## Benefits of Custom State\n",
    "- **Persistent User Preferences**: Remember settings across conversations\n",
    "- **Context-Aware Responses**: Better personalization\n",
    "- **Session Management**: Handle complex workflows\n",
    "- **Task Tracking**: Remember what user has done before"
   ]
  },
  {
   "cell_type": "code",
   "execution_count": 1,
   "metadata": {},
   "outputs": [
    {
     "ename": "AttributeError",
     "evalue": "module 'os' has no attribute 'filepath'",
     "output_type": "error",
     "traceback": [
      "\u001b[31m---------------------------------------------------------------------------\u001b[39m",
      "\u001b[31mAttributeError\u001b[39m                            Traceback (most recent call last)",
      "\u001b[36mCell\u001b[39m\u001b[36m \u001b[39m\u001b[32mIn[1]\u001b[39m\u001b[32m, line 6\u001b[39m\n\u001b[32m      4\u001b[39m \u001b[38;5;28;01mfrom\u001b[39;00m\u001b[38;5;250m \u001b[39m\u001b[34;01mlangchain\u001b[39;00m\u001b[34;01m.\u001b[39;00m\u001b[34;01magents\u001b[39;00m\u001b[38;5;250m \u001b[39m\u001b[38;5;28;01mimport\u001b[39;00m create_agent, AgentState\n\u001b[32m      5\u001b[39m \u001b[38;5;28;01mfrom\u001b[39;00m\u001b[38;5;250m \u001b[39m\u001b[34;01mlanggraph\u001b[39;00m\u001b[34;01m.\u001b[39;00m\u001b[34;01mgraph\u001b[39;00m\u001b[34;01m.\u001b[39;00m\u001b[34;01mmessage\u001b[39;00m\u001b[38;5;250m \u001b[39m\u001b[38;5;28;01mimport\u001b[39;00m add_messages\n\u001b[32m----> \u001b[39m\u001b[32m6\u001b[39m \u001b[38;5;28;01mimport\u001b[39;00m\u001b[38;5;250m \u001b[39m\u001b[34;01mtools\u001b[39;00m\n",
      "\u001b[36mFile \u001b[39m\u001b[32md:\\YouTube\\Langchain-v1-Agents\\code_notebooks\\tools.py:191\u001b[39m\n\u001b[32m    188\u001b[39m         \u001b[38;5;28mself\u001b[39m.temp_dir = os.path.join(os.filepath.dirname(\u001b[34m__file__\u001b[39m), \u001b[33m'\u001b[39m\u001b[33mlangchain_tools\u001b[39m\u001b[33m'\u001b[39m)\n\u001b[32m    189\u001b[39m         \u001b[38;5;28mself\u001b[39m.temp_dir.mkdir(exist_ok=\u001b[38;5;28;01mTrue\u001b[39;00m)\n\u001b[32m--> \u001b[39m\u001b[32m191\u001b[39m config = \u001b[43mToolConfig\u001b[49m\u001b[43m(\u001b[49m\u001b[43m)\u001b[49m\n\u001b[32m    192\u001b[39m prefs_file = config.temp_dir / \u001b[33m\"\u001b[39m\u001b[33muser_preferences.json\u001b[39m\u001b[33m\"\u001b[39m\n\u001b[32m    194\u001b[39m \u001b[38;5;129m@tool\u001b[39m\n\u001b[32m    195\u001b[39m \u001b[38;5;28;01mdef\u001b[39;00m\u001b[38;5;250m \u001b[39m\u001b[34msave_user_preference\u001b[39m(key: \u001b[38;5;28mstr\u001b[39m, value: \u001b[38;5;28mstr\u001b[39m) -> \u001b[38;5;28mstr\u001b[39m:\n",
      "\u001b[36mFile \u001b[39m\u001b[32md:\\YouTube\\Langchain-v1-Agents\\code_notebooks\\tools.py:188\u001b[39m, in \u001b[36mToolConfig.__init__\u001b[39m\u001b[34m(self)\u001b[39m\n\u001b[32m    186\u001b[39m \u001b[38;5;28;01mdef\u001b[39;00m\u001b[38;5;250m \u001b[39m\u001b[34m__init__\u001b[39m(\u001b[38;5;28mself\u001b[39m):\n\u001b[32m    187\u001b[39m     \u001b[38;5;28mself\u001b[39m.user_preferences = {}\n\u001b[32m--> \u001b[39m\u001b[32m188\u001b[39m     \u001b[38;5;28mself\u001b[39m.temp_dir = os.path.join(\u001b[43mos\u001b[49m\u001b[43m.\u001b[49m\u001b[43mfilepath\u001b[49m.dirname(\u001b[34m__file__\u001b[39m), \u001b[33m'\u001b[39m\u001b[33mlangchain_tools\u001b[39m\u001b[33m'\u001b[39m)\n\u001b[32m    189\u001b[39m     \u001b[38;5;28mself\u001b[39m.temp_dir.mkdir(exist_ok=\u001b[38;5;28;01mTrue\u001b[39;00m)\n",
      "\u001b[31mAttributeError\u001b[39m: module 'os' has no attribute 'filepath'"
     ]
    }
   ],
   "source": [
    "# Import required modules\n",
    "from typing_extensions import Annotated\n",
    "from langchain_ollama import ChatOllama\n",
    "from langchain.agents import create_agent, AgentState\n",
    "from langgraph.graph.message import add_messages\n",
    "import tools"
   ]
  },
  {
   "cell_type": "markdown",
   "metadata": {},
   "source": [
    "## Understanding Default AgentState\n",
    "\n",
    "First, let's understand what the default AgentState provides:"
   ]
  },
  {
   "cell_type": "code",
   "execution_count": null,
   "metadata": {},
   "outputs": [
    {
     "name": "stdout",
     "output_type": "stream",
     "text": [
      "=== Custom State for Memory Management ===\n",
      "✓ CustomAgentState defined with custom tracking:\n",
      "  - messages: Conversation history (required)\n",
      "  - user_preferences: User settings and preferences\n",
      "  - session_data: Temporary session information\n"
     ]
    }
   ],
   "source": [
    "print(\"=== Custom State for Memory Management ===\")\n",
    "\n",
    "# Define custom state schema\n",
    "class CustomAgentState(AgentState):\n",
    "    \"\"\"Extended agent state with comprehensive memory management.\"\"\"\n",
    "    \n",
    "    # Required: conversation history (from base AgentState)\n",
    "    messages: Annotated[list, add_messages]\n",
    "    \n",
    "    # Custom: user preferences and session data\n",
    "    user_preferences: dict = {}\n",
    "    session_data: dict = {}\n",
    "\n",
    "print(\"✓ CustomAgentState defined with custom tracking:\")\n",
    "print(\"  - messages: Conversation history (required)\")\n",
    "print(\"  - user_preferences: User settings and preferences\")\n",
    "print(\"  - session_data: Temporary session information\")"
   ]
  },
  {
   "cell_type": "code",
   "execution_count": null,
   "metadata": {},
   "outputs": [
    {
     "name": "stdout",
     "output_type": "stream",
     "text": [
      "=== Creating Agent with Custom State ===\n",
      "✓ Agent created with custom state schema\n",
      "  The agent can now track user preferences and session data\n",
      "  State persists throughout the conversation\n"
     ]
    }
   ],
   "source": [
    "print(\"=== Creating Agent with Custom State ===\")\n",
    "\n",
    "model = ChatOllama(model=\"qwen3\")\n",
    "\n",
    "# Create agent with custom state schema\n",
    "agent = create_agent(\n",
    "    model,\n",
    "    tools=[tools.save_user_preference, tools.get_user_preference],\n",
    "    state_schema=CustomAgentState  # This enables custom state tracking\n",
    ")\n",
    "\n",
    "print(\"✓ Agent created with custom state schema\")\n",
    "print(\"  The agent can now track user preferences and session data\")\n",
    "print(\"  State persists throughout the conversation\")"
   ]
  },
  {
   "cell_type": "markdown",
   "metadata": {},
   "source": [
    "## Creating Agent with Custom State\n",
    "\n",
    "Now let's create an agent that uses our custom state schema:"
   ]
  },
  {
   "cell_type": "code",
   "execution_count": null,
   "metadata": {},
   "outputs": [
    {
     "name": "stdout",
     "output_type": "stream",
     "text": [
      "=== Testing Custom State Features ===\n",
      "User input: I prefer technical explanations and detailed examples\n",
      "Additional state data:\n",
      "   - user_preferences: {'style': 'technical', 'verbosity': 'detailed'}\n",
      "   - session_data: {'session_id': 'demo123'}\n",
      "Agent response: <think>\n",
      "</think>\n",
      "\n",
      "I'll ensure my explanations are technically detailed and include comprehensive examples. How would you like me to proceed with your current query?\n",
      "Preferences maintained: {'style': 'technical', 'verbosity': 'detailed', 'examples': 'code-heavy'}\n",
      "The agent can now use this state data to personalize future responses\n"
     ]
    }
   ],
   "source": [
    "print(\"=== Testing Custom State Features ===\")\n",
    "\n",
    "# Test with custom state data\n",
    "user_message = \"I prefer technical explanations and detailed examples\"\n",
    "\n",
    "print(f\"User input: {user_message}\")\n",
    "print(\"Additional state data:\")\n",
    "print(\"   - user_preferences: {'style': 'technical', 'verbosity': 'detailed'}\")\n",
    "print(\"   - session_data: {'session_id': 'demo123'}\")\n",
    "\n",
    "result = agent.invoke({\n",
    "    \"messages\": user_message,\n",
    "    \"user_preferences\": {\n",
    "        \"style\": \"technical\", \n",
    "        \"verbosity\": \"detailed\",\n",
    "        \"examples\": \"code-heavy\"\n",
    "    },\n",
    "    \"session_data\": {\n",
    "        \"session_id\": \"demo123\",\n",
    "        \"start_time\": \"2024-01-01T10:00:00\"\n",
    "    }\n",
    "})\n",
    "\n",
    "print(f\"Agent response: {result['messages'][-1].content}\")\n",
    "print(f\"Preferences maintained: {result.get('user_preferences', {})}\")\n",
    "print(\"The agent can now use this state data to personalize future responses\")"
   ]
  }
 ],
 "metadata": {
  "kernelspec": {
   "display_name": "langchain-v1-agents",
   "language": "python",
   "name": "python3"
  },
  "language_info": {
   "codemirror_mode": {
    "name": "ipython",
    "version": 3
   },
   "file_extension": ".py",
   "mimetype": "text/x-python",
   "name": "python",
   "nbconvert_exporter": "python",
   "pygments_lexer": "ipython3",
   "version": "3.12.9"
  }
 },
 "nbformat": 4,
 "nbformat_minor": 4
}
