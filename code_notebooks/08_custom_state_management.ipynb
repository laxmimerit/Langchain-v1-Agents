{
 "cells": [
  {
   "cell_type": "markdown",
   "metadata": {},
   "source": [
    "# Custom State for Memory Management\n",
    "\n",
    "This notebook demonstrates how to create custom agent state schemas to track additional information beyond just conversation messages.\n",
    "\n",
    "## Key Concepts\n",
    "- **Default AgentState**: Only tracks messages[]\n",
    "- **Custom AgentState**: Messages + user preferences + session data + task history\n",
    "- **State Persistence**: Within and between conversations\n",
    "- **Memory Management**: Context-aware responses based on history\n",
    "\n",
    "## Benefits of Custom State\n",
    "- **Persistent User Preferences**: Remember settings across conversations\n",
    "- **Context-Aware Responses**: Better personalization\n",
    "- **Session Management**: Handle complex workflows\n",
    "- **Task Tracking**: Remember what user has done before"
   ]
  },
  {
   "cell_type": "code",
   "execution_count": null,
   "metadata": {},
   "outputs": [],
   "source": [
    "# Import required modules\n",
    "from typing_extensions import Annotated\n",
    "from langchain_ollama import ChatOllama\n",
    "from langchain.agents import create_agent, AgentState\n",
    "from langgraph.graph.message import add_messages\n",
    "import tools"
   ]
  },
  {
   "cell_type": "markdown",
   "metadata": {},
   "source": [
    "## Understanding Default AgentState\n",
    "\n",
    "First, let's understand what the default AgentState provides:"
   ]
  },
  {
   "cell_type": "code",
   "execution_count": null,
   "metadata": {},
   "outputs": [],
   "source": [
    "print(\"=== Custom State for Memory Management ===\")\n",
    "\n",
    "# Define custom state schema\n",
    "class CustomAgentState(AgentState):\n",
    "    \"\"\"Extended agent state with comprehensive memory management.\"\"\"\n",
    "    \n",
    "    # Required: conversation history (from base AgentState)\n",
    "    messages: Annotated[list, add_messages]\n",
    "    \n",
    "    # Custom: user preferences and session data\n",
    "    user_preferences: dict = {}\n",
    "    session_data: dict = {}\n",
    "\n",
    "print(\"✓ CustomAgentState defined with custom tracking:\")\n",
    "print(\"  - messages: Conversation history (required)\")\n",
    "print(\"  - user_preferences: User settings and preferences\")\n",
    "print(\"  - session_data: Temporary session information\")"
   ]
  },
  {
   "cell_type": "code",
   "execution_count": null,
   "metadata": {},
   "outputs": [],
   "source": [
    "print(\"=== Creating Agent with Custom State ===\")\n",
    "\n",
    "model = ChatOllama(model=\"qwen3\")\n",
    "\n",
    "# Create agent with custom state schema\n",
    "agent = create_agent(\n",
    "    model,\n",
    "    tools=[tools.save_user_preference, tools.get_user_preference],\n",
    "    state_schema=CustomAgentState  # This enables custom state tracking\n",
    ")\n",
    "\n",
    "print(\"✓ Agent created with custom state schema\")\n",
    "print(\"  The agent can now track user preferences and session data\")\n",
    "print(\"  State persists throughout the conversation\")"
   ]
  },
  {
   "cell_type": "markdown",
   "metadata": {},
   "source": [
    "## Creating Agent with Custom State\n",
    "\n",
    "Now let's create an agent that uses our custom state schema:"
   ]
  },
  {
   "cell_type": "code",
   "execution_count": null,
   "metadata": {},
   "outputs": [],
   "source": [
    "print(\"=== Testing Custom State Features ===\")\n",
    "\n",
    "# Test with custom state data\n",
    "user_message = \"I prefer technical explanations and detailed examples\"\n",
    "\n",
    "print(f\"User input: {user_message}\")\n",
    "print(\"Additional state data:\")\n",
    "print(\"   - user_preferences: {'style': 'technical', 'verbosity': 'detailed'}\")\n",
    "print(\"   - session_data: {'session_id': 'demo123'}\")\n",
    "\n",
    "result = agent.invoke({\n",
    "    \"messages\": user_message,\n",
    "    \"user_preferences\": {\n",
    "        \"style\": \"technical\", \n",
    "        \"verbosity\": \"detailed\",\n",
    "        \"examples\": \"code-heavy\"\n",
    "    },\n",
    "    \"session_data\": {\n",
    "        \"session_id\": \"demo123\",\n",
    "        \"start_time\": \"2024-01-01T10:00:00\"\n",
    "    }\n",
    "})\n",
    "\n",
    "print(f\"Agent response: {result['messages'][-1].content}\")\n",
    "print(f\"Preferences maintained: {result.get('user_preferences', {})}\")\n",
    "\n",
    "print(\"The agent can now use this state data to personalize future responses\")"
   ]
  },
  {
   "cell_type": "code",
   "execution_count": null,
   "metadata": {},
   "outputs": [],
   "source": []
  }
 ],
 "metadata": {
  "kernelspec": {
   "display_name": "langchain-v1-agents",
   "language": "python",
   "name": "python3"
  },
  "language_info": {
   "codemirror_mode": {
    "name": "ipython",
    "version": 3
   },
   "file_extension": ".py",
   "mimetype": "text/x-python",
   "name": "python",
   "nbconvert_exporter": "python",
   "pygments_lexer": "ipython3",
   "version": "3.12.9"
  }
 },
 "nbformat": 4,
 "nbformat_minor": 4
}
