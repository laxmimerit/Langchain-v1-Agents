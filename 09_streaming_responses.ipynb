{
 "cells": [
  {
   "cell_type": "markdown",
   "metadata": {},
   "source": [
    "# Streaming Agent Responses\n",
    "\n",
    "This notebook demonstrates how to stream agent responses in real-time, allowing you to see the agent's thinking process as it happens.\n",
    "\n",
    "## Key Concepts\n",
    "- **Real-time Feedback**: See responses as they develop\n",
    "- **Better UX**: Improved user experience for long-running tasks\n",
    "- **Intermediate Steps**: Observe reasoning and tool calls\n",
    "- **Early Termination**: Ability to stop if needed\n",
    "\n",
    "## Stream Modes\n",
    "- **\"values\"**: Get complete state at each step\n",
    "- **\"updates\"**: Get only the changes/updates\n",
    "- **\"messages\"**: Get only message updates\n",
    "\n",
    "## What You Can Stream\n",
    "- Model thinking/reasoning\n",
    "- Tool calls being made\n",
    "- Tool results/observations\n",
    "- Final answers"
   ]
  },
  {
   "cell_type": "markdown",
   "metadata": {},
   "source": [
    "## Prerequisites\n",
    "\n",
    "Make sure you have the required packages installed:\n",
    "\n",
    "```bash\n",
    "pip install --pre langchain langchain-community langchain-core langgraph pydantic\n",
    "ollama pull qwen3\n",
    "ollama serve\n",
    "```"
   ]
  },
  {
   "cell_type": "code",
   "execution_count": 1,
   "metadata": {},
   "outputs": [],
   "source": [
    "# Import required modules\n",
    "from langchain_ollama import ChatOllama\n",
    "from langchain.agents import create_agent\n",
    "import tools"
   ]
  },
  {
   "cell_type": "markdown",
   "metadata": {},
   "source": [
    "## Basic Streaming Setup\n",
    "\n",
    "Let's start with a basic streaming agent configuration:"
   ]
  },
  {
   "cell_type": "code",
   "execution_count": 2,
   "metadata": {},
   "outputs": [
    {
     "name": "stdout",
     "output_type": "stream",
     "text": [
      "=== Streaming Agent Responses ===\n",
      "✓ Streaming agent created with tools: web_search, calculate\n",
      "  Ready for real-time streaming responses\n"
     ]
    }
   ],
   "source": [
    "print(\"=== Streaming Agent Responses ===\")\n",
    "\n",
    "model = ChatOllama(model=\"qwen3\")\n",
    "agent = create_agent(model, tools=[tools.web_search, tools.calculate])\n",
    "\n",
    "print(\"✓ Streaming agent created with tools: web_search, calculate\")\n",
    "print(\"  Ready for real-time streaming responses\")"
   ]
  },
  {
   "cell_type": "code",
   "execution_count": null,
   "metadata": {},
   "outputs": [
    {
     "name": "stdout",
     "output_type": "stream",
     "text": [
      "=== Testing Streaming Responses ===\n",
      "\n",
      "Streaming response for: 'Search for the latest AI news, then calculate 25 * 4 + 100'\n",
      "Watching agent work in real-time:\n",
      "--------------------------------------------------\n",
      "Agent thinking: Search for the latest AI news, then calculate 25 * 4 + 100...\n",
      "Agent is calling tools: ['web_search', 'calculate']\n",
      "Agent thinking: 25 * 4 + 100 = 200...\n",
      "Agent thinking: <think>\n",
      "Okay, let me process the user's query. They first asked to search for the latest AI news, wh...\n",
      "--------------------------------------------------\n",
      "Streaming completed\n",
      "In production, you'd see each step as it happens\n"
     ]
    }
   ],
   "source": [
    "print(\"=== Testing Streaming Responses ===\")\n",
    "\n",
    "# Test streaming with a multi-step query\n",
    "query = \"Search for the latest AI news, then calculate 25 * 4 + 100\"\n",
    "\n",
    "print(f\"\\nStreaming response for: '{query}'\")\n",
    "print(\"Watching agent work in real-time:\")\n",
    "print(\"-\" * 50)\n",
    "\n",
    "try:\n",
    "    # Stream the agent's execution\n",
    "    for chunk in agent.stream({\"messages\": query}, stream_mode=\"values\"):\n",
    "        if \"messages\" in chunk and chunk[\"messages\"]:\n",
    "            latest_message = chunk[\"messages\"][-1]\n",
    "            \n",
    "            # Handle different message types\n",
    "            if hasattr(latest_message, 'content') and latest_message.content:\n",
    "                if hasattr(latest_message, 'tool_calls') and latest_message.tool_calls:\n",
    "                    tool_names = [tc['name'] for tc in latest_message.tool_calls]\n",
    "                    print(f\"Agent is calling tools: {tool_names}\")\n",
    "                else:\n",
    "                    print(f\"Agent thinking: {latest_message.content[:100]}...\")\n",
    "            \n",
    "            elif hasattr(latest_message, 'tool_calls') and latest_message.tool_calls:\n",
    "                tool_names = [tc['name'] for tc in latest_message.tool_calls]\n",
    "                print(f\"Agent calling tools: {tool_names}\")\n",
    "    \n",
    "    print(\"-\" * 50)\n",
    "    print(\"Streaming completed\")\n",
    "\n",
    "except Exception as e:\n",
    "    print(f\"Streaming demo error: {e}\")\n",
    "    # Fallback to regular invoke\n",
    "    result = agent.invoke({\"messages\": query})\n",
    "    print(f\"Fallback response: {result['messages'][-1].content}\")\n",
    "\n",
    "print(\"In production, you'd see each step as it happens\")"
   ]
  }
 ],
 "metadata": {
  "kernelspec": {
   "display_name": "langchain-v1-agents",
   "language": "python",
   "name": "python3"
  },
  "language_info": {
   "codemirror_mode": {
    "name": "ipython",
    "version": 3
   },
   "file_extension": ".py",
   "mimetype": "text/x-python",
   "name": "python",
   "nbconvert_exporter": "python",
   "pygments_lexer": "ipython3",
   "version": "3.12.9"
  }
 },
 "nbformat": 4,
 "nbformat_minor": 4
}
