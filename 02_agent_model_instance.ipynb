{
 "cells": [
  {
   "cell_type": "markdown",
   "metadata": {},
   "source": [
    "# Agent with Explicit Model Instance\n",
    "\n",
    "This notebook demonstrates how to create a LangChain agent with full control over model configuration by creating an explicit ChatOllama instance.\n",
    "\n",
    "## Key Concepts\n",
    "- **Explicit Model Creation**: Create ChatOllama instance with custom parameters\n",
    "- **Parameter Control**: Configure temperature, token limits, timeouts\n",
    "- **Production Ready**: Better for production environments\n",
    "\n",
    "## Model Parameters Explained\n",
    "- **temperature**: Controls randomness (0.0 = deterministic, 1.0 = very creative)\n",
    "- **num_predict**: Maximum tokens to generate (similar to max_tokens in OpenAI)\n",
    "- **timeout**: How long to wait for model response"
   ]
  },
  {
   "cell_type": "markdown",
   "metadata": {},
   "source": [
    "## Prerequisites\n",
    "\n",
    "Make sure you have the required packages installed and Ollama running:\n",
    "\n",
    "```bash\n",
    "pip install langchain langchain-community langchain-core langgraph pydantic\n",
    "ollama pull qwen3\n",
    "ollama serve\n",
    "```"
   ]
  },
  {
   "cell_type": "code",
   "execution_count": 1,
   "metadata": {},
   "outputs": [],
   "source": [
    "# Import required modules\n",
    "from langchain_ollama import ChatOllama\n",
    "from langchain.agents import create_agent\n",
    "import tools"
   ]
  },
  {
   "cell_type": "markdown",
   "metadata": {},
   "source": [
    "## Creating Model Instance with Custom Parameters\n",
    "\n",
    "Here we create a ChatOllama instance with specific configuration for mathematical calculations:"
   ]
  },
  {
   "cell_type": "code",
   "execution_count": 5,
   "metadata": {},
   "outputs": [],
   "source": [
    "# Create model instance with custom parameters\n",
    "model = ChatOllama(\n",
    "    model=\"qwen3\",\n",
    "    base_url=\"http://localhost:11434\",\n",
    "    temperature=0,      # Low temperature for consistent math results\n",
    ")"
   ]
  },
  {
   "cell_type": "markdown",
   "metadata": {},
   "source": [
    "## Creating the Agent\n",
    "\n",
    "Now we create the agent using our custom model instance:"
   ]
  },
  {
   "cell_type": "code",
   "execution_count": 6,
   "metadata": {},
   "outputs": [
    {
     "name": "stdout",
     "output_type": "stream",
     "text": [
      "Agent created with explicit model instance!\n",
      "Full control over temperature, token limits, and other parameters\n"
     ]
    }
   ],
   "source": [
    "# Create agent with explicit model instance\n",
    "agent = create_agent(model, tools=[tools.calculate])\n",
    "\n",
    "print(\"Agent created with explicit model instance!\")\n",
    "print(\"Full control over temperature, token limits, and other parameters\")"
   ]
  },
  {
   "cell_type": "markdown",
   "metadata": {},
   "source": [
    "## Testing the Agent\n",
    "\n",
    "Let's test the agent with a mathematical calculation:"
   ]
  },
  {
   "cell_type": "code",
   "execution_count": 7,
   "metadata": {},
   "outputs": [
    {
     "name": "stdout",
     "output_type": "stream",
     "text": [
      "Response: <think>\n",
      "Okay, let me check the user's question again. They asked, \"What's 15 * 27 + 100?\" So first, I need to calculate 15 multiplied by 27. Let me do that step by step. 15 times 20 is 300, and 15 times 7 is 105. Adding those together gives 300 + 105 = 405. Then, adding 100 to that result: 405 + 100 = 505. Wait, but maybe I should verify using another method. Let's break down 27 into 25 + 2. 15*25 is 375, and 15*2 is 30. Adding those gives 375 + 30 = 405. Then adding 100 still gives 505. Both methods lead to the same answer. I'll use the calculate function to confirm the result once more. The expression \"15 * 27 + 100\" should evaluate to 505. Alright, that's consistent. The final answer is 505.\n",
      "</think>\n",
      "\n",
      "The result of the calculation is 505.\n",
      "Notice: Low temperature ensures consistent mathematical calculations\n"
     ]
    }
   ],
   "source": [
    "# Test the agent with a mathematical calculation\n",
    "result = agent.invoke({\n",
    "    \"messages\": \"What's 15 * 27 + 100?\"\n",
    "})\n",
    "\n",
    "print(f\"Response: {result['messages'][-1].content}\")\n",
    "print(\"Notice: Low temperature ensures consistent mathematical calculations\")"
   ]
  },
  {
   "cell_type": "markdown",
   "metadata": {},
   "source": [
    "## Experimenting with Different Temperatures\n",
    "\n",
    "Let's compare how different temperature settings affect responses:"
   ]
  },
  {
   "cell_type": "code",
   "execution_count": 8,
   "metadata": {},
   "outputs": [
    {
     "name": "stdout",
     "output_type": "stream",
     "text": [
      "=== Low Temperature (0.0) - Deterministic ===\n",
      "<think>\n",
      "Okay, the user is asking \"Explain what 2 + 2 equals.\" Let me break this down. They want to know the result of adding 2 and 2. I remember that 2 + 2 is a basic arithmetic problem. The answer is 4, but I should make sure to explain it clearly.\n",
      "\n",
      "Wait, maybe they want a more detailed explanation. Let me think. Addition is combining two numbers. So 2 plus 2 means combining two groups of two items each. That totals to four items. Yeah, that makes sense. \n",
      "\n",
      "Alternatively, using a number line: starting at 2 and moving 2 units to the right lands you at 4. Or thinking in terms of place value, each 2 is a single digit, adding them gives 4. \n",
      "\n",
      "I should also check if there's any context where 2 + 2 might not equal 4, but in standard arithmetic, it's definitely 4. The user might just need the straightforward answer. Let me confirm by using the calculate function to ensure accuracy. \n",
      "\n",
      "Calling the calculate function with \"2 + 2\" should return 4. Then I can present the explanation along with the result.\n",
      "</think>\n",
      "\n",
      "The expression 2 + 2 represents the addition of two numbers. When you combine two groups of two items each, the total is four items. \n",
      "\n",
      "**Result:** 2 + 2 = 4\n",
      "\n",
      "<calculate>\n",
      "{\"name\": \"calculate\", \"arguments\": {\"expression\": \"2 + 2\"}}\n",
      "</calculate>\n",
      "\n",
      "=== High Temperature (0.9) - Creative ===\n",
      "<think>\n",
      "Okay, the user asked what 2 + 2 equals. I used the calculate function to evaluate the expression, and the result was 4. Now I need to explain that in a clear way. Let me just confirm the calculation again to be sure. Yep, 2 plus 2 is definitely 4. The user might be testing basic math or just curious. I'll state the answer clearly and concisely.\n",
      "</think>\n",
      "\n",
      "2 + 2 equals 4. This is a basic arithmetic operation where adding two units to another two units results in a total of four units.\n"
     ]
    }
   ],
   "source": [
    "# Create agents with different temperatures\n",
    "low_temp_model = ChatOllama(model=\"qwen3\", temperature=0.0)\n",
    "high_temp_model = ChatOllama(model=\"qwen3\", temperature=0.9)\n",
    "\n",
    "low_temp_agent = create_agent(low_temp_model, tools=[tools.calculate])\n",
    "high_temp_agent = create_agent(high_temp_model, tools=[tools.calculate])\n",
    "\n",
    "question = \"Explain what 2 + 2 equals\"\n",
    "\n",
    "print(\"=== Low Temperature (0.0) - Deterministic ===\")\n",
    "result_low = low_temp_agent.invoke({\"messages\": question})\n",
    "print(result_low['messages'][-1].content)\n",
    "\n",
    "print(\"\\n=== High Temperature (0.9) - Creative ===\")\n",
    "result_high = high_temp_agent.invoke({\"messages\": question})\n",
    "print(result_high['messages'][-1].content)"
   ]
  },
  {
   "cell_type": "markdown",
   "metadata": {},
   "source": [
    "## Key Benefits of Explicit Model Instances\n",
    "\n",
    "1. **Complete Control**: Full access to all model parameters\n",
    "2. **Consistency**: Ensure reproducible results with low temperature\n",
    "3. **Performance Tuning**: Optimize for your specific use case\n",
    "4. **Production Ready**: Better error handling and timeout control\n",
    "5. **Debugging**: Easier to troubleshoot model-specific issues\n",
    "\n",
    "## Parameter Guidelines\n",
    "\n",
    "### Temperature Settings\n",
    "- **0.0-0.2**: Factual, mathematical, coding tasks\n",
    "- **0.3-0.7**: Balanced responses, general chat\n",
    "- **0.8-1.0**: Creative writing, brainstorming\n",
    "\n",
    "### Token Limits\n",
    "- **Short responses**: 100-500 tokens\n",
    "- **Medium responses**: 500-1500 tokens  \n",
    "- **Long responses**: 1500+ tokens\n",
    "\n",
    "### Timeouts\n",
    "- **Fast responses**: 10-30 seconds\n",
    "- **Complex tasks**: 60-120 seconds\n",
    "- **Research tasks**: 300+ seconds\n",
    "\n",
    "## When to Use This Approach\n",
    "\n",
    "- **Production applications**\n",
    "- **When you need consistent behavior**\n",
    "- **Performance-critical applications**\n",
    "- **Applications requiring specific model parameters**\n",
    "- **When debugging model behavior**"
   ]
  }
 ],
 "metadata": {
  "kernelspec": {
   "display_name": "langchain-v1-agents",
   "language": "python",
   "name": "python3"
  },
  "language_info": {
   "codemirror_mode": {
    "name": "ipython",
    "version": 3
   },
   "file_extension": ".py",
   "mimetype": "text/x-python",
   "name": "python",
   "nbconvert_exporter": "python",
   "pygments_lexer": "ipython3",
   "version": "3.12.9"
  }
 },
 "nbformat": 4,
 "nbformat_minor": 4
}
