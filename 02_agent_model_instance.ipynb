{
 "cells": [
  {
   "cell_type": "markdown",
   "metadata": {},
   "source": [
    "# Agent with Explicit Model Instance\n",
    "\n",
    "This notebook demonstrates how to create a LangChain agent with full control over model configuration by creating an explicit ChatOllama instance.\n",
    "\n",
    "## Key Concepts\n",
    "- **Explicit Model Creation**: Create ChatOllama instance with custom parameters\n",
    "- **Parameter Control**: Configure temperature, token limits, timeouts\n",
    "- **Production Ready**: Better for production environments\n",
    "\n",
    "## Model Parameters Explained\n",
    "- **temperature**: Controls randomness (0.0 = deterministic, 1.0 = very creative)\n",
    "- **num_predict**: Maximum tokens to generate (similar to max_tokens in OpenAI)\n",
    "- **timeout**: How long to wait for model response"
   ]
  },
  {
   "cell_type": "markdown",
   "metadata": {},
   "source": [
    "## Prerequisites\n",
    "\n",
    "Make sure you have the required packages installed and Ollama running:\n",
    "\n",
    "```bash\n",
    "pip install --pre langchain langchain-community langchain-core langgraph pydantic\n",
    "ollama pull qwen3\n",
    "ollama serve\n",
    "```"
   ]
  },
  {
   "cell_type": "code",
   "execution_count": 2,
   "metadata": {},
   "outputs": [],
   "source": [
    "# Import required modules\n",
    "from langchain_ollama import ChatOllama\n",
    "from langchain.agents import create_agent\n",
    "import tools"
   ]
  },
  {
   "cell_type": "markdown",
   "metadata": {},
   "source": [
    "## Creating Model Instance with Custom Parameters\n",
    "\n",
    "Here we create a ChatOllama instance with specific configuration for mathematical calculations:"
   ]
  },
  {
   "cell_type": "code",
   "execution_count": 3,
   "metadata": {},
   "outputs": [],
   "source": [
    "# Create model instance with custom parameters\n",
    "model = ChatOllama(\n",
    "    model=\"qwen3\",\n",
    "    base_url=\"http://localhost:11434\",\n",
    "    temperature=0,      # Low temperature for consistent math results\n",
    ")"
   ]
  },
  {
   "cell_type": "markdown",
   "metadata": {},
   "source": [
    "## Creating the Agent\n",
    "\n",
    "Now we create the agent using our custom model instance:"
   ]
  },
  {
   "cell_type": "code",
   "execution_count": 4,
   "metadata": {},
   "outputs": [
    {
     "name": "stdout",
     "output_type": "stream",
     "text": [
      "Agent created with explicit model instance!\n",
      "Full control over temperature, token limits, and other parameters\n"
     ]
    }
   ],
   "source": [
    "# Create agent with explicit model instance\n",
    "agent = create_agent(model, tools=[tools.calculate])\n",
    "\n",
    "print(\"Agent created with explicit model instance!\")\n",
    "print(\"Full control over temperature, token limits, and other parameters\")"
   ]
  },
  {
   "cell_type": "markdown",
   "metadata": {},
   "source": [
    "## Testing the Agent\n",
    "\n",
    "Let's test the agent with a mathematical calculation:"
   ]
  },
  {
   "cell_type": "code",
   "execution_count": 5,
   "metadata": {},
   "outputs": [
    {
     "name": "stdout",
     "output_type": "stream",
     "text": [
      "Response: <think>\n",
      "Okay, let me check the user's question again. They asked, \"What's 15 * 27 + 100?\" So first, I need to calculate 15 multiplied by 27. Let me do that step by step. 15 times 20 is 300, and 15 times 7 is 105. Adding those together gives 300 + 105 = 405. Then, adding 100 to that result: 405 + 100 = 505. Wait, but maybe I should verify using another method. Let's break down 27 into 25 + 2. 15*25 is 375, and 15*2 is 30. Adding those gives 375 + 30 = 405. Then adding 100 still gives 505. Both methods lead to the same answer. I'll use the calculate function to confirm the result once more. The expression \"15 * 27 + 100\" should evaluate to 505. Alright, that's consistent. The final answer is 505.\n",
      "</think>\n",
      "\n",
      "The result of the calculation is 505.\n",
      "Notice: Low temperature ensures consistent mathematical calculations\n"
     ]
    }
   ],
   "source": [
    "# Test the agent with a mathematical calculation\n",
    "result = agent.invoke({\n",
    "    \"messages\": \"What's 15 * 27 + 100?\"\n",
    "})\n",
    "\n",
    "print(f\"Response: {result['messages'][-1].content}\")\n",
    "print(\"Notice: Low temperature ensures consistent mathematical calculations\")"
   ]
  },
  {
   "cell_type": "markdown",
   "metadata": {},
   "source": [
    "## Experimenting with Different Settings\n",
    "\n"
   ]
  },
  {
   "cell_type": "code",
   "execution_count": 13,
   "metadata": {},
   "outputs": [
    {
     "name": "stdout",
     "output_type": "stream",
     "text": [
      "=== Configuration 1: Conservative/Deterministic ===\n",
      "Conservative output: <think>\n",
      "Okay, the user is asking what 2 + 2 equals and wants me to show my reasoning. Let me start by recalling basic arithmetic. Addition is one of the fundamental operations. When you add 2 and 2, you're combining two groups of one item each. Wait, no, actually, each number represents a quantity. So 2 is two units, adding another two units would total four. Let me verify that. If I have two apples and add two more, I have four apples. That seems right. But maybe I should check using a different method. Let's count: 1, 2 (that's the first 2), then 3, 4 (adding the second 2). Yep, that's four. Alternatively, using a number line: starting at 2 and moving 2 steps forward lands me at 4. All these methods confirm the result is 4. I should also mention that this is a basic arithmetic fact, so there's no need for complex calculations here. The answer should be straightforward.\n",
      "</think>\n",
      "\n",
      "2 + 2 equals 4. \n",
      "\n",
      "**Reasoning:**  \n",
      "1. Start with the number 2.  \n",
      "2. Add another 2 to it:  \n",
      "   - 2 (first number) + 2 (second number) = 4.  \n",
      "3. This is a basic arithmetic operation where combining two groups of 2 items results in a total of 4 items.  \n",
      "\n",
      "No complex tools are needed for this simple calculation.\n",
      "\n"
     ]
    }
   ],
   "source": [
    "\n",
    "question = \"Explain what 2 + 2 equals and show your reasoning\"\n",
    "\n",
    "# Configuration 1: Conservative/Deterministic - for consistent, reliable outputs\n",
    "print(\"=== Configuration 1: Conservative/Deterministic ===\")\n",
    "llm1 = ChatOllama(\n",
    "    model=\"qwen3\",\n",
    "    temperature=0,           # Low randomness for consistency\n",
    "    top_p=1,                # Focus on most probable tokens\n",
    "    repeat_penalty=1.1,       # Slight repetition penalty\n",
    "    num_predict=500,          # Reasonable output length\n",
    "    num_ctx=4096,            # Standard context window\n",
    "    seed=42                   # Reproducible results\n",
    ")\n",
    "agent = create_agent(llm1, tools=[tools.calculate])\n",
    "result = agent.invoke({\"messages\": question})\n",
    "print(f\"Conservative output: {result['messages'][-1].content}\")\n",
    "print()"
   ]
  },
  {
   "cell_type": "code",
   "execution_count": 12,
   "metadata": {},
   "outputs": [
    {
     "name": "stdout",
     "output_type": "stream",
     "text": [
      "=== Configuration 2: Balanced/Production ===\n",
      "<think>\n",
      "Okay, the user is asking what 2 + 2 equals and wants me to show my reasoning. Let me start by recalling basic arithmetic. Addition is one of the fundamental operations. When you add 2 and 2, you're combining two groups of one item each. Wait, no, actually 2 is a quantity, so adding 2 and 2 means combining two quantities. Let me visualize it: 2 + 2 is like having two objects and then adding\n",
      "\n"
     ]
    }
   ],
   "source": [
    "print(\"=== Configuration 2: Balanced/Production ===\")\n",
    "llm = ChatOllama(\n",
    "    model=\"qwen3\",\n",
    "    temperature=2,          # Moderate creativity\n",
    "    top_k=200,                # Standard token selection\n",
    "    repeat_penalty=1.15,     # Moderate repetition control\n",
    "    repeat_last_n=64,        # Check last 64 tokens for repetition\n",
    "    num_predict=100,         # Short responses allowed | check output \n",
    "    num_ctx=8192,           # Larger context for complex tasks\n",
    "    keep_alive=\"5m\",         # Keep model loaded for performance\n",
    "    num_thread=4             # Optimize for multi-core processing\n",
    ")\n",
    "\n",
    "agent = create_agent(llm, tools=[tools.calculate])\n",
    "result = agent.invoke({\"messages\": question})\n",
    "print(result['messages'][-1].content)\n",
    "print()\n"
   ]
  }
 ],
 "metadata": {
  "kernelspec": {
   "display_name": "langchain-v1-agents",
   "language": "python",
   "name": "python3"
  },
  "language_info": {
   "codemirror_mode": {
    "name": "ipython",
    "version": 3
   },
   "file_extension": ".py",
   "mimetype": "text/x-python",
   "name": "python",
   "nbconvert_exporter": "python",
   "pygments_lexer": "ipython3",
   "version": "3.12.9"
  }
 },
 "nbformat": 4,
 "nbformat_minor": 4
}
