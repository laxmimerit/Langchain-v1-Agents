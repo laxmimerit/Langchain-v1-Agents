{
 "cells": [
  {
   "cell_type": "markdown",
   "metadata": {},
   "source": [
    "# Structured Output with Pydantic Models\n",
    "\n",
    "This notebook demonstrates how to get structured, validated data from agent responses using Pydantic models instead of free-form text.\n",
    "\n",
    "## Key Concepts\n",
    "- **Pydantic Models**: Define expected data structure\n",
    "- **Type Validation**: Automatic validation and error checking\n",
    "- **Structured Responses**: Guaranteed data format for downstream processing\n",
    "- **Database Integration**: Easy integration with databases and APIs\n",
    "\n",
    "## Benefits\n",
    "- **Guaranteed Format**: Consistent output regardless of model variations\n",
    "- **Type Safety**: Validation prevents data errors\n",
    "- **Easy Processing**: Direct use in applications without parsing\n",
    "- **Documentation**: Self-documenting data structures"
   ]
  },
  {
   "cell_type": "markdown",
   "metadata": {},
   "source": [
    "## Prerequisites\n",
    "\n",
    "Make sure you have the required packages installed:\n",
    "\n",
    "```bash\n",
    "pip install langchain langchain-community langchain-core langgraph pydantic\n",
    "ollama pull qwen3\n",
    "ollama serve\n",
    "```"
   ]
  },
  {
   "cell_type": "code",
   "execution_count": 2,
   "metadata": {},
   "outputs": [],
   "source": [
    "# Import required modules\n",
    "from pydantic import BaseModel, Field, field_validator\n",
    "from typing import List, Optional, Union\n",
    "from datetime import datetime\n",
    "from langchain_ollama import ChatOllama\n",
    "from langchain.agents import create_agent\n",
    "import tools"
   ]
  },
  {
   "cell_type": "markdown",
   "metadata": {},
   "source": [
    "## Basic Structured Output Example\n",
    "\n",
    "Let's start with a simple contact information extraction example:"
   ]
  },
  {
   "cell_type": "code",
   "execution_count": 4,
   "metadata": {},
   "outputs": [
    {
     "name": "stdout",
     "output_type": "stream",
     "text": [
      "=== Basic Structured Output Example ===\n",
      "✓ ContactInfo model defined with fields:\n",
      "  - name: annotation=str required=True description='Full name of the person' (required)\n"
     ]
    },
    {
     "ename": "AttributeError",
     "evalue": "'FieldInfo' object has no attribute 'field_info'",
     "output_type": "error",
     "traceback": [
      "\u001b[31m---------------------------------------------------------------------------\u001b[39m",
      "\u001b[31mAttributeError\u001b[39m                            Traceback (most recent call last)",
      "\u001b[36mCell\u001b[39m\u001b[36m \u001b[39m\u001b[32mIn[4]\u001b[39m\u001b[32m, line 23\u001b[39m\n\u001b[32m     21\u001b[39m required = \u001b[33m\"\u001b[39m\u001b[33m(required)\u001b[39m\u001b[33m\"\u001b[39m \u001b[38;5;28;01mif\u001b[39;00m field_info.is_required() \u001b[38;5;28;01melse\u001b[39;00m \u001b[33m\"\u001b[39m\u001b[33m(optional)\u001b[39m\u001b[33m\"\u001b[39m\n\u001b[32m     22\u001b[39m \u001b[38;5;28mprint\u001b[39m(\u001b[33mf\u001b[39m\u001b[33m\"\u001b[39m\u001b[33m  - \u001b[39m\u001b[38;5;132;01m{\u001b[39;00mfield_name\u001b[38;5;132;01m}\u001b[39;00m\u001b[33m: \u001b[39m\u001b[38;5;132;01m{\u001b[39;00mfield_info\u001b[38;5;132;01m}\u001b[39;00m\u001b[33m \u001b[39m\u001b[38;5;132;01m{\u001b[39;00mrequired\u001b[38;5;132;01m}\u001b[39;00m\u001b[33m\"\u001b[39m)\n\u001b[32m---> \u001b[39m\u001b[32m23\u001b[39m \u001b[38;5;28;01mif\u001b[39;00m \u001b[43mfield_info\u001b[49m\u001b[43m.\u001b[49m\u001b[43mfield_info\u001b[49m.description:\n\u001b[32m     24\u001b[39m     \u001b[38;5;28mprint\u001b[39m(\u001b[33mf\u001b[39m\u001b[33m\"\u001b[39m\u001b[33m    Description: \u001b[39m\u001b[38;5;132;01m{\u001b[39;00mfield_info.field_info.description\u001b[38;5;132;01m}\u001b[39;00m\u001b[33m\"\u001b[39m)\n",
      "\u001b[31mAttributeError\u001b[39m: 'FieldInfo' object has no attribute 'field_info'"
     ]
    }
   ],
   "source": [
    "print(\"=== Basic Structured Output Example ===\")\n",
    "\n",
    "# Define the structure we want the agent to return\n",
    "class ContactInfo(BaseModel):\n",
    "    \"\"\"Contact information structure.\"\"\"\n",
    "    name: str = Field(description=\"Full name of the person\")\n",
    "    email: str = Field(description=\"Email address\")\n",
    "    phone: str = Field(description=\"Phone number\")\n",
    "    company: str = Field(default=\"Unknown\", description=\"Company name (optional)\")\n",
    "    \n",
    "    @field_validator('email')\n",
    "    def validate_email(cls, v):\n",
    "        \"\"\"Basic email validation.\"\"\"\n",
    "        if '@' not in v:\n",
    "            raise ValueError('Invalid email format')\n",
    "        return v\n",
    "\n",
    "# Display the model structure\n",
    "print(\"✓ ContactInfo model defined with fields:\")\n",
    "for field_name, field_info in ContactInfo.model_fields.items():\n",
    "    required = \"(required)\" if field_info.is_required() else \"(optional)\"\n",
    "    print(f\"  - {field_name}: {field_info} {required}\")\n",
    "    if field_info.field_info.description:\n",
    "        print(f\"    Description: {field_info.field_info.description}\")"
   ]
  },
  {
   "cell_type": "markdown",
   "metadata": {},
   "source": [
    "## Creating Agent with Structured Output\n",
    "\n",
    "Note: In this demo, we'll show the concept. Full structured output integration depends on your LangChain version and model support."
   ]
  },
  {
   "cell_type": "code",
   "execution_count": null,
   "metadata": {},
   "outputs": [],
   "source": [
    "# Create model and agent\n",
    "model = ChatOllama(model=\"qwen3\")\n",
    "\n",
    "# Create agent with structured output requirement (conceptual)\n",
    "# Note: Actual implementation may vary based on LangChain version\n",
    "agent = create_agent(\n",
    "    model,\n",
    "    tools=[tools.extract_contact],\n",
    "    # response_format=ContactInfo  # This would force structured output in some implementations\n",
    ")\n",
    "\n",
    "print(\"✓ Agent created for contact information extraction\")\n",
    "print(\"  The agent will extract contact information and format it consistently\")"
   ]
  },
  {
   "cell_type": "markdown",
   "metadata": {},
   "source": [
    "## Testing Contact Information Extraction"
   ]
  },
  {
   "cell_type": "code",
   "execution_count": null,
   "metadata": {},
   "outputs": [],
   "source": [
    "# Test with contact information\n",
    "contact_text = \"Extract contact info from: John Doe, john@example.com, (555) 123-4567, works at TechCorp\"\n",
    "\n",
    "print(f\"Input text: {contact_text}\")\n",
    "print(\"\\n=== Agent Processing ===\")\n",
    "\n",
    "try:\n",
    "    result = agent.invoke({\n",
    "        \"messages\": contact_text\n",
    "    })\n",
    "    \n",
    "    print(f\"✓ Agent response: {result['messages'][-1].content}\")\n",
    "    \n",
    "    # In a real implementation, you would extract structured data here\n",
    "    print(\"\\n=== Simulated Structured Output ===\")\n",
    "    \n",
    "    # Simulate extracting structured data\n",
    "    structured_data = ContactInfo(\n",
    "        name=\"John Doe\",\n",
    "        email=\"john@example.com\",\n",
    "        phone=\"(555) 123-4567\",\n",
    "        company=\"TechCorp\"\n",
    "    )\n",
    "    \n",
    "    print(f\"Structured data: {structured_data}\")\n",
    "    print(f\"\\nAs JSON: {structured_data.json(indent=2)}\")\n",
    "    print(f\"\\nAs dict: {structured_data.dict()}\")\n",
    "    \n",
    "except Exception as e:\n",
    "    print(f\"Error: {e}\")\n",
    "\n",
    "print(\"\\n💡 In production, you'd get a ContactInfo object with guaranteed fields\")\n",
    "print(\"   This enables direct database insertion, API calls, etc.\")"
   ]
  }
 ],
 "metadata": {
  "kernelspec": {
   "display_name": "langchain-v1-agents",
   "language": "python",
   "name": "python3"
  },
  "language_info": {
   "codemirror_mode": {
    "name": "ipython",
    "version": 3
   },
   "file_extension": ".py",
   "mimetype": "text/x-python",
   "name": "python",
   "nbconvert_exporter": "python",
   "pygments_lexer": "ipython3",
   "version": "3.12.9"
  }
 },
 "nbformat": 4,
 "nbformat_minor": 4
}
