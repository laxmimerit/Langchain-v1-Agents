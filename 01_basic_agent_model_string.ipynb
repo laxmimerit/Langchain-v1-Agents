{
 "cells": [
  {
   "cell_type": "markdown",
   "metadata": {},
   "source": [
    "# Basic Agent with Model String\n",
    "\n",
    "This notebook demonstrates the simplest way to create a LangChain agent using a model string.\n",
    "\n",
    "## Key Concepts\n",
    "- **Model String Format**: `provider:model_name` (e.g., \"ollama:qwen3\")\n",
    "- **Automatic Inference**: LangChain automatically creates the model instance\n",
    "- **Minimal Setup**: Quick prototyping with default parameters\n",
    "\n",
    "## Use Cases\n",
    "- Getting started with agents\n",
    "- Simple proof-of-concepts\n",
    "- When you don't need custom model parameters"
   ]
  },
  {
   "cell_type": "markdown",
   "metadata": {},
   "source": [
    "## Prerequisites\n",
    "\n",
    "Make sure you have the required packages installed and Ollama running:\n",
    "\n",
    "```bash\n",
    "pip install langchain langchain-community langchain-core langgraph pydantic\n",
    "ollama pull qwen3\n",
    "ollama serve\n",
    "```"
   ]
  },
  {
   "cell_type": "code",
   "execution_count": null,
   "metadata": {},
   "outputs": [
    {
     "data": {
      "text/plain": [
       "True"
      ]
     },
     "execution_count": 1,
     "metadata": {},
     "output_type": "execute_result"
    }
   ],
   "source": [
    "# Import required modules\n",
    "from langchain.agents import create_agent\n",
    "import tools"
   ]
  },
  {
   "cell_type": "markdown",
   "metadata": {},
   "source": [
    "## Creating the Agent\n",
    "\n",
    "Using the simplest approach - just pass a model string and LangChain handles the rest:"
   ]
  },
  {
   "cell_type": "code",
   "execution_count": 2,
   "metadata": {},
   "outputs": [
    {
     "name": "stdout",
     "output_type": "stream",
     "text": [
      "Agent created successfully with model string!\n",
      "LangChain automatically created ChatOllama instance from string\n"
     ]
    }
   ],
   "source": [
    "# Create agent with model string - simplest approach\n",
    "agent = create_agent(\n",
    "    \"ollama:qwen3:30b\",  # Model string format: provider:model\n",
    "    tools=[tools.web_search]\n",
    ")\n",
    "\n",
    "print(\"Agent created successfully with model string!\")\n",
    "print(\"LangChain automatically created ChatOllama instance from string\")"
   ]
  },
  {
   "cell_type": "markdown",
   "metadata": {},
   "source": [
    "## Testing the Agent\n",
    "\n",
    "Let's test the agent with a simple search query:"
   ]
  },
  {
   "cell_type": "code",
   "execution_count": 3,
   "metadata": {},
   "outputs": [
    {
     "name": "stdout",
     "output_type": "stream",
     "text": [
      "Response: <think>\n",
      "Okay, the user asked for Python tutorials, and I used the web_search function to find some. Let me check the results.\n",
      "\n",
      "First, the top result is from Python in Plain English. They mention no-fluff tutorials and building projects. That sounds good for someone looking to move beyond basic tutorials.\n",
      "\n",
      "Next, there's a YouTube playlist. The user might prefer video tutorials, so including that makes sense. But the URL is a bit long, maybe just mention it's a playlist.\n",
      "\n",
      "Reddit's r/Python community is listed. It's a community for news and discussions, not exactly tutorials, but still useful for getting help or finding resources.\n",
      "\n",
      "Hackertab has hourly updates on Python news and tutorials. Maybe the user wants the latest content, so that's a good resource.\n",
      "\n",
      "The Medium article lists beginner projects. The user might be a beginner looking for hands-on projects instead of just tutorials. Highlighting that could be helpful.\n",
      "\n",
      "I should summarize these results clearly. Let me check if all the links are relevant. The YouTube link seems to be a playlist, so I'll note that. The Medium article is about projects, which is a different angle than standard tutorials. The Reddit and Hackertab are communities/news, so maybe mention they offer additional resources beyond tutorials.\n",
      "\n",
      "Wait, the user specifically asked for tutorials, so maybe focus on the ones that are actual tutorials. The Plain English site and the YouTube playlist are direct tutorials. The Medium article is more project-based, which is a bit different but still helpful. The others are communities, so maybe mention them as supplementary.\n",
      "\n",
      "I need to present the top 5 results concisely. Let me structure each with a brief description and link. Avoid technical jargon. Make sure to highlight the best ones first. The Plain English site seems strong, then the YouTube playlist, then the Medium projects. The community links can be noted as additional resources.\n",
      "\n",
      "Check if all the URLs are correct. The first one's URL is correct. The YouTube playlist URL is a standard YouTube link. Reddit's URL is correct. Hackertab's URL is as given. Medium's link looks okay.\n",
      "\n",
      "Make sure to mention that the search included both beginner and project-based resources. Maybe add a note that the user can choose based on their learning style—video, community, or project-based.\n",
      "\n",
      "Wait, the user just asked for tutorials, so maybe the Medium article is more about projects than tutorials. But the title says \"Beginner-Friendly Python Projects,\" which might be a type of tutorial. I'll include it but clarify it's project-based.\n",
      "\n",
      "Also, check if the results are recent. The Plain English mentions \"17 hours ago,\" Hackertab says \"9 hours ago,\" so they're up-to-date. The YouTube playlist might be older, but it's a curated list.\n",
      "\n",
      "Okay, structure the answer with the top resources, each with a short description. Keep it friendly and helpful. Don't list all five in detail but summarize the key points. Maybe group the main tutorial sources first, then mention the others as supplementary.\n",
      "</think>\n",
      "\n",
      "Here are some top resources for Python tutorials based on your search:\n",
      "\n",
      "1. **[Python in Plain English](https://python.plainenglish.io/)**  \n",
      "   *No-fluff, project-focused tutorials for building real applications. Updated daily with practical content for developers of all levels.*\n",
      "\n",
      "2. **[YouTube Python Tutorial Playlist](https://www.youtube.com/playlist?list=PL6wv2Xe2H-K9YPhaDvNsVC2H8hcaM4ei6)**  \n",
      "   *Structured video tutorials covering Python fundamentals and practical use cases.*\n",
      "\n",
      "3. **[9 Beginner-Friendly Python Projects](https://medium.com/top-python-libraries/9-beginner-friendly-python-projects-that-accidentally-made-me-an-advanced-coder-a5172c403ae4)**  \n",
      "   *Hands-on projects (not just tutorials) to learn Python through building real tools like folder cleaners.*\n",
      "\n",
      "4. **[r/Python Community](https://www.reddit.com/r/Python/)**  \n",
      "   *Active community for sharing tutorials, asking questions, and staying updated on Python tools and news.*\n",
      "\n",
      "5. **[Hackertab Python News](https://hackertab.dev/topics/python)**  \n",
      "   *Hourly-updated curated news, tools, and tutorial recommendations for Python developers.*\n",
      "\n",
      "**Tip**: Start with *Python in Plain English* for clear, project-based learning, or try the *YouTube playlist* if you prefer video guides. For hands-on practice, the *9 Beginner Projects* article is highly recommended!\n"
     ]
    }
   ],
   "source": [
    "# Test the agent with a search query\n",
    "result = agent.invoke({\n",
    "    \"messages\": \"Search for python tutorials\"\n",
    "})\n",
    "\n",
    "print(f\"Response: {result['messages'][-1].content}\")"
   ]
  }
 ],
 "metadata": {
  "kernelspec": {
   "display_name": "langchain-v1-agents",
   "language": "python",
   "name": "python3"
  },
  "language_info": {
   "codemirror_mode": {
    "name": "ipython",
    "version": 3
   },
   "file_extension": ".py",
   "mimetype": "text/x-python",
   "name": "python",
   "nbconvert_exporter": "python",
   "pygments_lexer": "ipython3",
   "version": "3.12.9"
  }
 },
 "nbformat": 4,
 "nbformat_minor": 4
}
