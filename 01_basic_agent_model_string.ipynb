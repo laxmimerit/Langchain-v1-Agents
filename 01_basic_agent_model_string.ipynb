{
 "cells": [
  {
   "cell_type": "markdown",
   "metadata": {},
   "source": [
    "# Basic Agent with Model String\n",
    "\n",
    "This notebook demonstrates the simplest way to create a LangChain agent using a model string.\n",
    "\n",
    "## Key Concepts\n",
    "- **Model String Format**: `provider:model_name` (e.g., \"ollama:qwen3\")\n",
    "- **Automatic Inference**: LangChain automatically creates the model instance\n",
    "- **Minimal Setup**: Quick prototyping with default parameters\n",
    "\n",
    "## Use Cases\n",
    "- Getting started with agents\n",
    "- Simple proof-of-concepts\n",
    "- When you don't need custom model parameters"
   ]
  },
  {
   "cell_type": "markdown",
   "metadata": {},
   "source": [
    "## Prerequisites\n",
    "\n",
    "Make sure you have the required packages installed and Ollama running:\n",
    "\n",
    "```bash\n",
    "pip install --pre langchain langchain-community langchain-core langgraph pydantic\n",
    "ollama pull qwen3\n",
    "ollama serve\n",
    "```"
   ]
  },
  {
   "cell_type": "code",
   "execution_count": null,
   "metadata": {},
   "outputs": [],
   "source": [
    "# Import required modules\n",
    "from langchain.agents import create_agent\n",
    "import tools"
   ]
  },
  {
   "cell_type": "markdown",
   "metadata": {},
   "source": [
    "## Creating the Agent\n",
    "\n",
    "Using the simplest approach - just pass a model string and LangChain handles the rest:"
   ]
  },
  {
   "cell_type": "code",
   "execution_count": null,
   "metadata": {},
   "outputs": [],
   "source": [
    "# Create agent with model string - simplest approach\n",
    "agent = create_agent(\n",
    "    \"ollama:qwen3:30b\",  # Model string format: provider:model\n",
    "    tools=[tools.web_search]\n",
    ")\n",
    "\n",
    "print(\"Agent created successfully with model string!\")\n",
    "print(\"LangChain automatically created ChatOllama instance from string\")"
   ]
  },
  {
   "cell_type": "markdown",
   "metadata": {},
   "source": [
    "## Testing the Agent\n",
    "\n",
    "Let's test the agent with a simple search query:"
   ]
  },
  {
   "cell_type": "code",
   "execution_count": null,
   "metadata": {},
   "outputs": [],
   "source": [
    "# Test the agent with a search query\n",
    "result = agent.invoke({\n",
    "    \"messages\": \"Search for python tutorials\"\n",
    "})\n",
    "\n",
    "print(f\"Response: {result['messages'][-1].content}\")"
   ]
  }
 ],
 "metadata": {
  "kernelspec": {
   "display_name": "langchain-v1-agents",
   "language": "python",
   "name": "python3"
  },
  "language_info": {
   "codemirror_mode": {
    "name": "ipython",
    "version": 3
   },
   "file_extension": ".py",
   "mimetype": "text/x-python",
   "name": "python",
   "nbconvert_exporter": "python",
   "pygments_lexer": "ipython3",
   "version": "3.12.9"
  }
 },
 "nbformat": 4,
 "nbformat_minor": 4
}
