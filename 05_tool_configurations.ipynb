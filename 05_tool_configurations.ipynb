{
 "cells": [
  {
   "cell_type": "markdown",
   "metadata": {},
   "source": [
    "# Different Tool Configuration Methods\n",
    "\n",
    "This notebook demonstrates different approaches to configuring tools for LangChain agents, from simple lists to advanced error handling.\n",
    "\n",
    "## Key Concepts\n",
    "- **Method 1**: Simple list of tools (quick setup)\n",
    "- **Method 2**: ToolNode with custom configuration (production-ready)\n",
    "- **Error Handling**: Making agents robust to tool failures\n",
    "\n",
    "## Why Tool Configuration Matters\n",
    "- **Without error handling**: Errors crash the agent\n",
    "- **With error handling**: Errors become feedback for the model\n",
    "- **Model adaptation**: Agent can retry or adjust approach based on error messages"
   ]
  },
  {
   "cell_type": "markdown",
   "metadata": {},
   "source": [
    "## Prerequisites\n",
    "\n",
    "Make sure you have the required packages installed:\n",
    "\n",
    "```bash\n",
    "pip install langchain langchain-community langchain-core langgraph pydantic\n",
    "ollama pull qwen3\n",
    "ollama serve\n",
    "```"
   ]
  },
  {
   "cell_type": "code",
   "execution_count": 1,
   "metadata": {},
   "outputs": [],
   "source": [
    "# Import required modules\n",
    "from langchain_ollama import ChatOllama\n",
    "from langchain.agents import create_agent, ToolNode\n",
    "import tools"
   ]
  },
  {
   "cell_type": "markdown",
   "metadata": {},
   "source": [
    "## Method 1: Simple List of Tools\n",
    "\n",
    "The simplest approach - just pass tools as a list. LangChain handles everything automatically."
   ]
  },
  {
   "cell_type": "code",
   "execution_count": 2,
   "metadata": {},
   "outputs": [
    {
     "name": "stdout",
     "output_type": "stream",
     "text": [
      "=== Method 1: Simple List of Tools ===\n",
      "✓ Agent 1 created with simple tool list\n",
      "  - LangChain automatically creates ToolNode\n",
      "  - Default error handling behavior\n",
      "  - Good for prototyping and simple use cases\n"
     ]
    }
   ],
   "source": [
    "print(\"=== Method 1: Simple List of Tools ===\")\n",
    "\n",
    "# Create model instance\n",
    "model = ChatOllama(model=\"qwen3\")\n",
    "\n",
    "# Method 1: Pass list of tools (simple approach)\n",
    "agent1 = create_agent(\n",
    "    model, \n",
    "    tools=[tools.web_search, tools.calculate]\n",
    ")\n",
    "\n",
    "print(\"✓ Agent 1 created with simple tool list\")\n",
    "print(\"  - LangChain automatically creates ToolNode\")\n",
    "print(\"  - Default error handling behavior\")\n",
    "print(\"  - Good for prototyping and simple use cases\")"
   ]
  },
  {
   "cell_type": "markdown",
   "metadata": {},
   "source": [
    "## Method 2: Advanced ToolNode Configuration\n",
    "\n",
    "Create a ToolNode explicitly with custom settings for better control over tool execution."
   ]
  },
  {
   "cell_type": "code",
   "execution_count": 3,
   "metadata": {},
   "outputs": [
    {
     "name": "stdout",
     "output_type": "stream",
     "text": [
      "=== Method 2: Advanced ToolNode Configuration ===\n",
      "✓ Agent 2 created with advanced ToolNode\n",
      "  - Custom error handling messages\n",
      "  - Better control over tool execution\n",
      "  - Production-ready error recovery\n"
     ]
    }
   ],
   "source": [
    "print(\"=== Method 2: Advanced ToolNode Configuration ===\")\n",
    "\n",
    "# Method 2: Use ToolNode with error handling (advanced approach)\n",
    "tool_node = ToolNode(\n",
    "    tools=[tools.web_search, tools.calculate],\n",
    "    handle_tool_errors=\"Please check your input and try again. Error details will help you correct the issue.\"\n",
    ")\n",
    "\n",
    "agent2 = create_agent(model, tools=tool_node)\n",
    "\n",
    "print(\"✓ Agent 2 created with advanced ToolNode\")\n",
    "print(\"  - Custom error handling messages\")\n",
    "print(\"  - Better control over tool execution\")\n",
    "print(\"  - Production-ready error recovery\")"
   ]
  },
  {
   "cell_type": "markdown",
   "metadata": {},
   "source": [
    "## Comparing Both Approaches\n",
    "\n",
    "Let's test both agents with the same query to see how they behave:"
   ]
  },
  {
   "cell_type": "code",
   "execution_count": 4,
   "metadata": {},
   "outputs": [
    {
     "name": "stdout",
     "output_type": "stream",
     "text": [
      "Testing both agents with: 'Search for Python tutorials and calculate 10 times 5'\n",
      "============================================================\n",
      "\n",
      "=== Agent 1 Results (Simple Tool List) ===\n",
      "✓ Response: <think>\n",
      "Okay, let me process what the user asked. They wanted two things: a search for Python tutorials and the calculation of 10 times 5. \n",
      "\n",
      "First, I called the web_search function with \"Python tutorials\" to get relevant resources. The results came back with five links, including some tutorials, projects, and communities. I formatted those results neatly, making sure each entry had a title, description, and URL.\n",
      "\n",
      "Next, the calculation part. The user asked for 10 multiplied by 5. I used the calculate function with the expression \"10 * 5\". The result was 50, which I presented clearly.\n",
      "\n",
      "Now, I need to combine both parts into a coherent response. I'll start with the search results, listing each item with the details from the tool response. Then, I'll add the calculation result at the end. I should make sure the information is easy to read, maybe using bullet points for the search results and a bold heading for the calculation. Also, I'll check that all links are properly formatted and the text is concise. Let me double-check that I didn't miss any details from the tool responses and that the answer is structured well for the user.\n",
      "</think>\n",
      "\n",
      "Here are the results for your request:\n",
      "\n",
      "### Python Tutorials Search Results\n",
      "1. **[Python in Plain English](https://python.plainenglish.io/)**  \n",
      "   New Python content every day. A no-fluff approach that skips tutorials and gets you building real projects faster.  \n",
      "   *Updated 18 hours ago*\n",
      "\n",
      "2. **[Python tutorials](https://www.youtube.com/playlist?list=PL6wv2Xe2H-K9YPhaDvNsVC2H8hcaM4ei6)**  \n",
      "   Includes topics like spatial modeling in Erdas Imagine and Python in ArcGIS.  \n",
      "   *YouTube playlist*\n",
      "\n",
      "3. **[Python Community](https://www.reddit.com/r/Python/)**  \n",
      "   Official Python community for news, packages, and meta information.  \n",
      "   *Reddit forum*\n",
      "\n",
      "4. **[Python News](https://hackertab.dev/topics/python)**  \n",
      "   Hourly updated news, tools, and tutorials curated from multiple sources.  \n",
      "   *Updated 9 hours ago*\n",
      "\n",
      "5. **[Beginner-Friendly Projects](https://medium.com/top-python-libraries/9-beginner-friendly-python-projects-that-accidentally-made-me-an-advanced-coder-a5172c403ae4)**  \n",
      "   9 projects that teach advanced concepts through practical implementation.  \n",
      "   *Medium article*\n",
      "\n",
      "---\n",
      "\n",
      "### Calculation Result\n",
      "**10 × 5 = 50**\n",
      "\n",
      "=== Agent 2 Results (Advanced ToolNode) ===\n",
      "✓ Response: <think>\n",
      "Okay, let me see. The user asked to search for Python tutorials and calculate 10 times 5. I called both functions as instructed. The web search returned five results, and the calculation was straightforward. Now, I need to present the results clearly.\n",
      "\n",
      "First, for the search results, I should list them in a user-friendly way, maybe numbering each with title, description, and URL. Then, the calculation result is 50, so I'll state that clearly. Make sure the formatting is clean and easy to read. Let me check if all links are properly included and the math is correct. Yep, everything looks good. Time to put it all together in a concise response.\n",
      "</think>\n",
      "\n",
      "Here are the results:\n",
      "\n",
      "**Python Tutorials Search:**\n",
      "1. [Python in Plain English](https://python.plainenglish.io/) - Daily Python content with real project examples\n",
      "2. [Python tutorials](https://www.youtube.com/playlist?list=PL6wv2Xe2H-K9YPhaDvNsVC2H8hcaM4ei6) - YouTube playlist with spatial modeling and ArcGIS Python tutorials\n",
      "3. [Python Community](https://www.reddit.com/r/Python/) - Reddit forum for Python developers\n",
      "4. [Python News](https://hackertab.dev/topics/python) - Hourly updated Python news and tools\n",
      "5. [Beginner Projects](https://medium.com/top-python-libraries/9-beginner-friendly-python-projects-that-accidentally-made-me-an-advanced-coder-a5172c403ae4) - Practical Python project ideas\n",
      "\n",
      "**Calculation:**  \n",
      "10 × 5 = **50**\n",
      "\n",
      "💡 Both agents work the same for valid inputs, but Agent 2 handles errors better\n"
     ]
    }
   ],
   "source": [
    "# Test query that uses multiple tools\n",
    "test_query = \"Search for Python tutorials and calculate 10 times 5\"\n",
    "\n",
    "print(f\"Testing both agents with: '{test_query}'\")\n",
    "print(\"=\" * 60)\n",
    "\n",
    "# Test Agent 1 (Simple)\n",
    "print(\"\\n=== Agent 1 Results (Simple Tool List) ===\")\n",
    "try:\n",
    "    result1 = agent1.invoke({\"messages\": test_query})\n",
    "    print(f\"✓ Response: {result1['messages'][-1].content}\")\n",
    "except Exception as e:\n",
    "    print(f\"✗ Error: {e}\")\n",
    "\n",
    "# Test Agent 2 (Advanced)\n",
    "print(\"\\n=== Agent 2 Results (Advanced ToolNode) ===\")\n",
    "try:\n",
    "    result2 = agent2.invoke({\"messages\": test_query})\n",
    "    print(f\"✓ Response: {result2['messages'][-1].content}\")\n",
    "except Exception as e:\n",
    "    print(f\"✗ Error: {e}\")\n",
    "\n",
    "print(\"\\n💡 Both agents work the same for valid inputs, but Agent 2 handles errors better\")"
   ]
  }
 ],
 "metadata": {
  "kernelspec": {
   "display_name": "langchain-v1-agents",
   "language": "python",
   "name": "python3"
  },
  "language_info": {
   "codemirror_mode": {
    "name": "ipython",
    "version": 3
   },
   "file_extension": ".py",
   "mimetype": "text/x-python",
   "name": "python",
   "nbconvert_exporter": "python",
   "pygments_lexer": "ipython3",
   "version": "3.12.9"
  }
 },
 "nbformat": 4,
 "nbformat_minor": 4
}
