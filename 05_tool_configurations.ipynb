{
 "cells": [
  {
   "cell_type": "markdown",
   "metadata": {},
   "source": [
    "# Different Tool Configuration Methods\n",
    "\n",
    "This notebook demonstrates different approaches to configuring tools for LangChain agents, from simple lists to advanced error handling.\n",
    "\n",
    "## Key Concepts\n",
    "- **Method 1**: Simple list of tools (quick setup)\n",
    "- **Method 2**: ToolNode with custom configuration (production-ready)\n",
    "- **Error Handling**: Making agents robust to tool failures\n",
    "\n",
    "## Why Tool Configuration Matters\n",
    "- **Without error handling**: Errors crash the agent\n",
    "- **With error handling**: Errors become feedback for the model\n",
    "- **Model adaptation**: Agent can retry or adjust approach based on error messages"
   ]
  },
  {
   "cell_type": "markdown",
   "metadata": {},
   "source": [
    "## Prerequisites\n",
    "\n",
    "Make sure you have the required packages installed:\n",
    "\n",
    "```bash\n",
    "pip install langchain langchain-community langchain-core langgraph pydantic\n",
    "ollama pull qwen3\n",
    "ollama serve\n",
    "```"
   ]
  },
  {
   "cell_type": "code",
   "execution_count": null,
   "metadata": {},
   "outputs": [],
   "source": [
    "# Import required modules\n",
    "from langchain_ollama import ChatOllama\n",
    "from langchain.agents import create_agent, ToolNode\n",
    "import tools"
   ]
  },
  {
   "cell_type": "markdown",
   "metadata": {},
   "source": [
    "## Method 1: Simple List of Tools\n",
    "\n",
    "The simplest approach - just pass tools as a list. LangChain handles everything automatically."
   ]
  },
  {
   "cell_type": "code",
   "execution_count": null,
   "metadata": {},
   "outputs": [],
   "source": [
    "print(\"=== Method 1: Simple List of Tools ===\")\n",
    "\n",
    "# Create model instance\n",
    "model = ChatOllama(model=\"qwen3\")\n",
    "\n",
    "# Method 1: Pass list of tools (simple approach)\n",
    "agent1 = create_agent(\n",
    "    model, \n",
    "    tools=[tools.web_search, tools.calculate]\n",
    ")\n",
    "\n",
    "print(\"✓ Agent 1 created with simple tool list\")\n",
    "print(\"  - LangChain automatically creates ToolNode\")\n",
    "print(\"  - Default error handling behavior\")\n",
    "print(\"  - Good for prototyping and simple use cases\")"
   ]
  },
  {
   "cell_type": "markdown",
   "metadata": {},
   "source": [
    "## Method 2: Advanced ToolNode Configuration\n",
    "\n",
    "Create a ToolNode explicitly with custom settings for better control over tool execution."
   ]
  },
  {
   "cell_type": "code",
   "execution_count": null,
   "metadata": {},
   "outputs": [],
   "source": [
    "print(\"=== Method 2: Advanced ToolNode Configuration ===\")\n",
    "\n",
    "# Method 2: Use ToolNode with error handling (advanced approach)\n",
    "tool_node = ToolNode(\n",
    "    tools=[tools.web_search, tools.calculate],\n",
    "    handle_tool_errors=\"Please check your input and try again. Error details will help you correct the issue.\"\n",
    ")\n",
    "\n",
    "agent2 = create_agent(model, tools=tool_node)\n",
    "\n",
    "print(\"✓ Agent 2 created with advanced ToolNode\")\n",
    "print(\"  - Custom error handling messages\")\n",
    "print(\"  - Better control over tool execution\")\n",
    "print(\"  - Production-ready error recovery\")"
   ]
  },
  {
   "cell_type": "markdown",
   "metadata": {},
   "source": [
    "## Comparing Both Approaches\n",
    "\n",
    "Let's test both agents with the same query to see how they behave:"
   ]
  },
  {
   "cell_type": "code",
   "execution_count": null,
   "metadata": {},
   "outputs": [],
   "source": [
    "# Test query that uses multiple tools\n",
    "test_query = \"Search for Python tutorials and calculate 10 times 5\"\n",
    "\n",
    "print(f\"Testing both agents with: '{test_query}'\")\n",
    "print(\"=\" * 60)\n",
    "\n",
    "# Test Agent 1 (Simple)\n",
    "print(\"\\n=== Agent 1 Results (Simple Tool List) ===\")\n",
    "try:\n",
    "    result1 = agent1.invoke({\"messages\": test_query})\n",
    "    print(f\"✓ Response: {result1['messages'][-1].content}\")\n",
    "except Exception as e:\n",
    "    print(f\"✗ Error: {e}\")\n",
    "\n",
    "# Test Agent 2 (Advanced)\n",
    "print(\"\\n=== Agent 2 Results (Advanced ToolNode) ===\")\n",
    "try:\n",
    "    result2 = agent2.invoke({\"messages\": test_query})\n",
    "    print(f\"✓ Response: {result2['messages'][-1].content}\")\n",
    "except Exception as e:\n",
    "    print(f\"✗ Error: {e}\")\n",
    "\n",
    "print(\"\\n💡 Both agents work the same for valid inputs, but Agent 2 handles errors better\")"
   ]
  },
  {
   "cell_type": "markdown",
   "metadata": {},
   "source": [
    "## Error Handling Demonstration\n",
    "\n",
    "Let's create a scenario that might cause tool errors to see the difference:"
   ]
  },
  {
   "cell_type": "code",
   "execution_count": null,
   "metadata": {},
   "outputs": [],
   "source": [
    "# Create a tool that might fail for demonstration\n",
    "from langchain_core.tools import tool\n",
    "\n",
    "@tool\n",
    "def unreliable_tool(input_text: str) -> str:\n",
    "    \"\"\"A tool that sometimes fails to demonstrate error handling.\n",
    "    \n",
    "    Args:\n",
    "        input_text: Text to process\n",
    "        \n",
    "    Returns:\n",
    "        Processed text or error\n",
    "    \"\"\"\n",
    "    if \"error\" in input_text.lower():\n",
    "        raise ValueError(\"This tool doesn't like the word 'error'!\")\n",
    "    return f\"Processed: {input_text}\"\n",
    "\n",
    "print(\"Created unreliable_tool for error demonstration\")"
   ]
  },
  {
   "cell_type": "markdown",
   "metadata": {},
   "source": [
    "## Creating Agents with Error-Prone Tool"
   ]
  },
  {
   "cell_type": "code",
   "execution_count": null,
   "metadata": {},
   "outputs": [],
   "source": [
    "# Create agents with the unreliable tool\n",
    "print(\"=== Creating Agents with Error-Prone Tool ===\")\n",
    "\n",
    "# Simple agent (no custom error handling)\n",
    "simple_agent = create_agent(\n",
    "    model, \n",
    "    tools=[unreliable_tool]\n",
    ")\n",
    "\n",
    "# Advanced agent (with custom error handling)\n",
    "error_handling_node = ToolNode(\n",
    "    tools=[unreliable_tool],\n",
    "    handle_tool_errors=\"The tool encountered an error. Please try a different approach or modify your request.\"\n",
    ")\n",
    "\n",
    "advanced_agent = create_agent(model, tools=error_handling_node)\n",
    "\n",
    "print(\"✓ Both agents created with error-prone tool\")"
   ]
  },
  {
   "cell_type": "markdown",
   "metadata": {},
   "source": [
    "## Testing Error Scenarios"
   ]
  },
  {
   "cell_type": "code",
   "execution_count": null,
   "metadata": {},
   "outputs": [],
   "source": [
    "print(\"=== Testing Error Scenarios ===\")\n",
    "\n",
    "# Test 1: Normal operation (should work for both)\n",
    "normal_query = \"Process this text: Hello World\"\n",
    "print(f\"\\n1. Normal query: '{normal_query}'\")\n",
    "\n",
    "try:\n",
    "    result = simple_agent.invoke({\"messages\": normal_query})\n",
    "    print(f\"   Simple agent: ✓ Success\")\n",
    "except Exception as e:\n",
    "    print(f\"   Simple agent: ✗ Failed - {e}\")\n",
    "\n",
    "try:\n",
    "    result = advanced_agent.invoke({\"messages\": normal_query})\n",
    "    print(f\"   Advanced agent: ✓ Success\")\n",
    "except Exception as e:\n",
    "    print(f\"   Advanced agent: ✗ Failed - {e}\")\n",
    "\n",
    "# Test 2: Error-inducing query\n",
    "error_query = \"Process this error message\"\n",
    "print(f\"\\n2. Error-inducing query: '{error_query}'\")\n",
    "\n",
    "try:\n",
    "    result = simple_agent.invoke({\"messages\": error_query})\n",
    "    print(f\"   Simple agent: ✓ Handled gracefully\")\n",
    "except Exception as e:\n",
    "    print(f\"   Simple agent: ✗ Failed - {type(e).__name__}\")\n",
    "\n",
    "try:\n",
    "    result = advanced_agent.invoke({\"messages\": error_query})\n",
    "    print(f\"   Advanced agent: ✓ Handled gracefully\")\n",
    "    print(f\"   Response: {result['messages'][-1].content[:100]}...\")\n",
    "except Exception as e:\n",
    "    print(f\"   Advanced agent: ✗ Failed - {type(e).__name__}\")\n"
   ]
  },
  {
   "cell_type": "markdown",
   "metadata": {},
   "source": [
    "## Advanced ToolNode Features\n",
    "\n",
    "The ToolNode class offers many configuration options:"
   ]
  },
  {
   "cell_type": "code",
   "execution_count": null,
   "metadata": {},
   "outputs": [],
   "source": [
    "print(\"=== Advanced ToolNode Configuration Options ===\")\n",
    "\n",
    "# Example of more advanced ToolNode configuration\n",
    "advanced_tool_node = ToolNode(\n",
    "    tools=[tools.web_search, tools.calculate, tools.analyze_text],\n",
    "    \n",
    "    # Custom error message\n",
    "    handle_tool_errors=(\n",
    "        \"I encountered an issue with that tool. \"\n",
    "        \"Let me try a different approach or you can rephrase your request.\"\n",
    "    ),\n",
    "    \n",
    "    # Additional configuration could include:\n",
    "    # - Custom tool selection logic\n",
    "    # - Tool execution timeouts\n",
    "    # - Result validation\n",
    "    # - Logging and monitoring\n",
    ")\n",
    "\n",
    "production_agent = create_agent(model, tools=advanced_tool_node)\n",
    "\n",
    "print(\"✓ Production-ready agent created with:\")\n",
    "print(\"  - Custom error messages\")\n",
    "print(\"  - Multiple tools configured\")\n",
    "print(\"  - Robust error handling\")\n",
    "print(\"  - Ready for production deployment\")"
   ]
  },
  {
   "cell_type": "markdown",
   "metadata": {},
   "source": [
    "## Tool Organization Strategies\n",
    "\n",
    "For larger applications, consider organizing tools by category:"
   ]
  },
  {
   "cell_type": "code",
   "execution_count": null,
   "metadata": {},
   "outputs": [],
   "source": [
    "print(\"=== Tool Organization Strategies ===\")\n",
    "\n",
    "# Organize tools by category\n",
    "search_tools = [tools.web_search, tools.latest_news]\n",
    "analysis_tools = [tools.analyze_data, tools.analyze_text]\n",
    "utility_tools = [tools.calculate, tools.extract_contact]\n",
    "preference_tools = [tools.save_user_preference, tools.get_user_preference]\n",
    "\n",
    "# Create specialized agents for different purposes\n",
    "search_agent = create_agent(\n",
    "    model,\n",
    "    tools=ToolNode(\n",
    "        tools=search_tools,\n",
    "        handle_tool_errors=\"Search functionality encountered an issue. Let me try alternative search methods.\"\n",
    "    )\n",
    ")\n",
    "\n",
    "analysis_agent = create_agent(\n",
    "    model,\n",
    "    tools=ToolNode(\n",
    "        tools=analysis_tools,\n",
    "        handle_tool_errors=\"Analysis tools encountered an issue. Please check your data format and try again.\"\n",
    "    )\n",
    ")\n",
    "\n",
    "# General purpose agent with all tools\n",
    "general_agent = create_agent(\n",
    "    model,\n",
    "    tools=ToolNode(\n",
    "        tools=search_tools + analysis_tools + utility_tools + preference_tools,\n",
    "        handle_tool_errors=\"I encountered an issue with that operation. Let me try a different approach.\"\n",
    "    )\n",
    ")\n",
    "\n",
    "print(\"✓ Created specialized agents:\")\n",
    "print(f\"  - Search agent: {len(search_tools)} tools\")\n",
    "print(f\"  - Analysis agent: {len(analysis_tools)} tools\")\n",
    "print(f\"  - General agent: {len(search_tools + analysis_tools + utility_tools + preference_tools)} tools\")"
   ]
  },
  {
   "cell_type": "markdown",
   "metadata": {},
   "source": [
    "## Testing Specialized Agents"
   ]
  },
  {
   "cell_type": "code",
   "execution_count": null,
   "metadata": {},
   "outputs": [],
   "source": [
    "print(\"=== Testing Specialized Agents ===\")\n",
    "\n",
    "# Test search agent\n",
    "print(\"\\n1. Testing Search Agent:\")\n",
    "search_query = \"Find information about machine learning\"\n",
    "try:\n",
    "    search_result = search_agent.invoke({\"messages\": search_query})\n",
    "    print(\"   ✓ Search agent completed successfully\")\n",
    "except Exception as e:\n",
    "    print(f\"   ✗ Search agent failed: {e}\")\n",
    "\n",
    "# Test analysis agent\n",
    "print(\"\\n2. Testing Analysis Agent:\")\n",
    "analysis_query = \"Analyze this text: The quick brown fox jumps over the lazy dog\"\n",
    "try:\n",
    "    analysis_result = analysis_agent.invoke({\"messages\": analysis_query})\n",
    "    print(\"   ✓ Analysis agent completed successfully\")\n",
    "except Exception as e:\n",
    "    print(f\"   ✗ Analysis agent failed: {e}\")\n",
    "\n",
    "# Test general agent with mixed query\n",
    "print(\"\\n3. Testing General Agent:\")\n",
    "mixed_query = \"Search for Python tutorials, then calculate 15 * 23, and analyze the text 'Hello World'\"\n",
    "try:\n",
    "    general_result = general_agent.invoke({\"messages\": mixed_query})\n",
    "    print(\"   ✓ General agent completed successfully\")\n",
    "except Exception as e:\n",
    "    print(f\"   ✗ General agent failed: {e}\")"
   ]
  },
  {
   "cell_type": "markdown",
   "metadata": {},
   "source": [
    "## Best Practices Summary\n",
    "\n",
    "### When to Use Simple Tool Lists\n",
    "- **Prototyping and experimentation**\n",
    "- **Simple applications** with basic tool needs\n",
    "- **Learning and tutorials**\n",
    "- **Quick demos** and proof-of-concepts\n",
    "\n",
    "### When to Use Advanced ToolNode\n",
    "- **Production applications**\n",
    "- **Error-prone environments**\n",
    "- **Complex tool interactions**\n",
    "- **Applications requiring robustness**\n",
    "- **Custom error handling needs**\n",
    "\n",
    "### Tool Organization Guidelines\n",
    "\n",
    "1. **Group by Function**: Search, analysis, utility tools\n",
    "2. **Separate by Domain**: Industry-specific tool sets\n",
    "3. **Consider Performance**: Frequently used vs. specialized tools\n",
    "4. **Plan for Scale**: Modular tool architecture\n",
    "\n",
    "### Error Handling Strategies\n",
    "\n",
    "1. **Graceful Degradation**: Continue operation when possible\n",
    "2. **Informative Messages**: Help users understand what went wrong\n",
    "3. **Retry Logic**: Allow agents to attempt alternative approaches\n",
    "4. **Logging**: Track errors for debugging and improvement\n",
    "\n",
    "### Configuration Tips\n",
    "\n",
    "1. **Start Simple**: Begin with basic tool lists\n",
    "2. **Add Complexity Gradually**: Implement advanced features as needed\n",
    "3. **Test Error Scenarios**: Ensure robust behavior under failure\n",
    "4. **Monitor in Production**: Track tool usage and errors\n",
    "5. **Document Tool Behavior**: Clear descriptions for maintenance\n",
    "\n",
    "## Conclusion\n",
    "\n",
    "Tool configuration is crucial for building reliable agents:\n",
    "- **Simple lists** work great for getting started\n",
    "- **ToolNode** provides production-ready robustness\n",
    "- **Error handling** prevents agent crashes\n",
    "- **Organization** improves maintainability\n",
    "- **Specialization** can improve performance"
   ]
  }
 ],
 "metadata": {
  "kernelspec": {
   "display_name": "Python 3",
   "language": "python",
   "name": "python3"
  },
  "language_info": {
   "codemirror_mode": {
    "name": "ipython",
    "version": 3
   },
   "file_extension": ".py",
   "mimetype": "text/x-python",
   "name": "python",
   "nbconvert_exporter": "python",
   "pygments_lexer": "ipython3",
   "version": "3.8.0"
  }
 },
 "nbformat": 4,
 "nbformat_minor": 4
}